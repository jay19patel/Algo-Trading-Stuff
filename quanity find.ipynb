{
 "cells": [
  {
   "cell_type": "raw",
   "id": "1c58e073-c349-4c8f-9bb8-f2bc90788db2",
   "metadata": {},
   "source": [
    "Manage your position size.\n",
    "Focus on your timeframe.\n",
    "Evaluate potential trading scenarios.\n",
    "Manage your stop losses and limit orders.\n",
    "Use different accounts for different trading strategies.\n",
    "Remove P&L from your trading platform."
   ]
  },
  {
   "cell_type": "raw",
   "id": "0cdafc23-e2bf-4fda-991e-5158b1256d57",
   "metadata": {},
   "source": [
    "capital no upyog kari ne 3 day tred thava joyye with all loss\n",
    "capital/2 = Tred margine per day\n",
    "day_margin/2 = per Tred margin (2 Tred per day) with max loss = 30%-35%\n",
    "for Last day we use out saved margine from losses "
   ]
  },
  {
   "cell_type": "code",
   "execution_count": 89,
   "id": "a5a5ff3e-d5cc-493e-b16d-0008ff49d313",
   "metadata": {},
   "outputs": [
    {
     "name": "stdout",
     "output_type": "stream",
     "text": [
      "LOT SIZE : 3\n",
      "SL PRICE: 35.0\n",
      "TARGET PRICE: 75.0\n"
     ]
    }
   ],
   "source": [
    "capital = 2500\n",
    "price_per_lot = 50\n",
    "quantity_per_lot = 15\n",
    "lot_size = int(capital/(quantity_per_lot*price_per_lot))\n",
    "per_lot_price = price_per_lot*quantity_per_lot\n",
    "per_lot_risk = per_lot_price*0.3\n",
    "exit_SL_price = (per_lot_risk*price_per_lot )/ per_lot_price\n",
    "exit_RW_price = price_per_lot*0.5\n",
    "print(\"LOT SIZE :\",lot_size)\n",
    "print(\"SL PRICE:\",price_per_lot - exit_SL_price)\n",
    "print(\"TARGET PRICE:\",exit_RW_price + price_per_lot)"
   ]
  },
  {
   "cell_type": "code",
   "execution_count": null,
   "id": "74932498-5111-436c-9c37-404777094b4d",
   "metadata": {},
   "outputs": [],
   "source": []
  }
 ],
 "metadata": {
  "kernelspec": {
   "display_name": "Python 3 (ipykernel)",
   "language": "python",
   "name": "python3"
  },
  "language_info": {
   "codemirror_mode": {
    "name": "ipython",
    "version": 3
   },
   "file_extension": ".py",
   "mimetype": "text/x-python",
   "name": "python",
   "nbconvert_exporter": "python",
   "pygments_lexer": "ipython3",
   "version": "3.11.3"
  }
 },
 "nbformat": 4,
 "nbformat_minor": 5
}
