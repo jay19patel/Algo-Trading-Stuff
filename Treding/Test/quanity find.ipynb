{
 "cells": [
  {
   "cell_type": "raw",
   "id": "1c58e073-c349-4c8f-9bb8-f2bc90788db2",
   "metadata": {},
   "source": [
    "Manage your position size.\n",
    "Focus on your timeframe.\n",
    "Evaluate potential trading scenarios.\n",
    "Manage your stop losses and limit orders.\n",
    "Use different accounts for different trading strategies.\n",
    "Remove P&L from your trading platform."
   ]
  },
  {
   "cell_type": "code",
   "execution_count": 11,
   "id": "a4104f5e-05be-4ccf-aef8-9e0695f19368",
   "metadata": {},
   "outputs": [],
   "source": [
    "capital = 10000\n",
    "strike_price = 100\n",
    "lot_size = 15"
   ]
  },
  {
   "cell_type": "code",
   "execution_count": null,
   "id": "0205fc2b-81c7-4ba7-8f55-bcfdad5cd1a5",
   "metadata": {},
   "outputs": [],
   "source": []
  }
 ],
 "metadata": {
  "kernelspec": {
   "display_name": "Python 3 (ipykernel)",
   "language": "python",
   "name": "python3"
  },
  "language_info": {
   "codemirror_mode": {
    "name": "ipython",
    "version": 3
   },
   "file_extension": ".py",
   "mimetype": "text/x-python",
   "name": "python",
   "nbconvert_exporter": "python",
   "pygments_lexer": "ipython3",
   "version": "3.11.3"
  }
 },
 "nbformat": 4,
 "nbformat_minor": 5
}
