{
 "cells": [
  {
   "cell_type": "markdown",
   "id": "5f6a7fb8-d411-4ed0-bd7b-74c5b7b2ec1c",
   "metadata": {},
   "source": [
    "## All Import Modules"
   ]
  },
  {
   "cell_type": "code",
   "execution_count": 1,
   "id": "dfa53e8b-7139-46f0-971f-db021cb2fb3d",
   "metadata": {},
   "outputs": [],
   "source": [
    "import yfinance as yf\n",
    "import datetime\n",
    "import numpy as np\n",
    "from ta import momentum, trend\n",
    "import pandas as pd"
   ]
  },
  {
   "cell_type": "markdown",
   "id": "ee8694cf-ca74-4ee1-a222-a329f9b0b20a",
   "metadata": {},
   "source": [
    "## MENUPLIATE INPUT DATA"
   ]
  },
  {
   "cell_type": "raw",
   "id": "e43d9a7d-6f6d-4fa9-8d9e-5dadfc5ed740",
   "metadata": {},
   "source": [
    "Currently we use HDFCBANK dataframe to easy to  code"
   ]
  },
  {
   "cell_type": "code",
   "execution_count": 2,
   "id": "78e478a0-6a68-46c4-b43f-6268e8c32aba",
   "metadata": {},
   "outputs": [],
   "source": [
    "\n",
    "def Main_Dataframe(symbol):\n",
    "    # ------------------------------------ DAY TIME FRAME -----------------------------------------------------------\n",
    "    ticker = yf.Ticker(symbol)\n",
    "    day_df = ticker.history(period=f\"80d\", interval=\"1d\")\n",
    "    \n",
    "    # Reset the index and convert the 'Date' column to date format\n",
    "    day_df.reset_index(inplace=True)\n",
    "    day_df['Date'] = day_df['Date'].dt.date\n",
    "    \n",
    "    # Calculate technical indicators\n",
    "    day_df['Day_10EMA'] = trend.EMAIndicator(day_df['Close'], window=10).ema_indicator()\n",
    "    \n",
    "    day_df['Day_RSI'] = momentum.RSIIndicator(day_df['Close'], window=3).rsi()\n",
    "    day_df['Day_RSI_EMA'] = trend.EMAIndicator(day_df['Day_RSI'], window=6).ema_indicator()\n",
    "\n",
    "    # -----------ADD EXTRA INDICATORS HERE --------------\n",
    "    day_df['Day_Trend'] = np.select(\n",
    "    [day_df['Day_10EMA'] > day_df['Day_10EMA'].shift(1),\n",
    "     day_df['Day_10EMA'] < day_df['Day_10EMA'].shift(1)],\n",
    "    ['Uptrend', 'Downtrend'],'Sideways')\n",
    "    # Rename columns and drop unnecessary columns\n",
    "    day_df.rename(columns={'Open': 'Day_Open', 'High': 'Day_High', 'Low': 'Day_Low', 'Close': 'Day_Close'}, inplace=True)\n",
    "    day_df.drop(columns=['Volume', 'Dividends', 'Stock Splits','Day_10EMA','Day_RSI'], inplace=True)\n",
    "    day_df.dropna(inplace=True)\n",
    "\n",
    "    # ------------------------------------ 5 MIN TIME FRAME -----------------------------------------------------------\n",
    "    previes_days = 50\n",
    "    df = ticker.history(period=f\"{previes_days}d\", interval=\"5m\")\n",
    "    df.reset_index(inplace=True)\n",
    "    df['Date'] = df['Datetime'].dt.date\n",
    "    df['Time'] = df['Datetime'].dt.time\n",
    "    \n",
    "    df.drop(columns=['Volume', 'Dividends', 'Stock Splits','Datetime'], inplace=True)\n",
    "    df.dropna(inplace=True)\n",
    "    # -----------ADD EXTRA INDICATORS HERE --------------\n",
    "    df['5EMA'] = trend.EMAIndicator(df['Close'], window=5).ema_indicator()\n",
    "    df['15EMA'] = trend.EMAIndicator(df['Close'], window=15).ema_indicator()\n",
    "    df['Candle'] = np.where(df['Close'] > df['Open'], 'Green', 'Red')\n",
    "    \n",
    "    df['Prev_5EMA'] = df['5EMA'].shift(1)\n",
    "    df['Prev_15EMA'] = df['15EMA'].shift(1)\n",
    "\n",
    "    df['RSI'] = momentum.RSIIndicator(df['Close'], window=3).rsi()\n",
    "    df['RSI_EMA'] = trend.EMAIndicator(df['RSI'], window=6).ema_indicator()\n",
    "    \n",
    "   \n",
    "    short_ema =trend.EMAIndicator(df[\"Close\"], window=5)\n",
    "    long_ema = trend.EMAIndicator(df[\"Close\"], window=15)\n",
    "    \n",
    "    df[\"5EMA\"] = short_ema.ema_indicator()\n",
    "    df[\"15EMA\"] = long_ema.ema_indicator()\n",
    "    \n",
    "    # Determine the perfect trend based on EMA crossovers\n",
    "    df[\"Trend\"] = \"Sideways\"  # Default to Sideways\n",
    "    df.loc[(df[\"5EMA\"] > df[\"15EMA\"]) & (df[\"5EMA\"].shift(1) <= df[\"15EMA\"].shift(1)), \"Trend\"] = \"Uptrend\"\n",
    "    df.loc[(df[\"5EMA\"] < df[\"15EMA\"]) & (df[\"5EMA\"].shift(1) >= df[\"15EMA\"].shift(1)), \"Trend\"] = \"Downtrend\"\n",
    "\n",
    "    first_candle_high = df.groupby('Date')['High'].first()\n",
    "    first_candle_low = df.groupby('Date')['Low'].first()\n",
    "    \n",
    "    # Create a new column for the first candle's high and low\n",
    "    df['First_Candle_High'] = df['Date'].map(first_candle_high)\n",
    "    df['First_Candle_Low'] = df['Date'].map(first_candle_low)\n",
    "\n",
    "    # ------------------------------------ MERGE DATA FRAME -----------------------------------------------------------\n",
    "    \n",
    "    merged_df = day_df.merge(df, on='Date', how='inner')\n",
    "    merged_df.dropna(inplace=True)\n",
    "    merged_df['DateTime'] = pd.to_datetime(merged_df['Date'].astype(str) + ' ' + merged_df['Time'].astype(str))\n",
    "    merged_df.drop(['Date', 'Time'], axis=1, inplace=True)\n",
    "    return merged_df\n",
    "    # return day_df\n",
    "    # return df\n",
    "\n",
    "data = Main_Dataframe(\"^NSEI\")\n",
    "# data = Main_Dataframe(\"HDFCBANK.BO\")\n",
    "# data.tail(5)"
   ]
  },
  {
   "cell_type": "code",
   "execution_count": 3,
   "id": "bf2fcc75-9188-4640-88d3-f5c044df6591",
   "metadata": {},
   "outputs": [],
   "source": [
    "all_columsn = ['Day_Open', 'Day_High', 'Day_Low', 'Day_Close', 'Day_RSI_EMA',\n",
    "        'Open', 'High', 'Low', 'Close', '5EMA', '15EMA',\n",
    "       'Prev_5EMA', 'Prev_15EMA', 'RSI', 'RSI_EMA', 'First_Candle_High', 'First_Candle_Low']\n",
    "day_all_columsn = ['Date', 'Day_Open', 'Day_High', 'Day_Low', 'Day_Close', 'Day_RSI_EMA']\n",
    "# data.iloc[-2]"
   ]
  },
  {
   "cell_type": "markdown",
   "id": "61e53e6c-c130-4f81-91e1-a2812f820a97",
   "metadata": {},
   "source": [
    "# Add Signals Columns"
   ]
  },
  {
   "cell_type": "code",
   "execution_count": 4,
   "id": "cfe442f9-8afe-45e5-ba20-9227dda1d3ee",
   "metadata": {},
   "outputs": [],
   "source": [
    "def Add_Signals(dfnew):\n",
    "    df = dfnew.copy()\n",
    "    df['Signal_Day_RSI'] = np.select([df['Day_RSI_EMA'] <= 30, df['Day_RSI_EMA'] >= 70],['CE', 'PE'],default='0')\n",
    "    \n",
    "    df['Signal_RSI'] = np.select([df['RSI_EMA'] <= 40, df['RSI_EMA'] >= 60],['CE', 'PE'],default='0')\n",
    "\n",
    "    ce_5ema = (df['High'].shift(1) < df['5EMA'].shift(1)) & (df['Close'] >= df['5EMA'])\n",
    "    pe_5ema = (df['Low'].shift(1) > df['5EMA'].shift(1)) & (df['Close'] <= df['5EMA'])\n",
    "    \n",
    "    df['Signal_5EMA'] = np.select([ce_5ema, pe_5ema],['CE', 'PE'], default='NONE')\n",
    "\n",
    "    ce_ema_crossover = (df['5EMA'] > df['15EMA']) & (df['5EMA'].shift(1) <= df['15EMA'].shift(1))\n",
    "    pe_ema_crossover = (df['5EMA'] < df['15EMA']) & (df['5EMA'].shift(1) >= df['15EMA'].shift(1))\n",
    "    \n",
    "    df['Signal_EMA_CROSSOVER'] = np.select([ce_ema_crossover, pe_ema_crossover],['CE', 'PE'], default='0')\n",
    "    \n",
    "    # df.drop(columns = all_columsn,inplace= True)\n",
    "    return df\n",
    "newdata = Add_Signals(data)"
   ]
  },
  {
   "cell_type": "markdown",
   "id": "c0abf4ca-2cd4-4a69-aee1-4dc4e1b4eecb",
   "metadata": {},
   "source": [
    "# ENTRY EXIT LOGIC"
   ]
  },
  {
   "cell_type": "code",
   "execution_count": 5,
   "id": "f1969933-65c2-4c3b-8133-e9cdccd2a899",
   "metadata": {},
   "outputs": [],
   "source": [
    "def CE_ENTRY(row):\n",
    "    status =  row['Signal_EMA_CROSSOVER'] == \"CE\"\n",
    "    return status\n",
    "    \n",
    "def CE_EXIT(row):\n",
    "    status =  row['Signal_EMA_CROSSOVER'] == \"PE\"\n",
    "    return status\n",
    "    \n",
    "def PE_ENTRY(row):\n",
    "    status =  row['Signal_EMA_CROSSOVER'] == \"PE\"\n",
    "    return status\n",
    "    \n",
    "def PE_EXIT(row):\n",
    "    status =  row['Signal_EMA_CROSSOVER'] == \"CE\"\n",
    "    return status\n",
    "    "
   ]
  },
  {
   "cell_type": "markdown",
   "id": "2af7b365-15b1-4d9f-a7ad-39ef9fe487c3",
   "metadata": {},
   "source": [
    "# VARIABLES "
   ]
  },
  {
   "cell_type": "code",
   "execution_count": 6,
   "id": "dd0abc1b-a3cc-4a53-9ee9-018874c6af3d",
   "metadata": {},
   "outputs": [
    {
     "name": "stdout",
     "output_type": "stream",
     "text": [
      "STATUS IS PE HOLDING 2023-11-24 15:25:00\n",
      "FINAL TOTAL: -14.859375\n",
      "Total CE  Tred : 131 || Positive : 97 | Nagative : 34\n",
      "Total PE  Tred : 131 || Positive : 104 | Nagative : 27\n",
      "Accuracy: 76.72%\n",
      "Total Tred : 262\n",
      "Total Positive Tred : 201\n",
      "Total Nagative Tred : 61\n"
     ]
    }
   ],
   "source": [
    "import pandas as pd\n",
    "import matplotlib.pyplot as plt\n",
    "\n",
    "inisal_amount = 0\n",
    "CE_HOLDING = \"No Trade\"\n",
    "PE_HOLDING = \"No Trade\"\n",
    "ce_current_position = 0\n",
    "pe_current_position = 0\n",
    "trades = []  # List to store trade information\n",
    "entry_time = None \n",
    "\n",
    "def Main_Strategy_Run(row):\n",
    "    global CE_HOLDING\n",
    "    global PE_HOLDING\n",
    "    global ce_current_position\n",
    "    global pe_current_position\n",
    "    global inisal_amount\n",
    "    global trades\n",
    "    global entry_time\n",
    "\n",
    "    if CE_ENTRY(row):\n",
    "        entry_price = row['Close']\n",
    "        ce_current_position = entry_price\n",
    "        CE_HOLDING = \"CE Entry\"\n",
    "        entry_time = row['DateTime']\n",
    "        # print(\"CE Entry\")\n",
    "\n",
    "    if CE_EXIT(row) and CE_HOLDING == \"CE Entry\":\n",
    "        exit_price = row['Close']\n",
    "        profit_loss = ce_current_position - exit_price\n",
    "        inisal_amount += profit_loss\n",
    "        CE_HOLDING = \"No Trade\"\n",
    "        exit_time = row['DateTime']\n",
    "        trade_time = (exit_time - entry_time).total_seconds() / 60.0\n",
    "        trades.append({\n",
    "            'Entry Time': entry_time,\n",
    "            'Exit Time': exit_time,\n",
    "            'Profit Loss': profit_loss,\n",
    "            'Amount': inisal_amount,\n",
    "            'Total Trade Time': trade_time,\n",
    "            'Symbol': 'CE'\n",
    "        })\n",
    "        # print(\"CE EXIT\", \"Profit/Loss:\", profit_loss)\n",
    "\n",
    "    if PE_ENTRY(row):\n",
    "        entry_price = row['Close']\n",
    "        pe_current_position = entry_price\n",
    "        PE_HOLDING = \"PE Entry\"\n",
    "        entry_time = row['DateTime']\n",
    "        # print(\"PE Entry\")\n",
    "\n",
    "    if PE_EXIT(row) and PE_HOLDING == \"PE Entry\":\n",
    "        exit_price = row['Close']\n",
    "        profit_loss = exit_price - pe_current_position\n",
    "        inisal_amount += profit_loss\n",
    "        PE_HOLDING = \"No Trade\"\n",
    "        exit_time = row['DateTime']\n",
    "        trade_time = (exit_time - entry_time).total_seconds() / 60.0\n",
    "        trades.append({\n",
    "            'Entry Time': entry_time,\n",
    "            'Exit Time': exit_time,\n",
    "            'Profit Loss': profit_loss,\n",
    "            'Amount': inisal_amount,\n",
    "            'Total Trade Time': trade_time,\n",
    "            'Symbol': 'PE'\n",
    "        })\n",
    "        # print(\"PE EXIT\", \"Profit/Loss:\", profit_loss)\n",
    "\n",
    "# Assuming newdata is your DataFrame\n",
    "newdata.apply(Main_Strategy_Run, axis=1)\n",
    "trades_df = pd.DataFrame(trades)\n",
    "\n",
    "\n",
    "if PE_HOLDING != \"No Trade\":\n",
    "    print(\"STATUS IS CE HOLDING\", newdata.iloc[-1]['DateTime'])\n",
    "if CE_HOLDING != \"No Trade\":\n",
    "    print(\"STATUS IS PE HOLDING\", newdata.iloc[-1]['DateTime'])\n",
    "\n",
    "\n",
    "print(\"FINAL TOTAL:\", inisal_amount)\n",
    "# Calculate accuracy\n",
    "positive_trades = trades_df[trades_df['Profit Loss'] > 0]\n",
    "negative_trades = trades_df[trades_df['Profit Loss'] < 0]\n",
    "accuracy = len(positive_trades) / len(trades_df) * 100\n",
    "\n",
    "\n",
    "#  PE CE ANALYSIS\n",
    "ce_trades = trades_df[trades_df['Symbol'] == 'CE']\n",
    "pe_trades = trades_df[trades_df['Symbol'] == 'PE']\n",
    "ce_Positive = ce_trades[ce_trades['Profit Loss'] > 0].shape[0]\n",
    "ce_Nagetive = ce_trades[ce_trades['Profit Loss'] < 0].shape[0]\n",
    "pe_Positive = pe_trades[pe_trades['Profit Loss'] > 0].shape[0]\n",
    "pe_Nagetive = pe_trades[pe_trades['Profit Loss'] < 0].shape[0]\n",
    "print(\"Total CE  Tred :\",ce_trades.shape[0] ,\"|| Positive :\",ce_Positive ,\"| Nagative :\",ce_Nagetive)\n",
    "print(\"Total PE  Tred :\",pe_trades.shape[0] ,\"|| Positive :\",pe_Positive ,\"| Nagative :\",pe_Nagetive)\n",
    "\n",
    "\n",
    "print(\"Accuracy: {:.2f}%\".format(accuracy))\n",
    "print(\"Total Tred :\",trades_df.shape[0])\n",
    "print(\"Total Positive Tred :\",positive_trades.shape[0])\n",
    "print(\"Total Nagative Tred :\",negative_trades.shape[0])\n"
   ]
  },
  {
   "cell_type": "code",
   "execution_count": 7,
   "id": "4ea0791c-fc99-4621-ae18-7b3e2821a651",
   "metadata": {},
   "outputs": [
    {
     "data": {
      "image/png": "[encoded data removed]",
      "text/plain": [
       "<Figure size 300x300 with 1 Axes>"
      ]
     },
     "metadata": {},
     "output_type": "display_data"
    }
   ],
   "source": [
    "labels = ['Positive Trades', 'Negative Trades']\n",
    "sizes = [positive_trades.shape[0], negative_trades.shape[0]]\n",
    "colors = ['green', 'red']\n",
    "plt.figure(figsize=(3, 3))\n",
    "plt.pie(sizes, labels=labels, colors=colors, autopct='%1.1f%%', startangle=90)\n",
    "plt.title('Positive and Negative Trades Distribution')\n",
    "plt.show()"
   ]
  },
  {
   "cell_type": "code",
   "execution_count": 8,
   "id": "213144a3-2332-4923-b862-7ee8f0359a86",
   "metadata": {},
   "outputs": [],
   "source": [
    "# trades_df"
   ]
  },
  {
   "cell_type": "code",
   "execution_count": 9,
   "id": "97e40b7f-83db-4063-a32e-789bb2408701",
   "metadata": {},
   "outputs": [
    {
     "data": {
      "image/png": "[encoded data removed]",
      "text/plain": [
       "<Figure size 640x480 with 1 Axes>"
      ]
     },
     "metadata": {},
     "output_type": "display_data"
    }
   ],
   "source": [
    "plt.plot(trades_df['Amount'])\n",
    "plt.title('Inisal Amount Over Time')\n",
    "plt.xlabel('Date and Time')\n",
    "plt.ylabel('Amount')\n",
    "plt.show()"
   ]
  },
  {
   "cell_type": "code",
   "execution_count": null,
   "id": "3f9066a4-3e8d-4dbd-b7c7-13695c360569",
   "metadata": {},
   "outputs": [],
   "source": []
  },
  {
   "cell_type": "code",
   "execution_count": null,
   "id": "c59804ef-ba61-4770-aeb3-bf8df0cb9e5a",
   "metadata": {},
   "outputs": [],
   "source": []
  }
 ],
 "metadata": {
  "kernelspec": {
   "display_name": "Python 3 (ipykernel)",
   "language": "python",
   "name": "python3"
  },
  "language_info": {
   "codemirror_mode": {
    "name": "ipython",
    "version": 3
   },
   "file_extension": ".py",
   "mimetype": "text/x-python",
   "name": "python",
   "nbconvert_exporter": "python",
   "pygments_lexer": "ipython3",
   "version": "3.11.3"
  }
 },
 "nbformat": 4,
 "nbformat_minor": 5
}
