{
 "cells": [
  {
   "cell_type": "code",
   "execution_count": 9,
   "id": "8bf8aad4-19fa-463e-a477-203eeb092489",
   "metadata": {},
   "outputs": [],
   "source": [
    "import pandas as pd\n",
    "import requests"
   ]
  },
  {
   "cell_type": "code",
   "execution_count": 10,
   "id": "3a59a8e2-666f-49db-bea5-fae40d2d0637",
   "metadata": {},
   "outputs": [],
   "source": [
    "import requests\n",
    "url = \"https://www.nseindia.com/api/equity-stockIndices?index=NIFTY%2050\"\n",
    "base_headers = {\n",
    "    'Host': 'www.nseindia.com',\n",
    "    'Referer': https://groww.in/stocks/hdfc-bank-ltd,\n",
    "    'X-Requested-With': 'XMLHttpRequest',\n",
    "    'pragma': 'no-cache',\n",
    "    'sec-fetch-dest': 'empty',\n",
    "    'sec-fetch-mode': 'cors',\n",
    "    'sec-fetch-site': 'same-origin',\n",
    "    'User-Agent': 'Mozilla/5.0 (Windows NT 10.0; Win64; x64) AppleWebKit/537.36 (KHTML, like Gecko) Chrome/80.0.3987.132 Safari/537.36',\n",
    "    'Accept': '*/*',\n",
    "    'Accept-Encoding': 'gzip, deflate, br',\n",
    "    'Accept-Language': 'en-GB,en-US;q=0.9,en;q=0.8',\n",
    "    'Cache-Control': 'no-cache',\n",
    "    'Connection': 'keep-alive',\n",
    "}\n",
    "\n",
    "response = requests.get(url, headers=base_headers)\n",
    "\n",
    "if response.status_code == 200:\n",
    "    data = response.json()  # Assuming the response is in JSON format\n",
    "else:\n",
    "    print(f\"Failed to retrieve data. Status code: {response.status_code}\")\n"
   ]
  },
  {
   "cell_type": "code",
   "execution_count": 11,
   "id": "c5835a07-dc45-417f-aa68-ed5a0b27c8d1",
   "metadata": {},
   "outputs": [
    {
     "data": {
      "text/plain": [
       "dict_keys(['name', 'advance', 'timestamp', 'data', 'metadata', 'marketStatus', 'date30dAgo', 'date365dAgo'])"
      ]
     },
     "execution_count": 11,
     "metadata": {},
     "output_type": "execute_result"
    }
   ],
   "source": [
    "data.keys()"
   ]
  },
  {
   "cell_type": "code",
   "execution_count": 12,
   "id": "db57cf1f-28ae-4db9-8295-078df32b25b8",
   "metadata": {},
   "outputs": [
    {
     "data": {
      "text/plain": [
       "{'declines': '14', 'advances': '36', 'unchanged': '0'}"
      ]
     },
     "execution_count": 12,
     "metadata": {},
     "output_type": "execute_result"
    }
   ],
   "source": [
    "data['advance']"
   ]
  },
  {
   "cell_type": "code",
   "execution_count": 13,
   "id": "281aa06d-dbcc-4313-800d-4299663eb910",
   "metadata": {},
   "outputs": [
    {
     "name": "stdout",
     "output_type": "stream",
     "text": [
      "Changes : 13.05\n",
      "Chnage %: 1.42\n",
      "Name : ICICI Bank Limited\n",
      "Total Volume : 7146961\n",
      "Total Value : 6657965928.38\n",
      "Total Capital: 6537271618536\n",
      "------------------------------\n",
      "{'priority': 0, 'symbol': 'ICICIBANK', 'identifier': 'ICICIBANKEQN', 'series': 'EQ', 'open': 928.55, 'dayHigh': 934.5, 'dayLow': 926.8, 'lastPrice': 933, 'previousClose': 919.95, 'change': 13.05, 'pChange': 1.42, 'totalTradedVolume': 7146961, 'totalTradedValue': 6657965928.38, 'lastUpdateTime': '03-Nov-2023 15:59:06', 'yearHigh': 1008.7, 'ffmc': 6537271618536, 'yearLow': 796, 'nearWKH': 7.504709031426593, 'nearWKL': -17.21105527638191, 'perChange365d': 2.77, 'date365dAgo': '03-Nov-2022', 'chart365dPath': 'https://nsearchives.nseindia.com/365d/ICICIBANK-EQ.svg', 'date30dAgo': '04-Oct-2023', 'perChange30d': 0.4, 'chart30dPath': 'https://nsearchives.nseindia.com/30d/ICICIBANK-EQ.svg', 'chartTodayPath': 'https://nsearchives.nseindia.com/today/ICICIBANKEQN.svg', 'meta': {'symbol': 'ICICIBANK', 'companyName': 'ICICI Bank Limited', 'industry': 'BANKS', 'activeSeries': ['EQ'], 'debtSeries': [], 'tempSuspendedSeries': ['E2', 'IL'], 'isFNOSec': True, 'isCASec': False, 'isSLBSec': True, 'isDebtSec': False, 'isSuspended': False, 'isETFSec': False, 'isDelisted': False, 'isin': 'INE090A01021'}}\n",
      "Changes : 7.05\n",
      "Chnage %: 1.23\n",
      "Name : State Bank of India\n",
      "Total Volume : 11371371\n",
      "Total Value : 6565261046.85\n",
      "Total Capital: 2222536270677.72\n",
      "------------------------------\n",
      "{'priority': 0, 'symbol': 'SBIN', 'identifier': 'SBINEQN', 'series': 'EQ', 'open': 576, 'dayHigh': 579.5, 'dayLow': 573.45, 'lastPrice': 579.15, 'previousClose': 572.1, 'change': 7.05, 'pChange': 1.23, 'totalTradedVolume': 11371371, 'totalTradedValue': 6565261046.85, 'lastUpdateTime': '03-Nov-2023 15:59:09', 'yearHigh': 629.55, 'ffmc': 2222536270677.72, 'yearLow': 499.35, 'nearWKH': 8.005718370264473, 'nearWKL': -15.980775007509752, 'perChange365d': -1.15, 'date365dAgo': '03-Nov-2022', 'chart365dPath': 'https://nsearchives.nseindia.com/365d/SBIN-EQ.svg', 'date30dAgo': '04-Oct-2023', 'perChange30d': -1.38, 'chart30dPath': 'https://nsearchives.nseindia.com/30d/SBIN-EQ.svg', 'chartTodayPath': 'https://nsearchives.nseindia.com/today/SBINEQN.svg', 'meta': {'symbol': 'SBIN', 'companyName': 'State Bank of India', 'industry': 'BANKS', 'activeSeries': ['EQ'], 'debtSeries': [], 'tempSuspendedSeries': ['IL', 'N1', 'N2', 'N3', 'N4', 'N5', 'N6'], 'isFNOSec': True, 'isCASec': False, 'isSLBSec': True, 'isDebtSec': False, 'isSuspended': False, 'isETFSec': False, 'isDelisted': False, 'isin': 'INE062A08066'}}\n",
      "Changes : 7.75\n",
      "Chnage %: 0.52\n",
      "Name : HDFC Bank Limited\n",
      "Total Volume : 9047670\n",
      "Total Value : 13456147207.5\n",
      "Total Capital: 11152981957124.21\n",
      "------------------------------\n",
      "{'priority': 0, 'symbol': 'HDFCBANK', 'identifier': 'HDFCBANKEQN', 'series': 'EQ', 'open': 1488, 'dayHigh': 1491.4, 'dayLow': 1481.65, 'lastPrice': 1484.5, 'previousClose': 1476.75, 'change': 7.75, 'pChange': 0.52, 'totalTradedVolume': 9047670, 'totalTradedValue': 13456147207.5, 'lastUpdateTime': '03-Nov-2023 15:59:38', 'yearHigh': 1757.5, 'ffmc': 11152981957124.21, 'yearLow': 1460.25, 'nearWKH': 15.533428165007113, 'nearWKL': -1.6606745420304743, 'perChange365d': -1.58, 'date365dAgo': '03-Nov-2022', 'chart365dPath': 'https://nsearchives.nseindia.com/365d/HDFCBANK-EQ.svg', 'date30dAgo': '04-Oct-2023', 'perChange30d': -2.99, 'chart30dPath': 'https://nsearchives.nseindia.com/30d/HDFCBANK-EQ.svg', 'chartTodayPath': 'https://nsearchives.nseindia.com/today/HDFCBANKEQN.svg', 'meta': {'symbol': 'HDFCBANK', 'companyName': 'HDFC Bank Limited', 'industry': 'BANKS', 'activeSeries': ['EQ'], 'debtSeries': [], 'tempSuspendedSeries': ['IL', 'W3'], 'isFNOSec': True, 'isCASec': False, 'isSLBSec': True, 'isDebtSec': False, 'isSuspended': False, 'isETFSec': False, 'isDelisted': False, 'isin': 'INE040A13013'}}\n",
      "Changes : 4.1\n",
      "Chnage %: 0.42\n",
      "Name : Axis Bank Limited\n",
      "Total Volume : 4268048\n",
      "Total Value : 4213886470.8799996\n",
      "Total Capital: 2737988964185.36\n",
      "------------------------------\n",
      "{'priority': 0, 'symbol': 'AXISBANK', 'identifier': 'AXISBANKEQN', 'series': 'EQ', 'open': 986, 'dayHigh': 991.4, 'dayLow': 981.5, 'lastPrice': 987.05, 'previousClose': 982.95, 'change': 4.1, 'pChange': 0.42, 'totalTradedVolume': 4268048, 'totalTradedValue': 4213886470.8799996, 'lastUpdateTime': '03-Nov-2023 15:59:30', 'yearHigh': 1047.5, 'ffmc': 2737988964185.36, 'yearLow': 814.3, 'nearWKH': 5.770883054892606, 'nearWKL': -21.214540095787793, 'perChange365d': 14.44, 'date365dAgo': '03-Nov-2022', 'chart365dPath': 'https://nsearchives.nseindia.com/365d/AXISBANK-EQ.svg', 'date30dAgo': '04-Oct-2023', 'perChange30d': -0.67, 'chart30dPath': 'https://nsearchives.nseindia.com/30d/AXISBANK-EQ.svg', 'chartTodayPath': 'https://nsearchives.nseindia.com/today/AXISBANKEQN.svg', 'meta': {'symbol': 'AXISBANK', 'companyName': 'Axis Bank Limited', 'industry': 'BANKS', 'activeSeries': ['EQ'], 'debtSeries': [], 'tempSuspendedSeries': ['IL'], 'isFNOSec': True, 'isCASec': False, 'isSLBSec': True, 'isDebtSec': False, 'isSuspended': False, 'isETFSec': False, 'isDelisted': False, 'isin': 'INE238A01034'}}\n",
      "Changes : -4.7\n",
      "Chnage %: -0.27\n",
      "Name : Kotak Mahindra Bank Limited\n",
      "Total Volume : 1558958\n",
      "Total Value : 2707847687.68\n",
      "Total Capital: 2548803880363.66\n",
      "------------------------------\n",
      "{'priority': 0, 'symbol': 'KOTAKBANK', 'identifier': 'KOTAKBANKEQN', 'series': 'EQ', 'open': 1740, 'dayHigh': 1744.25, 'dayLow': 1730.1, 'lastPrice': 1733, 'previousClose': 1737.7, 'change': -4.7, 'pChange': -0.27, 'totalTradedVolume': 1558958, 'totalTradedValue': 2707847687.68, 'lastUpdateTime': '03-Nov-2023 15:59:58', 'yearHigh': 2064.4, 'ffmc': 2548803880363.66, 'yearLow': 1643.5, 'nearWKH': 16.05309048633986, 'nearWKL': -5.445695162762397, 'perChange365d': -8.78, 'date365dAgo': '03-Nov-2022', 'chart365dPath': 'https://nsearchives.nseindia.com/365d/KOTAKBANK-EQ.svg', 'date30dAgo': '04-Oct-2023', 'perChange30d': 0.65, 'chart30dPath': 'https://nsearchives.nseindia.com/30d/KOTAKBANK-EQ.svg', 'chartTodayPath': 'https://nsearchives.nseindia.com/today/KOTAKBANKEQN.svg', 'meta': {'symbol': 'KOTAKBANK', 'companyName': 'Kotak Mahindra Bank Limited', 'industry': 'BANKS', 'activeSeries': ['EQ'], 'debtSeries': [], 'tempSuspendedSeries': ['IL'], 'isFNOSec': True, 'isCASec': False, 'isSLBSec': True, 'isDebtSec': False, 'isSuspended': False, 'isETFSec': False, 'isDelisted': False, 'isin': 'INE237A01028'}}\n"
     ]
    }
   ],
   "source": [
    "company_names_to_filter = ['HDFCBANK', 'ICICIBANK', 'SBIN','AXISBANK','KOTAKBANK']\n",
    "filtered_data = [entry for entry in data['data'] if any(name == entry.get('symbol', '') for name in company_names_to_filter)]\n",
    "for i in filtered_data:\n",
    "    # print(i)\n",
    "    print(\"Changes :\",i['change'])\n",
    "    print(\"Chnage %:\",i['pChange'])\n",
    "    print(\"Name :\",i['meta']['companyName'])\n",
    "    print(\"Total Volume :\",i['totalTradedVolume'])\n",
    "    print(\"Total Value :\",i['totalTradedValue'])\n",
    "    print(\"Total Capital:\",i['ffmc'])\n",
    "    print(\"------------------------------\")\n",
    "    print(i)"
   ]
  },
  {
   "cell_type": "code",
   "execution_count": null,
   "id": "074be5d8-fc13-4e4d-8e9a-b1c023436b55",
   "metadata": {},
   "outputs": [],
   "source": []
  },
  {
   "cell_type": "code",
   "execution_count": null,
   "id": "8a365525-f905-4e55-9836-a568c47df2b2",
   "metadata": {},
   "outputs": [],
   "source": []
  },
  {
   "cell_type": "code",
   "execution_count": null,
   "id": "781a5fa0-00dd-4c47-a299-308d6fdb7c23",
   "metadata": {},
   "outputs": [],
   "source": []
  },
  {
   "cell_type": "code",
   "execution_count": null,
   "id": "a3374958-a6e6-4b6b-89d2-59c164aa35cc",
   "metadata": {},
   "outputs": [],
   "source": []
  }
 ],
 "metadata": {
  "kernelspec": {
   "display_name": "Python 3 (ipykernel)",
   "language": "python",
   "name": "python3"
  },
  "language_info": {
   "codemirror_mode": {
    "name": "ipython",
    "version": 3
   },
   "file_extension": ".py",
   "mimetype": "text/x-python",
   "name": "python",
   "nbconvert_exporter": "python",
   "pygments_lexer": "ipython3",
   "version": "3.11.3"
  }
 },
 "nbformat": 4,
 "nbformat_minor": 5
}
