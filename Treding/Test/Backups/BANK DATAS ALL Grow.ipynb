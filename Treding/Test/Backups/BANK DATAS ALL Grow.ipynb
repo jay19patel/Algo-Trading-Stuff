{
 "cells": [
  {
   "cell_type": "code",
   "execution_count": 1,
   "id": "f942d0e6-e5dd-4628-b14c-9b3e62a1491d",
   "metadata": {},
   "outputs": [],
   "source": [
    "import requests\n",
    "bank_name = \"hdfc-bank-ltd\"\n",
    "# bank_name = \"axis-bank-ltd\"\n",
    "# bank_name = \"icici-bank-ltd\"\n",
    "# bank_name = \"state-bank-of-india\"\n",
    "# bank_name = \"kotak-mahindra-bank-ltd\"\n",
    "# bank_name = \"indusind-bank-ltd\"\n",
    "\n",
    "\n",
    "url = f\"https://groww.in/v1/api/stocks_data/v1/company/search_id/{bank_name}?page=0&size=10\"\n",
    "\n",
    "payload = {}\n",
    "headers = {\n",
    "  'Cookie': '__cf_bm=B5Za85kVmhwKjkBaN92fqEIxDsG4HHUV._ZAeEsT79E-1699092305-0-AUx/FYvsBeG9PV4+N9QIz7pAzCJksTYWxMFz7Pnmi24JQNLquzkWvBN3PCIbm0S9e+VXdaNJ/HF9FI7TEqOcayA=; __cfruid=3cde31bc5d8902419d9c1d07f08bf9b2e256e567-1699085758; _cfuvid=8VkNXWB94odn3TUSICzjDQQmXbESR6kgweYMWYErmuU-1699085758062-0-604800000'\n",
    "}\n",
    "\n",
    "response = requests.request(\"GET\", url, headers=headers, data=payload)\n",
    "\n",
    "data  = response.json()\n"
   ]
  },
  {
   "cell_type": "code",
   "execution_count": 2,
   "id": "5074c7f9-2410-4d5b-bb28-cde90d3b4c6d",
   "metadata": {},
   "outputs": [
    {
     "data": {
      "text/plain": [
       "dict_keys(['header', 'details', 'stats', 'fundamentals', 'shareHoldingPattern', 'fundsInvested', 'priceData', 'financialStatement', 'expertRating', 'similarAssets'])"
      ]
     },
     "execution_count": 2,
     "metadata": {},
     "output_type": "execute_result"
    }
   ],
   "source": [
    "data.keys()"
   ]
  },
  {
   "cell_type": "code",
   "execution_count": 3,
   "id": "c5f67028-7db8-47b1-9b20-425869e90bca",
   "metadata": {},
   "outputs": [
    {
     "data": {
      "text/plain": [
       "'HDFC Bank'"
      ]
     },
     "execution_count": 3,
     "metadata": {},
     "output_type": "execute_result"
    }
   ],
   "source": [
    "data['details']['fullName']"
   ]
  },
  {
   "cell_type": "code",
   "execution_count": 4,
   "id": "b6349fdc-c6cc-48ee-bf36-60e77ab8f20a",
   "metadata": {},
   "outputs": [
    {
     "data": {
      "text/plain": [
       "{'marketCap': 1119720.5,\n",
       " 'pbRatio': 2.67,\n",
       " 'peRatio': 20.55,\n",
       " 'divYield': 0.95,\n",
       " 'bookValue': 552.5409473,\n",
       " 'epsTtm': 71.85,\n",
       " 'roe': 13.003377775219557,\n",
       " 'industryPe': 12.951888440925332,\n",
       " 'cappedType': 'Large Cap',\n",
       " 'dividendYieldInPercent': 0.95,\n",
       " 'faceValue': 1,\n",
       " 'operatingProfitMargin': 83.01347029217578,\n",
       " 'netProfitMargin': 24.901789738225887,\n",
       " 'evToSales': 0.0,\n",
       " 'evToEbitda': 20.05,\n",
       " 'earningsYield': 0.9467925254561295,\n",
       " 'sectorPb': 1.8799780203362915,\n",
       " 'sectorDivYield': 1.0253012225218534,\n",
       " 'sectorRoe': 13.928828172268359,\n",
       " 'sectorRoce': 5.169898882072727,\n",
       " 'priceToOcf': -24.554805642962513,\n",
       " 'priceToFcf': 10.9,\n",
       " 'roic': 0.0}"
      ]
     },
     "execution_count": 4,
     "metadata": {},
     "output_type": "execute_result"
    }
   ],
   "source": [
    "data['stats']\n",
    "# cr = 10000000"
   ]
  },
  {
   "cell_type": "code",
   "execution_count": 5,
   "id": "bfa676f5-2531-4317-afb0-2b59454dc1a3",
   "metadata": {},
   "outputs": [
    {
     "data": {
      "text/plain": [
       "[{'name': 'Market Cap', 'shortName': 'Mkt Cap', 'value': '₹11,19,721Cr'},\n",
       " {'name': 'ROE', 'shortName': 'ROE', 'value': '13.00%'},\n",
       " {'name': 'P/E Ratio(TTM)', 'shortName': 'P/E Ratio(TTM)', 'value': '20.55'},\n",
       " {'name': 'EPS(TTM)', 'shortName': 'EPS(TTM)', 'value': '71.85'},\n",
       " {'name': 'P/B Ratio', 'shortName': 'P/B Ratio', 'value': '2.67'},\n",
       " {'name': 'Dividend Yield', 'shortName': 'Div Yield', 'value': '0.95%'},\n",
       " {'name': 'Industry P/E', 'shortName': 'Industry P/E', 'value': '12.95'},\n",
       " {'name': 'Book Value', 'shortName': 'Book Value', 'value': '552.54'},\n",
       " {'name': 'Debt to Equity', 'shortName': 'Debt to Equity', 'value': 'NA'},\n",
       " {'name': 'Face Value', 'shortName': 'Face Value', 'value': '1'}]"
      ]
     },
     "execution_count": 5,
     "metadata": {},
     "output_type": "execute_result"
    }
   ],
   "source": [
    "data['fundamentals']"
   ]
  },
  {
   "cell_type": "code",
   "execution_count": 6,
   "id": "7fbd7b6d-412e-41f2-b087-f8c0bddb1ae1",
   "metadata": {},
   "outputs": [
    {
     "data": {
      "text/plain": [
       "{\"Sep '22\": {'totalShares': 5569959026,\n",
       "  'promoters': {'individual': {'quantity': 1428137494, 'percent': 25.64},\n",
       "   'government': {'quantity': 0, 'percent': 0.0},\n",
       "   'corporation': {'quantity': 0, 'percent': 0.0}},\n",
       "  'mutualFunds': {'quantity': 1002592624, 'percent': 18.0},\n",
       "  'otherDomesticInstitutions': {'insurance': {'quantity': 438355775,\n",
       "    'percent': 7.87},\n",
       "   'otherFirms': {'quantity': 4455967, 'percent': 0.08}},\n",
       "  'foreignInstitutions': {'quantity': 1789070839, 'percent': 32.12},\n",
       "  'retailAndOthers': {'quantity': 907346327, 'percent': 16.29}},\n",
       " \"Dec '22\": {'totalShares': 5576752335,\n",
       "  'promoters': {'individual': {'quantity': 1427648597, 'percent': 25.6},\n",
       "   'government': {'quantity': 0, 'percent': 0.0},\n",
       "   'corporation': {'quantity': 0, 'percent': 0.0}},\n",
       "  'mutualFunds': {'quantity': 1024449403, 'percent': 18.37},\n",
       "  'otherDomesticInstitutions': {'insurance': {'quantity': 452274614,\n",
       "    'percent': 8.11},\n",
       "   'otherFirms': {'quantity': 2788376, 'percent': 0.05}},\n",
       "  'foreignInstitutions': {'quantity': 1789022149, 'percent': 32.08},\n",
       "  'retailAndOthers': {'quantity': 880569196, 'percent': 15.79}},\n",
       " \"Mar '23\": {'totalShares': 5579742786,\n",
       "  'promoters': {'individual': {'quantity': 1427856178, 'percent': 25.59},\n",
       "   'government': {'quantity': 0, 'percent': 0.0},\n",
       "   'corporation': {'quantity': 0, 'percent': 0.0}},\n",
       "  'mutualFunds': {'quantity': 1030578492, 'percent': 18.47},\n",
       "  'otherDomesticInstitutions': {'insurance': {'quantity': 446937397,\n",
       "    'percent': 8.01},\n",
       "   'otherFirms': {'quantity': 3347845, 'percent': 0.06}},\n",
       "  'foreignInstitutions': {'quantity': 1797793125, 'percent': 32.22},\n",
       "  'retailAndOthers': {'quantity': 873229749, 'percent': 15.65}},\n",
       " \"Jun '23\": {'totalShares': 5591798806,\n",
       "  'promoters': {'individual': {'quantity': 1427027055, 'percent': 25.52},\n",
       "   'government': {'quantity': 0, 'percent': 0.0},\n",
       "   'corporation': {'quantity': 0, 'percent': 0.0}},\n",
       "  'mutualFunds': {'quantity': 984156589, 'percent': 17.6},\n",
       "  'otherDomesticInstitutions': {'insurance': {'quantity': 426654248,\n",
       "    'percent': 7.63},\n",
       "   'otherFirms': {'quantity': 3914259, 'percent': 0.07}},\n",
       "  'foreignInstitutions': {'quantity': 1865424081, 'percent': 33.36},\n",
       "  'retailAndOthers': {'quantity': 884622574, 'percent': 15.82}},\n",
       " \"Sep '23\": {'totalShares': 7581816038,\n",
       "  'promoters': {'individual': {'quantity': 0, 'percent': 0.0},\n",
       "   'government': {'quantity': 0, 'percent': 0.0},\n",
       "   'corporation': {'quantity': 0, 'percent': 0.0}},\n",
       "  'mutualFunds': {'quantity': 1494375941, 'percent': 19.71},\n",
       "  'otherDomesticInstitutions': {'insurance': {'quantity': 662650721,\n",
       "    'percent': 8.74},\n",
       "   'otherFirms': {'quantity': 7581816, 'percent': 0.1}},\n",
       "  'foreignInstitutions': {'quantity': 3950884337, 'percent': 52.11},\n",
       "  'retailAndOthers': {'quantity': 1466323223, 'percent': 19.34}}}"
      ]
     },
     "execution_count": 6,
     "metadata": {},
     "output_type": "execute_result"
    }
   ],
   "source": [
    "data['shareHoldingPattern']"
   ]
  },
  {
   "cell_type": "code",
   "execution_count": 7,
   "id": "87a64abc-d0a8-42cd-ad11-1774fedbb8ff",
   "metadata": {},
   "outputs": [
    {
     "data": {
      "text/plain": [
       "[{'title': 'Revenue',\n",
       "  'yearly': {'2019': 124107.7909,\n",
       "   '2020': 147068.2663,\n",
       "   '2021': 155885.28,\n",
       "   '2022': 167695.4,\n",
       "   '2023': 204666.1},\n",
       "  'quarterly': {\"Sep '22\": 49182.1,\n",
       "   \"Dec '22\": 54122.84,\n",
       "   \"Mar '23\": 57158.84,\n",
       "   \"Jun '23\": 61021.29,\n",
       "   \"Sep '23\": 107566.62}},\n",
       " {'title': 'Profit',\n",
       "  'yearly': {'2019': 22445.6129,\n",
       "   '2020': 27296.2653,\n",
       "   '2021': 31856.77,\n",
       "   '2022': 38150.9,\n",
       "   '2023': 46148.7},\n",
       "  'quarterly': {\"Sep '22\": 11162.59,\n",
       "   \"Dec '22\": 12735.43,\n",
       "   \"Mar '23\": 12634.01,\n",
       "   \"Jun '23\": 12403.25,\n",
       "   \"Sep '23\": 17312.38}},\n",
       " {'title': 'Net Worth',\n",
       "  'yearly': {'2019': 153672.66,\n",
       "   '2020': 176358.71,\n",
       "   '2021': 209810.18,\n",
       "   '2022': 247326.17,\n",
       "   '2023': 289437.5},\n",
       "  'quarterly': {\"Jun '22\": 257921.49,\n",
       "   \"Sep '22\": 262316.31,\n",
       "   \"Mar '23\": 289437.5,\n",
       "   \"Jun '23\": 303478.24}}]"
      ]
     },
     "execution_count": 7,
     "metadata": {},
     "output_type": "execute_result"
    }
   ],
   "source": [
    "data['financialStatement']"
   ]
  },
  {
   "cell_type": "code",
   "execution_count": 8,
   "id": "30934490-f974-4999-b0bf-0bd30cfe4d99",
   "metadata": {},
   "outputs": [
    {
     "data": {
      "text/plain": [
       "{'buyCount': 38,\n",
       " 'sellCount': 1,\n",
       " 'holdCount': 3,\n",
       " 'buyPercent': 90.48,\n",
       " 'sellPercent': 2.38,\n",
       " 'holdPercent': 7.14}"
      ]
     },
     "execution_count": 8,
     "metadata": {},
     "output_type": "execute_result"
    }
   ],
   "source": [
    "data['expertRating']"
   ]
  },
  {
   "cell_type": "code",
   "execution_count": null,
   "id": "278c0711-01eb-4294-b49b-5d9395063b41",
   "metadata": {},
   "outputs": [],
   "source": []
  }
 ],
 "metadata": {
  "kernelspec": {
   "display_name": "Python 3 (ipykernel)",
   "language": "python",
   "name": "python3"
  },
  "language_info": {
   "codemirror_mode": {
    "name": "ipython",
    "version": 3
   },
   "file_extension": ".py",
   "mimetype": "text/x-python",
   "name": "python",
   "nbconvert_exporter": "python",
   "pygments_lexer": "ipython3",
   "version": "3.11.3"
  }
 },
 "nbformat": 4,
 "nbformat_minor": 5
}
