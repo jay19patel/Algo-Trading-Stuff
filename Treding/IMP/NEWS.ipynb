{
 "cells": [
  {
   "cell_type": "code",
   "execution_count": 1,
   "id": "9fb1c957-8705-480a-9581-917c0abb50a5",
   "metadata": {},
   "outputs": [],
   "source": [
    "import requests\n",
    "\n",
    "# all_category  = [\"business\",\"entertainment\",\"general\",\"health\",\"science\",\"sports\",\"technology\"] \n",
    "all_category  = [\"business\",\"general\",\"health\"] \n",
    "all_news = []\n",
    "\n",
    "def get_news(category):\n",
    "    country='in'\n",
    "    api_key = '3926dac0bdc647a89d77c5510720ff04'\n",
    "    endpoint_url = 'https://newsapi.org/v2/top-headlines'\n",
    "\n",
    "    # Set parameters for the request\n",
    "    params = {\n",
    "        'apiKey': api_key,\n",
    "        'country': country,\n",
    "        'category': category\n",
    "    }\n",
    "\n",
    "    response = requests.get(endpoint_url, params=params)\n",
    "    if response.status_code == 200:\n",
    "        news_data = response.json()\n",
    "\n",
    "        # Extract and print news articles\n",
    "        articles = news_data.get('articles', [])\n",
    "        for idx, article in enumerate(articles, start=1):\n",
    "            all_news.append(f\"{article['title']}{article['description']}\")\n",
    "            # print(\"-----------------------------\")\n",
    "\n",
    "    else:\n",
    "        print(f\"Error: Unable to fetch news. Status Code: {response.status_code}\")\n",
    "\n",
    "if __name__ == \"__main__\":\n",
    "    for category in all_category:\n",
    "        get_news(category)\n"
   ]
  },
  {
   "cell_type": "code",
   "execution_count": 2,
   "id": "130e67d5-f83e-40da-bae4-2b9b14f101e3",
   "metadata": {},
   "outputs": [
    {
     "name": "stdout",
     "output_type": "stream",
     "text": [
      "Positive News Percentage: 48.33%\n",
      "Negative News Percentage: 31.67%\n",
      "Neutral News Percentage: 20.00%\n"
     ]
    }
   ],
   "source": [
    "import nltk\n",
    "from nltk.sentiment import SentimentIntensityAnalyzer\n",
    "\n",
    "# Download the VADER lexicon (if not already downloaded)\n",
    "# nltk.download('vader_lexicon')\n",
    "\n",
    "# Initialize the sentiment analyzer\n",
    "sia = SentimentIntensityAnalyzer()\n",
    "\n",
    "# Counters for positive, negative, and neutral news\n",
    "positive_count = 0\n",
    "negative_count = 0\n",
    "neutral_count = 0\n",
    "\n",
    "# Analyze sentiment for each sentence\n",
    "for sentence in all_news:\n",
    "    if sentence is not None:\n",
    "        sentiment_score = sia.polarity_scores(sentence)['compound']\n",
    "\n",
    "        if sentiment_score >= 0.05:\n",
    "            positive_count += 1\n",
    "        elif sentiment_score <= -0.05:\n",
    "            negative_count += 1\n",
    "        else:\n",
    "            neutral_count += 1\n",
    "\n",
    "total_news = len(all_news)\n",
    "positive_percentage = (positive_count / total_news) * 100\n",
    "negative_percentage = (negative_count / total_news) * 100\n",
    "neutral_percentage = (neutral_count / total_news) * 100\n",
    "\n",
    "# Print results\n",
    "print(f\"Positive News Percentage: {positive_percentage:.2f}%\")\n",
    "print(f\"Negative News Percentage: {negative_percentage:.2f}%\")\n",
    "print(f\"Neutral News Percentage: {neutral_percentage:.2f}%\")\n"
   ]
  },
  {
   "cell_type": "raw",
   "id": "65212ca8-97ae-4c63-a51d-930aa890dd8c",
   "metadata": {},
   "source": [
    "Positive News Percentage: 46.67%\n",
    "Negative News Percentage: 28.33%\n",
    "Neutral News Percentage: 25.00%\n",
    "7:15 11/15/2023"
   ]
  },
  {
   "cell_type": "code",
   "execution_count": 3,
   "id": "7a39fe40-c637-4ef2-9cc3-12f21dea9cbb",
   "metadata": {},
   "outputs": [
    {
     "data": {
      "text/plain": [
       "[\"Warren Buffet's Berkshire exits Paytm at ₹620 crore loss, sells 2.5% stake - Hindustan TimesBillionaire Warren Buffet's firm Berkshire Hathway decided to sell their entire stake in Paytm at a loss of over ₹620 crore.\",\n",
       " 'Gold Rate Today Per 10 Grams In India: Check Price In Your City On November 25 - News18Gold rate today in India: Know retail gold price on November 25',\n",
       " \"Air India's Phuket expansion: A direct challenge to IndiGo's dominance | Mint - MintAir India is expanding its international network with new flights to Phuket, Thailand, starting from December 15, 2023, increasing to daily service from January 8, 2024.\",\n",
       " 'Triumph Thruxton 400 (Speed 400 Based) Spied Testing For The First Time - GaadiWaadi.comAfter the launch of Speed 400 and Scrambler 400 X, Triumph is working on a new cafe racer bike Thruxton 400; Likely to share underpinnings and powertrain with the Speed 400',\n",
       " 'Airtel CEO wants subscribers to use e-SIMS: What are they and pros and cons of e-SIMs - Gadgets NowIn an email, Bharti Airtel CEO and managing director Gopal Vittal urged subscribers to adopt e-SIM for Airtel services as all devices that support an e-SIM feature. He said an e-SIM is an online extension of a regular SIM card and with it subscribers will no …',\n",
       " \"Sam Altman’s OpenAI drama gets a Peak Bengaluru spin by auto-rickshaw app - India TodayAs the tech world grappled with the OpenAI turmoil, Bengaluru's popular auto-rickshaw app, Namma Yatri, seized the moment to inject some local flavor\",\n",
       " 'Royal Enfield Himalayan 450 Launched In India At Rs. 2.69 Lakh - GaadiWaadi.comRoyal Enfield Himalayan 450 is equipped with a new 452 cc liquid-cooled DOHC engine developing just over 40 PS and 40 Nm',\n",
       " 'Tata Technologies IPO: GMP jumps after strong subscription status. How to chech allotment, all eyes set on listing date | Mint - MintTata Technologies IPO GMP today: Shares of the Tata group company are available at a premium of  ₹402 in grey market today',\n",
       " 'IREDA IPO | Here is how to check the share allotment status, know listing date, grey market premium - MoneycontrolIREDA IPO | Given the strong response to the offer, equity shares will be allocated to investors on a proportionate basis.',\n",
       " 'CDSL is rich thanks to the stock market boom! - FinshotsAn explainer on how the Central Depository Services Limited (CDSL) services a whopping 10 crore demat accounts today.',\n",
       " \"RBI supersedes Abhyudaya Co-op Bank board for poor governance - Rediff.comThe Reserve Bank on Friday superseded the board of the city-based Abhyudaya Cooperative Bank on concerns emanating from 'poor governance' and appointed an administrator to manage the affairs of the lender.\\n\\nIn what can be seen as a step that should allay depo…\",\n",
       " 'Elevation and Accel-backed Anar shuts down operations - EntrackrLaunched by Jain and Sanjay Bhat, Anar used to help small and medium business (SMB) communities build their network across omnichannel.',\n",
       " 'Buy 2 Tata Group Stocks As Shares Offering Potential To Soar: Motilal Oswal, KR Choksey - GoodreturnsNone',\n",
       " 'New Royal Enfield Shotgun 650 unveiled at Motoverse 2023 - BikeWaleIn the initial phase, only 25 units of this bobber-styled motorcycle have been made available which will be sold in a lucky draw to 25 attendees of the Motoverse event.',\n",
       " \"Gold Price Forecast: XAU/USD find demand after mixed S&P PMIs,US Dollar weakness - FXStreetThe XAU/USD is finding traction in Friday's session, capitalising on mixed S&P PMIs and a weakening US Dollar.\",\n",
       " 'IndiGo to be first airline to start flights from Noida Airport - IndiaTimesIndia Business News: IndiGo will be the launch airline at Noida International Airport (NIA), scheduled to open by the end of next year. NIA signed an MoU with IndiGo to de',\n",
       " 'Investors are clamoring for OpenAI, Microsoft stock amid Sam Altman drama By Investing.com - Investing.comInvestors are clamoring for OpenAI, Microsoft stock amid Sam Altman drama',\n",
       " 'MGM Healthcare to acquire Fortis Malar Hospitals for Rs 128 crore - Times of IndiaCHENNAI: MGM Healthcare Private Limited will acquire Fortis Malar Hospitals Limited in Chennai for Rs 128 crore.',\n",
       " 'RBI makes addition of 19 unauthorised forex trading platforms in Alert List, check details | Mint - MintAccording to the list, these entities are neither authorized to deal in forex under the Foreign Exchange Management Act, 1999 (FEMA) nor to operate electronic trading platform (ETP) for forex transactions under the Electronic Trading Platforms (Reserve Bank) …',\n",
       " 'Beverage giant Coca-Cola joins ONDC, launches marketplace Coke Shop - Business StandardNone',\n",
       " '5 tips for bringing a contemporary twist to your boring ceilings - Hindustan TimesElevate your living spaces with these quick and stylish tips that will transform the often overlooked fifth wall into a modern masterpiece.',\n",
       " 'Rajasthan Assembly Election 2023 LIVE: ‘Janta Janardan decides fate,’ Sachin Pilot; 40.27% voting turnout till 1 pm | Mint - MintRajasthan Assembly elections 2023 LIVE: Rajasthan Chief Minister Ashok Gehlot on Saturday expressed confidence that there is no prevailing anti-incumbency sentiment against the Congress in the state.',\n",
       " \"Nasa warns, a 'perfect storm' is expected hit Earth tomorrow - Hindustan TimesGeomagnetic storms could enhance aurora and be visible in lower latitudes. Possible collision between CME and Earth by late November 25. | World News\",\n",
       " '\"India Was Convicted Even Without...\": Envoy On Hardeep Nijjar Probe - NDTVIndian High Commissioner to Canada Sanjay Kumar Verma has raised objections to the fact that New Delhi was \"convicted\" even as the investigation into the killing of Khalistani terrorist Hardeep Singh Nijjar on Canadian soil was not fully concluded.',\n",
       " \"Uttarakhand tunnel collapse: 'Auger machine is finished'; official explains delay in rescue - Hindustan TimesUttarkashi tunnel rescue: The US-made Auger machine's blades struck an obstacle again and were damaged. | Latest News India\",\n",
       " '\"Sense Of Pride\": PM Modi After Flying On Tejas Fighter Jet In Bengaluru - NDTVPrime Minister Narendra Modi took a sortie on the indigenously built light combat fighter aircraft Tejas in Bengaluru today.',\n",
       " \"'India will have to take precautions if...': Expert on H9N2 outbreak in China | Mint - MintThe Health Ministry has noted low risk for India and assured its preparedness for any potential public health emergencies\",\n",
       " 'iQOO 12 will get 3 Android updates, will not have ‘Hot Apps’ and ‘Hot Games’ - The Indian ExpressNone',\n",
       " \"India vs Australia, 2nd T20I Preview: Indian bowling unit seeks redemption against Australia - IndiaTimesCricket News: India's young bowling unit is preparing to face the Australian batting line-up in the second T20 match. After a tepid performance in the series opener\",\n",
       " 'This sea worm’s ‘butt’ swims away to reproduce. Now, researchers know why - The Indian ExpressNone',\n",
       " 'Kim Jong Un inspects satellite photos of US, South Korea, state media says - Al Jazeera EnglishKim examined ‘major target regions’, including the US military base at Pearl Harbor, KCNA says.',\n",
       " \"Woman punches husband to death for refusing to celebrate her birthday in Dubai - India TodayDuring the investigation, it was revealed that the man's 36-year-old wife, Renuka, had her birthday on September 18. She wanted to celebrate it in Dubai, but her husband did not fulfill her demand.\",\n",
       " \"'Amaterasu' particle: Mysterious cosmic ray leaves physicists in awe - The WeekScientists have recently made an intriguing discovery by detecting the second-most powerful cosmic ray originating from beyond our galaxy. This 'ultra-high-energy' particle, named the 'Amaterasu' particle after the sun goddess in Japanese mythology, has left …\",\n",
       " 'AI and Male Infertility: Advancements in Sperm Analysis and Diagnosis - ETHealthWorldIn recent years, the field of reproductive medicine has witnessed remarkable advancements, thanks in part to artificial intelligence (AI) and its application in sperm analysis and diagnosis. These innovations have not only improved our understanding of male i…',\n",
       " \"Warren Buffet's Berkshire exits Paytm at ₹620 crore loss, sells 2.5% stake - Hindustan TimesBillionaire Warren Buffet's firm Berkshire Hathway decided to sell their entire stake in Paytm at a loss of over ₹620 crore.\",\n",
       " 'Aditya-L1 solar probe expected to enter L1 orbit on January 7, says ISRO chairman - The HinduNone',\n",
       " \"How Hardik Pandya 'Sends Off' Virat Kohli, Rohit Sharma From Indian Cricket Team Is The Question: Pa.. - NDTV SportsDirector Comey says the probe into last year's US election would assess if crimes were committed.\",\n",
       " '5 healthy benefits of eating peanuts in winters - Hindustan TimesHere are 5 reasons why it is good to include it in your winter diet.',\n",
       " \"Animal Box Office Day 1 Advance Booking (6 Days To Go): Ranbir Kapoor Starrer Roars With 69% Jump, Over 23000 Tickets Already Sold; It's A Blockbuster In The Making! - KoimoiAnimal, starring Ranbir Kapoor and Rashmika Mandanna, is showing fantastic signs in advance bookings! Read day 1 updates so far.\",\n",
       " 'Amitabh Bachchan Gifts Juhu Bungalow Prateeksha To Daughter Shweta: Report - NDTVDuring season 14 of Kaun Banega Crorepati, Amitabh Bachchan opened up about the house and said, \"This name was given by my father\"',\n",
       " 'H9N2 outbreak in China: Be careful, follow routine practices of cleanliness, says Dr Ajay Shukla - The Economic TimesAmid the reported outbreak of H9N2 cases and clusters of respiratory illness in children in northern China, Ram Manohar Lohia Hospital Director Dr Ajay Shukl...',\n",
       " 'Covid might have negatively impacted bone health of young patients, says research - Udayavani EnglishCovid might have negatively impacted bone tissues of young patients, including both bone mineral density in the forearm and total bone mineral content, according to a new research....',\n",
       " \"Drugs that can reverse brain ageing caused by Covid discovered | Lifestyle Health | English Manorama - OnmanoramaThe study 'beautifully demonstrates how human brain models can accelerate the preclinical screening of therapeutics - while also moving towards animal-free testing'.\",\n",
       " 'AI and Male Infertility: Advancements in Sperm Analysis and Diagnosis - ETHealthWorldIn recent years, the field of reproductive medicine has witnessed remarkable advancements, thanks in part to artificial intelligence (AI) and its application in sperm analysis and diagnosis. These innovations have not only improved our understanding of male i…',\n",
       " 'Pomegranate to Beetroot: 5 foods to increase hemoglobin levels naturally - India TV NewsIf you always have problems like fatigue, weakness, or headache, it means that there is a deficiency of hemoglobin in your blood. Here are five foods that will help you increase hemoglobin naturally.',\n",
       " '5 healthy benefits of eating peanuts in winters - Hindustan TimesHere are 5 reasons why it is good to include it in your winter diet.',\n",
       " 'Manage constipation with these asanas and some simple home remedies - The Indian ExpressNone',\n",
       " \"Pune News : 9 Zika virus samples sent to NIV test negative - Pune PulsePune Municipal Corporation health officials verified on Friday that there isn't a Zika virus outbreak in the city after suspicious serum samples were sent to the National Institute of Virology (NIV) and returned with negative results. None of the nine samples…\",\n",
       " 'Covid-19 vaccine uptake lower than expected: US CDC - Zee BusinessCovid-19 is still an important cause of hospitalization and death, especially for older adults and people with certain underlying medical conditions, said the CDC.',\n",
       " 'Weight Loss With Tomato: How Tamatar Helps You Shed Extra Kilos? 6 Tips to Follow - India.comTomatoes is another vegetable that can serve benefits for weight loss regime. Wonder how, read on to know why one should eat it regularly.',\n",
       " 'Can just 3 minutes of this desk-bound exercise daily help tone your waist, improve digestion? - The Indian ExpressNone',\n",
       " '65% dengue cases in hosp of type-2: PGI - Times of IndiaAt least 65% of the dengue patients, who had to be admitted to hospitals in the state capital, suffered from DEN-2 serotype, according to an assessment by microbiology department of the Sanjay Gandhi Postgraduate Institute of Medical Sciences (SGPGIMS).',\n",
       " 'Weekend-only exercise can still offer major health benefits, study finds - CBS Evening NewsA study published in the journal of the American Medical Association has found that you may not need to exercise during the week if you work out for at least...',\n",
       " 'Unable to exercise regularly? Follow this simple rule - IndiaTimes\\u200bOne effective approach to make exercise a consistent part of your routine is to follow the Two-Day Rule. The concept is straightforward: never go more than two consecutive days without exercising. This rule helps maintain momentum and prevents long breaks th…',\n",
       " 'UN confirms sexual spread of mpox in Congo for the 1st time as country sees a record outbreak - ETHealthWorldThe World Health Organization said it has confirmed sexual transmission of mpox in Congo for the first time as the country experiences its biggest-ever outbreak, a worrying development that African scientists warn could make it more difficult to stop the dise…',\n",
       " 'Therapy to treat rare, hereditary diseases - ETHealthWorldHowever, there are many diseases that affect just a handful people. These diseases often fly under the radar and are far less researched. They include quite a few rare, hereditary diseases, such as DOOR syndrome, which is especially found in Canada and the Mi…',\n",
       " '‘Hepatitis patient dropouts pose infection threat’ - Hindustan TimesDropout among hepatitis patients in India is a risk, as it may lead to the spread of infection to high-risk groups. A study found that a large percentage of hepatitis B and C infections remain undiagnosed. Regular feedback and tracking are needed to minimize …',\n",
       " 'Yoga helps reduce frequency of seizures, feelings of stigma among epilepsy patients: AIIMS study - Daily ExcelsiorNEW DELHI, Nov 24 : Yoga may help reduce the frequency of seizures, anxiety and feelings of stigma that frequently comes with having epilepsy, a new study by Delhi AIIMS said. People with epilepsy often face stigma that can cause them to feel different than o…',\n",
       " 'Eastern Iowa Specialist shares ways to combat Seasonal Affective Disorder - KCRG-TV9: Your Trusted Local News SourceThe lack of daylight as we approach the winter months can be difficult for some people.   For more Local News from KCRG:  https://www.kcrg.com/ For more YouT...',\n",
       " 'DPH issues guidelines to control influenza cases in Tamil Nadu - DTNEXTIf a person has symptoms such as chills, body ache, fever, temperature rise between 38.4 degree Celsius and 41 degree Celsius for more than three days they are advised to take a test.']"
      ]
     },
     "execution_count": 3,
     "metadata": {},
     "output_type": "execute_result"
    }
   ],
   "source": [
    "all_news"
   ]
  },
  {
   "cell_type": "code",
   "execution_count": null,
   "id": "87250bfe-2c52-49a9-a58c-f80d4b58d025",
   "metadata": {},
   "outputs": [],
   "source": []
  },
  {
   "cell_type": "code",
   "execution_count": null,
   "metadata": {},
   "outputs": [],
   "source": []
  },
  {
   "cell_type": "code",
   "execution_count": null,
   "metadata": {},
   "outputs": [],
   "source": []
  }
 ],
 "metadata": {
  "kernelspec": {
   "display_name": "Python 3 (ipykernel)",
   "language": "python",
   "name": "python3"
  },
  "language_info": {
   "codemirror_mode": {
    "name": "ipython",
    "version": 3
   },
   "file_extension": ".py",
   "mimetype": "text/x-python",
   "name": "python",
   "nbconvert_exporter": "python",
   "pygments_lexer": "ipython3",
   "version": "3.11.3"
  }
 },
 "nbformat": 4,
 "nbformat_minor": 5
}
