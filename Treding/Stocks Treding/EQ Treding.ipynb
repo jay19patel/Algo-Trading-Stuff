{
 "cells": [
  {
   "cell_type": "code",
   "execution_count": 11,
   "id": "4a65fe8f-24d0-4c52-b22e-f15417eff48b",
   "metadata": {},
   "outputs": [],
   "source": [
    "from fyers_apiv3 import fyersModel\n",
    "from datetime import datetime , timedelta\n",
    "import pandas as pd\n",
    "import pytz"
   ]
  },
  {
   "cell_type": "code",
   "execution_count": 2,
   "id": "f02f10fd-6797-4db5-b337-8e30f743efaf",
   "metadata": {},
   "outputs": [],
   "source": [
    "client_id = \"MACO3YJA7I-100\"  # Replace with your client ID\n",
    "secret_key = \"N7SXUFQG91\"  # Replace with your secret key\n",
    "redirect_uri = \"https://trade.fyers.in/api-login/redirect-uri/index.html\"  # Replace with your redirect URI\n",
    "response_type = \"code\" \n",
    "grant_type = \"authorization_code\"  \n",
    "state = \"sample_state\""
   ]
  },
  {
   "cell_type": "code",
   "execution_count": 4,
   "id": "bae626de-19e1-4ec3-a0ac-c30a37e4053a",
   "metadata": {},
   "outputs": [],
   "source": [
    "# # # Generate Auth Code\n",
    "# session = fyersModel.SessionModel(\n",
    "#     client_id=client_id,\n",
    "#     secret_key=secret_key,\n",
    "#     redirect_uri=redirect_uri,\n",
    "#     response_type=response_type\n",
    "# )\n",
    "# genrate_authcode = session.generate_authcode()\n",
    "# print(genrate_authcode)"
   ]
  },
  {
   "cell_type": "code",
   "execution_count": 5,
   "id": "8af0911c-acb3-4bf2-b635-6d773a6ce6ce",
   "metadata": {},
   "outputs": [],
   "source": [
    "auth_code = \"eyJ0eXAiOiJKV1QiLCJhbGciOiJIUzI1NiJ9.eyJpc3MiOiJhcGkubG9naW4uZnllcnMuaW4iLCJpYXQiOjE3MDMzNDczNTcsImV4cCI6MTcwMzM3NzM1NywibmJmIjoxNzAzMzQ2NzU3LCJhdWQiOiJbXCJ4OjBcIiwgXCJ4OjFcIiwgXCJ4OjJcIiwgXCJkOjFcIiwgXCJkOjJcIiwgXCJ4OjFcIiwgXCJ4OjBcIl0iLCJzdWIiOiJhdXRoX2NvZGUiLCJkaXNwbGF5X25hbWUiOiJZSjAwMTI5Iiwib21zIjoiSzEiLCJoc21fa2V5IjoiMjdlMDQ2OGE4MGJkYmVmMGQyYTg3M2MxMmNlN2YyZGEyMjA1NzQ0ZTIwYTg1MDI0YjhlMDA4NDciLCJub25jZSI6IiIsImFwcF9pZCI6Ik1BQ08zWUpBN0kiLCJ1dWlkIjoiYWRkMjNjMTYxOWFhNDdkNzkxNWRkZDU1ZjJkMTQ5NDUiLCJpcEFkZHIiOiIwLjAuMC4wIiwic2NvcGUiOiIifQ.RRUOp9Eqf_7E8okGp3AhmQOlRs-d6Fwu5Q5wllMfP7Y\""
   ]
  },
  {
   "cell_type": "code",
   "execution_count": 6,
   "id": "83c0ad2d-0356-4edb-8a73-b96cc4db81e4",
   "metadata": {},
   "outputs": [],
   "source": [
    "session = fyersModel.SessionModel(\n",
    "    client_id=client_id,\n",
    "    secret_key=secret_key, \n",
    "    redirect_uri=redirect_uri, \n",
    "    response_type=response_type, \n",
    "    grant_type=grant_type\n",
    ")\n",
    "session.set_token(auth_code)\n",
    "response = session.generate_token()\n",
    "access_token = response['access_token']"
   ]
  },
  {
   "cell_type": "code",
   "execution_count": 7,
   "id": "d87a7608-56ba-4bb9-aebd-bf5f4e9dabf8",
   "metadata": {},
   "outputs": [],
   "source": [
    "fyers = fyersModel.FyersModel(client_id=client_id, is_async=False, token=access_token, log_path=\"\")"
   ]
  },
  {
   "cell_type": "markdown",
   "id": "cff59d74-9b24-4539-9904-a915d835fd05",
   "metadata": {},
   "source": [
    "## ALL CODE"
   ]
  },
  {
   "cell_type": "code",
   "execution_count": 156,
   "id": "727a338a-f4ce-417f-85c2-65925a070c42",
   "metadata": {},
   "outputs": [
    {
     "data": {
      "text/plain": [
       "False"
      ]
     },
     "execution_count": 156,
     "metadata": {},
     "output_type": "execute_result"
    }
   ],
   "source": [
    "from ta.trend import EMAIndicator\n",
    "import pandas_ta as pdta\n",
    "\n",
    "\n",
    "def Entry_EQ(Symbol):\n",
    "    data = {\n",
    "                \"symbol\":Symbol,\n",
    "                \"resolution\":\"60\",\n",
    "                \"date_format\":\"1\",\n",
    "                \"range_from\":(datetime.now() - timedelta(days=100)).strftime('%Y-%m-%d'),\n",
    "                \"range_to\":datetime.now().strftime('%Y-%m-%d'),\n",
    "                \"cont_flag\":\"0\"\n",
    "            }\n",
    "    row_data =  fyers.history(data=data)\n",
    "    # print(row_data)\n",
    "    df = pd.DataFrame.from_dict(row_data['candles'])\n",
    "    columns_name = ['Datetime','Open','High','Low','Close','Volume']\n",
    "    df.columns = columns_name\n",
    "    df['Datetime'] = pd.to_datetime(df['Datetime'], unit='s')\n",
    "    df['Datetime'] = df['Datetime'].dt.tz_localize(pytz.utc).dt.tz_convert('Asia/Kolkata')\n",
    "    df['Datetime'] = df['Datetime'].dt.tz_localize(None)\n",
    "\n",
    "\n",
    "    df['Pivot'] = (df['High'] + df['Low'] + df['Close']) / 3\n",
    "    df['20EMA'] = EMAIndicator(close=df['Close'], window=20, fillna=False).ema_indicator()\n",
    "    df['50EMA'] = EMAIndicator(close=df['Close'], window=50, fillna=False).ema_indicator()\n",
    "    df['200EMA'] = EMAIndicator(close=df['Close'], window=200, fillna=False).ema_indicator()\n",
    "\n",
    "    gap = 8\n",
    "    df['Away_status'] = ((df['50EMA'] > df['Low'] - gap) & (df['50EMA'] < df['High'] + gap)) | ((df['200EMA'] > df['Low'] -gap) & (df['200EMA'] < df['High']+gap))\n",
    "\n",
    "    super_trend = pdta.supertrend(high=df['High'], low=df['Low'], close=df['Close'], length=50, multiplier=4)\n",
    "    df['Super_Trend'] = super_trend['SUPERTd_50_4.0']\n",
    "\n",
    "    df['cross_status'] = 'No Signal'  # Default value\n",
    "\n",
    "    cross_up_condition = (df['20EMA'] > df['50EMA']) & (df['20EMA'].shift(1) <= df['50EMA'].shift(1))\n",
    "    cross_down_condition = (df['20EMA'] < df['50EMA']) & (df['20EMA'].shift(1) >= df['50EMA'].shift(1))\n",
    "    \n",
    "    df.loc[cross_up_condition, 'cross_status'] = 'Up'\n",
    "    df.loc[cross_down_condition, 'cross_status'] = 'Down'\n",
    "\n",
    "    df['Final_status'] = False  # Default value\n",
    "    \n",
    "    for i in range(10, len(df)):\n",
    "        # Check if 'cross_status' is Up in any of the previous 10 days\n",
    "        if any(df['cross_status'].iloc[i-10:i] == 'Up'):\n",
    "            # Check if 'Super_Trend' has at least one '1' in the previous 10 days\n",
    "            if 1 in df['Super_Trend'].iloc[i-10:i].tolist():\n",
    "                df.at[i, 'Final_status'] = True\n",
    "\n",
    "    return df.iloc[-1]['Final_status']\n",
    "\n",
    "Symbol = \"NSE:SBIN-EQ\"\n",
    "Entry_EQ(Symbol)"
   ]
  },
  {
   "cell_type": "code",
   "execution_count": 169,
   "id": "32595419-9018-4e24-8773-51116edb966c",
   "metadata": {},
   "outputs": [],
   "source": [
    "stock_list = ['BANKBARODA',\n",
    " 'BEL',\n",
    " 'BHEL',\n",
    " 'MANAPPURAM',\n",
    " 'MRPL',\n",
    " 'NMDC',\n",
    " 'NTPC',\n",
    " 'NATIONALUM',\n",
    " 'OIL',\n",
    " 'PPLPHARMA',\n",
    " 'POONAWALLA',\n",
    " 'PFC',\n",
    " 'TATAPOWER',\n",
    " 'WIPRO']"
   ]
  },
  {
   "cell_type": "markdown",
   "id": "3c46ca8d-494c-41f6-8be2-21ce0dfaeafe",
   "metadata": {},
   "source": [
    "# Multry Threding"
   ]
  },
  {
   "cell_type": "code",
   "execution_count": 178,
   "id": "e6d3cb32-36ca-49bf-9b64-f1d25b92112a",
   "metadata": {},
   "outputs": [
    {
     "data": {
      "text/html": [
       "<div>\n",
       "<style scoped>\n",
       "    .dataframe tbody tr th:only-of-type {\n",
       "        vertical-align: middle;\n",
       "    }\n",
       "\n",
       "    .dataframe tbody tr th {\n",
       "        vertical-align: top;\n",
       "    }\n",
       "\n",
       "    .dataframe thead th {\n",
       "        text-align: right;\n",
       "    }\n",
       "</style>\n",
       "<table border=\"1\" class=\"dataframe\">\n",
       "  <thead>\n",
       "    <tr style=\"text-align: right;\">\n",
       "      <th></th>\n",
       "      <th>Name</th>\n",
       "      <th>Status</th>\n",
       "    </tr>\n",
       "  </thead>\n",
       "  <tbody>\n",
       "    <tr>\n",
       "      <th>0</th>\n",
       "      <td>MANAPPURAM</td>\n",
       "      <td>True</td>\n",
       "    </tr>\n",
       "    <tr>\n",
       "      <th>1</th>\n",
       "      <td>PPLPHARMA</td>\n",
       "      <td>True</td>\n",
       "    </tr>\n",
       "  </tbody>\n",
       "</table>\n",
       "</div>"
      ],
      "text/plain": [
       "         Name  Status\n",
       "0  MANAPPURAM    True\n",
       "1   PPLPHARMA    True"
      ]
     },
     "execution_count": 178,
     "metadata": {},
     "output_type": "execute_result"
    }
   ],
   "source": [
    "import concurrent.futures\n",
    "import pandas as pd\n",
    "\n",
    "name = []  # You had a variable name conflict with the 'name' list and the 'name' module\n",
    "status = []\n",
    "\n",
    "def process_item(stock_name):  # Changed parameter name to avoid conflict\n",
    "    Symbol = f\"NSE:{stock_name}-EQ\"\n",
    "    result = Entry_EQ(Symbol)\n",
    "    name.append(stock_name)\n",
    "    status.append(result)\n",
    "\n",
    "\n",
    "with concurrent.futures.ThreadPoolExecutor() as executor:\n",
    "    executor.map(process_item, stock_list)\n",
    "\n",
    "nj_df = pd.DataFrame({\"Name\": name, \"Status\": status})\n",
    "nj_df[nj_df['Status']]\n"
   ]
  },
  {
   "cell_type": "code",
   "execution_count": null,
   "id": "d1f33f59-51b6-4b62-b5c9-3671879e826e",
   "metadata": {},
   "outputs": [],
   "source": []
  }
 ],
 "metadata": {
  "kernelspec": {
   "display_name": "Python 3 (ipykernel)",
   "language": "python",
   "name": "python3"
  },
  "language_info": {
   "codemirror_mode": {
    "name": "ipython",
    "version": 3
   },
   "file_extension": ".py",
   "mimetype": "text/x-python",
   "name": "python",
   "nbconvert_exporter": "python",
   "pygments_lexer": "ipython3",
   "version": "3.11.3"
  }
 },
 "nbformat": 4,
 "nbformat_minor": 5
}
