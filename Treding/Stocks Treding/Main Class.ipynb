{
 "cells": [
  {
   "cell_type": "code",
   "execution_count": 76,
   "id": "d2ea8d9f-5f11-4492-a46b-51ebccbda9e4",
   "metadata": {},
   "outputs": [],
   "source": [
    "import pandas as pd\n",
    "from datetime import datetime\n",
    "\n",
    "class StockTrader:\n",
    "    def __init__(self, symbol, initial_balance=100000):\n",
    "        self.symbol = symbol\n",
    "        self.balance = initial_balance\n",
    "        self.stock_quantity = 0\n",
    "        self.stock_price = 0\n",
    "        self.last_generated_id = int(time.time())\n",
    "        self.logs = pd.DataFrame(columns=['Symbol', 'BuyID', 'Action', 'Quantity', 'BuyPrice', 'BuyDatetime', 'SellTransactions', 'PendingQuantity', 'AverageSellPrice', 'PnL', 'Status'])\n",
    "\n",
    "    def generate_id(self):\n",
    "        unique_id = self.last_generated_id\n",
    "        self.last_generated_id += 1\n",
    "        return unique_id\n",
    "\n",
    "    def buy_stock(self, quantity, price, date):\n",
    "        buy_id = self.generate_id()\n",
    "        buy_datetime = datetime.strptime(date, '%Y-%m-%d')\n",
    "        self.balance -= quantity * price\n",
    "        self.stock_quantity += quantity\n",
    "        self.stock_price = price\n",
    "        new_log = pd.DataFrame({'Symbol': [self.symbol], 'BuyID': [buy_id], 'Action': ['Buy'], 'Quantity': [quantity], 'BuyPrice': [price],\n",
    "                                'BuyDatetime': [buy_datetime], 'SellTransactions': [[]], 'PendingQuantity': [quantity],\n",
    "                                'AverageSellPrice': [0], 'PnL': [0], 'Status': ['Open']})\n",
    "        self.logs = pd.concat([self.logs, new_log], ignore_index=True)\n",
    "        return buy_id\n",
    "\n",
    "    def sell_stock(self, buy_id, quantity, sell_price, date):\n",
    "        buy_row = self.logs[(self.logs['BuyID'] == buy_id) & (self.logs['Symbol'] == self.symbol)]\n",
    "        if buy_row.empty:\n",
    "            return \"Buy ID not found.\"\n",
    "\n",
    "        sell_datetime = datetime.strptime(date, '%Y-%m-%d')\n",
    "        pnl = quantity * (sell_price - buy_row['BuyPrice'].values[0])\n",
    "\n",
    "        # Update the log entry with the sell transaction\n",
    "        buy_index = buy_row.index[0]\n",
    "        sell_transaction = {'Quantity': quantity, 'SellPrice': sell_price, 'SellDatetime': sell_datetime, 'PnL': pnl}\n",
    "        self.logs.at[buy_index, 'SellTransactions'] = self.logs.at[buy_index, 'SellTransactions'] + [sell_transaction]\n",
    "\n",
    "        # Update pending quantity, average sell price, and cumulative PnL\n",
    "        self.logs.at[buy_index, 'PendingQuantity'] -= quantity\n",
    "        self.logs.at[buy_index, 'AverageSellPrice'] = self.calculate_average_sell_price(buy_index)\n",
    "        self.logs.at[buy_index, 'PnL'] += pnl\n",
    "\n",
    "        # If all quantity sold, update the status to 'Done'\n",
    "        if self.logs.at[buy_index, 'PendingQuantity'] == 0:\n",
    "            self.logs.at[buy_index, 'Status'] = 'Done'\n",
    "\n",
    "        return f\"Stock sold successfully. PnL: {pnl}\"\n",
    "\n",
    "    def calculate_average_sell_price(self, buy_index):\n",
    "        sell_transactions = self.logs.at[buy_index, 'SellTransactions']\n",
    "        if not sell_transactions:\n",
    "            return 0\n",
    "\n",
    "        total_sell_price = sum(transaction['Quantity'] * transaction['SellPrice'] for transaction in sell_transactions)\n",
    "        total_quantity = sum(transaction['Quantity'] for transaction in sell_transactions)\n",
    "\n",
    "        return total_sell_price / total_quantity\n",
    "\n",
    "\n",
    "# Example usage:\n",
    "trader = StockTrader(symbol='AAPL', initial_balance=100000)\n",
    "buy_id_1 = trader.buy_stock(quantity=10, price=50, date='2023-01-01')\n",
    "sell_result_1 = trader.sell_stock(buy_id=buy_id_1, quantity=5, sell_price=60, date='2023-02-01')\n"
   ]
  },
  {
   "cell_type": "code",
   "execution_count": 79,
   "id": "1f2b382d-e6a7-4d09-8056-107e677b797b",
   "metadata": {},
   "outputs": [
    {
     "data": {
      "text/html": [
       "<div>\n",
       "<style scoped>\n",
       "    .dataframe tbody tr th:only-of-type {\n",
       "        vertical-align: middle;\n",
       "    }\n",
       "\n",
       "    .dataframe tbody tr th {\n",
       "        vertical-align: top;\n",
       "    }\n",
       "\n",
       "    .dataframe thead th {\n",
       "        text-align: right;\n",
       "    }\n",
       "</style>\n",
       "<table border=\"1\" class=\"dataframe\">\n",
       "  <thead>\n",
       "    <tr style=\"text-align: right;\">\n",
       "      <th></th>\n",
       "      <th>Symbol</th>\n",
       "      <th>BuyID</th>\n",
       "      <th>Action</th>\n",
       "      <th>Quantity</th>\n",
       "      <th>BuyPrice</th>\n",
       "      <th>BuyDatetime</th>\n",
       "      <th>SellTransactions</th>\n",
       "      <th>PendingQuantity</th>\n",
       "      <th>AverageSellPrice</th>\n",
       "      <th>PnL</th>\n",
       "      <th>Status</th>\n",
       "    </tr>\n",
       "  </thead>\n",
       "  <tbody>\n",
       "    <tr>\n",
       "      <th>0</th>\n",
       "      <td>AAPL</td>\n",
       "      <td>1703415135</td>\n",
       "      <td>Buy</td>\n",
       "      <td>10</td>\n",
       "      <td>50</td>\n",
       "      <td>2023-01-01</td>\n",
       "      <td>[{'Quantity': 5, 'SellPrice': 60, 'SellDatetim...</td>\n",
       "      <td>0</td>\n",
       "      <td>90.0</td>\n",
       "      <td>400</td>\n",
       "      <td>Done</td>\n",
       "    </tr>\n",
       "  </tbody>\n",
       "</table>\n",
       "</div>"
      ],
      "text/plain": [
       "  Symbol       BuyID Action Quantity BuyPrice BuyDatetime  \\\n",
       "0   AAPL  1703415135    Buy       10       50  2023-01-01   \n",
       "\n",
       "                                    SellTransactions PendingQuantity  \\\n",
       "0  [{'Quantity': 5, 'SellPrice': 60, 'SellDatetim...               0   \n",
       "\n",
       "  AverageSellPrice  PnL Status  \n",
       "0             90.0  400   Done  "
      ]
     },
     "execution_count": 79,
     "metadata": {},
     "output_type": "execute_result"
    }
   ],
   "source": [
    "trader.logs"
   ]
  },
  {
   "cell_type": "code",
   "execution_count": 78,
   "id": "7794df9a-b901-448a-bea7-5ac2703d241e",
   "metadata": {},
   "outputs": [
    {
     "data": {
      "text/plain": [
       "'Stock sold successfully. PnL: 350'"
      ]
     },
     "execution_count": 78,
     "metadata": {},
     "output_type": "execute_result"
    }
   ],
   "source": [
    "trader.sell_stock(buy_id=buy_id_1, quantity=5, sell_price=120, date='2023-02-01')"
   ]
  },
  {
   "cell_type": "code",
   "execution_count": null,
   "id": "d41225b6-e947-4207-95e1-d73166649267",
   "metadata": {},
   "outputs": [],
   "source": []
  }
 ],
 "metadata": {
  "kernelspec": {
   "display_name": "Python 3 (ipykernel)",
   "language": "python",
   "name": "python3"
  },
  "language_info": {
   "codemirror_mode": {
    "name": "ipython",
    "version": 3
   },
   "file_extension": ".py",
   "mimetype": "text/x-python",
   "name": "python",
   "nbconvert_exporter": "python",
   "pygments_lexer": "ipython3",
   "version": "3.11.3"
  }
 },
 "nbformat": 4,
 "nbformat_minor": 5
}
