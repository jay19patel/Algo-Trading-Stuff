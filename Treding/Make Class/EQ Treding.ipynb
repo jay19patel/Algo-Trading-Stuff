{
 "cells": [
  {
   "cell_type": "code",
   "execution_count": 108,
   "id": "4a65fe8f-24d0-4c52-b22e-f15417eff48b",
   "metadata": {},
   "outputs": [],
   "source": [
    "from fyers_apiv3 import fyersModel\n",
    "from datetime import datetime , timedelta\n",
    "import pandas as pd\n",
    "import pytz\n",
    "import numpy as np"
   ]
  },
  {
   "cell_type": "code",
   "execution_count": 96,
   "id": "f02f10fd-6797-4db5-b337-8e30f743efaf",
   "metadata": {},
   "outputs": [],
   "source": [
    "client_id = \"MACO3YJA7I-100\"  # Replace with your client ID\n",
    "secret_key = \"N7SXUFQG91\"  # Replace with your secret key\n",
    "redirect_uri = \"https://trade.fyers.in/api-login/redirect-uri/index.html\"  # Replace with your redirect URI\n",
    "response_type = \"code\" \n",
    "grant_type = \"authorization_code\"  \n",
    "state = \"sample_state\""
   ]
  },
  {
   "cell_type": "code",
   "execution_count": 102,
   "id": "bae626de-19e1-4ec3-a0ac-c30a37e4053a",
   "metadata": {},
   "outputs": [
    {
     "name": "stdout",
     "output_type": "stream",
     "text": [
      "https://api-t1.fyers.in/api/v3/generate-authcode?client_id=MACO3YJA7I-100&redirect_uri=https%3A%2F%2Ftrade.fyers.in%2Fapi-login%2Fredirect-uri%2Findex.html&response_type=code&state=None\n"
     ]
    }
   ],
   "source": [
    "# # Generate Auth Code\n",
    "session = fyersModel.SessionModel(\n",
    "    client_id=client_id,\n",
    "    secret_key=secret_key,\n",
    "    redirect_uri=redirect_uri,\n",
    "    response_type=response_type\n",
    ")\n",
    "genrate_authcode = session.generate_authcode()\n",
    "print(genrate_authcode)"
   ]
  },
  {
   "cell_type": "code",
   "execution_count": 103,
   "id": "8af0911c-acb3-4bf2-b635-6d773a6ce6ce",
   "metadata": {},
   "outputs": [],
   "source": [
    "auth_code = \"eyJ0eXAiOiJKV1QiLCJhbGciOiJIUzI1NiJ9.eyJpc3MiOiJhcGkubG9naW4uZnllcnMuaW4iLCJpYXQiOjE3MDM4NDY3MjgsImV4cCI6MTcwMzg3NjcyOCwibmJmIjoxNzAzODQ2MTI4LCJhdWQiOiJbXCJ4OjBcIiwgXCJ4OjFcIiwgXCJ4OjJcIiwgXCJkOjFcIiwgXCJkOjJcIiwgXCJ4OjFcIiwgXCJ4OjBcIl0iLCJzdWIiOiJhdXRoX2NvZGUiLCJkaXNwbGF5X25hbWUiOiJZSjAwMTI5Iiwib21zIjoiSzEiLCJoc21fa2V5IjoiMjdlMDQ2OGE4MGJkYmVmMGQyYTg3M2MxMmNlN2YyZGEyMjA1NzQ0ZTIwYTg1MDI0YjhlMDA4NDciLCJub25jZSI6IiIsImFwcF9pZCI6Ik1BQ08zWUpBN0kiLCJ1dWlkIjoiMjc1OTcwZWUzNTI2NGMzZGJhNjQ5ODY2ZTZlY2VkNDQiLCJpcEFkZHIiOiIwLjAuMC4wIiwic2NvcGUiOiIifQ.RnfHnP86Uwr280zmsQ9RlP-DKrmcxymrm8iD5VaKz6E\""
   ]
  },
  {
   "cell_type": "code",
   "execution_count": 105,
   "id": "83c0ad2d-0356-4edb-8a73-b96cc4db81e4",
   "metadata": {},
   "outputs": [],
   "source": [
    "# session = fyersModel.SessionModel(\n",
    "#     client_id=client_id,\n",
    "#     secret_key=secret_key, \n",
    "#     redirect_uri=redirect_uri, \n",
    "#     response_type=response_type, \n",
    "#     grant_type=grant_type\n",
    "# )\n",
    "# session.set_token(auth_code)\n",
    "# response = session.generate_token()\n",
    "# access_token = response['access_token']"
   ]
  },
  {
   "cell_type": "code",
   "execution_count": 106,
   "id": "d87a7608-56ba-4bb9-aebd-bf5f4e9dabf8",
   "metadata": {},
   "outputs": [],
   "source": [
    "fyers = fyersModel.FyersModel(client_id=client_id, is_async=False, token=access_token, log_path=\"\")"
   ]
  },
  {
   "cell_type": "markdown",
   "id": "cff59d74-9b24-4539-9904-a915d835fd05",
   "metadata": {},
   "source": [
    "## ALL CODE"
   ]
  },
  {
   "cell_type": "code",
   "execution_count": 229,
   "id": "727a338a-f4ce-417f-85c2-65925a070c42",
   "metadata": {},
   "outputs": [],
   "source": [
    "from ta.trend import EMAIndicator\n",
    "import pandas_ta as pdta\n",
    "\n",
    "\n",
    "def Data_Get(Symbol,timeframe):\n",
    "    try:\n",
    "        data = {\n",
    "                    \"symbol\":Symbol,\n",
    "                    \"resolution\":timeframe,\n",
    "                    \"date_format\":\"1\",\n",
    "                    \"range_from\":(datetime.now() - timedelta(days=100)).strftime('%Y-%m-%d'),\n",
    "                    \"range_to\":datetime.now().strftime('%Y-%m-%d'),\n",
    "                    \"cont_flag\":\"0\"\n",
    "                }\n",
    "        row_data =  fyers.history(data=data)\n",
    "        df = pd.DataFrame.from_dict(row_data['candles'])\n",
    "        columns_name = ['Datetime','Open','High','Low','Close','Volume']\n",
    "        df.columns = columns_name\n",
    "        df['Datetime'] = pd.to_datetime(df['Datetime'], unit='s')\n",
    "        df['Datetime'] = df['Datetime'].dt.tz_localize(pytz.utc).dt.tz_convert('Asia/Kolkata')\n",
    "        df['Datetime'] = df['Datetime'].dt.tz_localize(None)\n",
    "\n",
    "\n",
    "        df['Pivot'] = (df['High'] + df['Low'] + df['Close']) / 3\n",
    "        df['Candle'] = df.apply(lambda row: 'Green' if row['Close'] >= row['Open'] else 'Red', axis=1)\n",
    "        df['5EMA'] = EMAIndicator(close=df['Close'], window=5, fillna=False).ema_indicator()\n",
    "        df['20EMA'] = EMAIndicator(close=df['Close'], window=20, fillna=False).ema_indicator()\n",
    "        df['50EMA'] = EMAIndicator(close=df['Close'], window=50, fillna=False).ema_indicator()\n",
    "        df['200EMA'] = EMAIndicator(close=df['Close'], window=200, fillna=False).ema_indicator()\n",
    "    \n",
    "        super_trend = pdta.supertrend(high=df['High'], low=df['Low'], close=df['Close'], length=50, multiplier=4)\n",
    "        df['Super_Trend'] = super_trend['SUPERTd_50_4.0']\n",
    "        \n",
    "        df[\"Max\"] = df['High'].rolling(window=40, min_periods=1).max()\n",
    "        df[\"Min\"] = df['Low'].shift(1).rolling(window=40, min_periods=1).min()\n",
    "    \n",
    "    \n",
    "        # ----------------------------------FEBONACY RETECHMENT----------------------------------\n",
    "        def find_closest_fib_level(close_price, fib_levels, max_val, min_val):\n",
    "            levels = [min_val + level * (max_val - min_val) for level in fib_levels]\n",
    "            distances = [abs(level - close_price) for level in levels]\n",
    "            closest_index = distances.index(min(distances))\n",
    "            closest_level = fib_levels[closest_index]\n",
    "            distance = round(distances[closest_index], 2)\n",
    "            return closest_level, distance\n",
    "    \n",
    "        fib_levels = [1.33, 1.0, 0.67, 0.61, 0.33, -0.33]\n",
    "        \n",
    "        df['Close_Feb_Ret'] = df.apply(lambda row: find_closest_fib_level(row['Close'], fib_levels, row['Max'], row['Min']), axis=1)\n",
    "        \n",
    "        #  ----------------------------------CHECK EMA TOUCH----------------------------------\n",
    "        def Check_EMA_Test(row, n=1):\n",
    "            if  pd.notna(row['50EMA']) and pd.notna(row['200EMA']):\n",
    "                ema_50test = row['Low'] - n <= row['50EMA'] <= row['High'] + n\n",
    "                ema_200test = row['Low'] - n <= row['200EMA'] <= row['High'] + n\n",
    "                return ema_50test, ema_200test\n",
    "            else:\n",
    "                return False, False\n",
    "        df[['50EMA_Test', '200EMA_Test']] = df.apply(Check_EMA_Test, axis=1, result_type='expand')\n",
    "        df['50EMA_Test'] = df['50EMA_Test'].rolling(window=2).apply(lambda x: any(x), raw=True).astype(bool)\n",
    "        df['200EMA_Test'] = df['200EMA_Test'].rolling(window=2).apply(lambda x: any(x), raw=True).astype(bool)\n",
    "    \n",
    "        # ----------------------------CHEKING ENTRYES-------------------------\n",
    "        \n",
    "        # ----------------------------------5 EMA CE PE---------------------------------- \n",
    "        ce_5ema = (df['High'].shift(1) < df['5EMA'].shift(1)) & (df['Close'] >= df['5EMA'])\n",
    "        pe_5ema = (df['Low'].shift(1) > df['5EMA'].shift(1)) & (df['Close'] <= df['5EMA'])\n",
    "        \n",
    "        df['Signal_5EMA'] = np.select([ce_5ema, pe_5ema],['CE', 'PE'], default='0')\n",
    "        # ----------------------------------15 EMA CE PE---------------------------------- \n",
    "        ce_ema_crossover = (df['5EMA'] > df['20EMA']) & (df['5EMA'].shift(1) <= df['20EMA'].shift(1))\n",
    "        pe_ema_crossover = (df['5EMA'] < df['20EMA']) & (df['5EMA'].shift(1) >= df['20EMA'].shift(1))\n",
    "        \n",
    "        df['Signal_EMA_CROSSOVER'] = np.select([ce_ema_crossover, pe_ema_crossover],['CE', 'PE'], default='0')\n",
    "    \n",
    "        # ----------------------------------FINAL ENTRY STATUS---------------------------------- \n",
    "    \n",
    "        df['Feb&Trend'] = df.apply(lambda row: 'CE' if row['Super_Trend'] == 1 and row['Close_Feb_Ret'][0] <= 0.7 and row['Close_Feb_Ret'][1] <= 40 else 'PE', axis=1)\n",
    "    \n",
    "        ce_5ema = ((df['Feb&Trend'] == \"CE\") & (df['Signal_5EMA'] == \"CE\")) | ((df['Feb&Trend'] == \"CE\") & (df['Signal_EMA_CROSSOVER'] == \"CE\")) | ((df['50EMA_Test'] | df['200EMA_Test']) & (df['Feb&Trend'] == \"CE\"))\n",
    "        pe_5ema = ((df['Feb&Trend'] == \"PE\") & (df['Signal_5EMA'] == \"PE\")) | ((df['Feb&Trend'] == \"PE\") & (df['Signal_EMA_CROSSOVER'] == \"PE\")) | ((df['50EMA_Test'] | df['200EMA_Test']) & (df['Feb&Trend'] == \"PE\"))\n",
    "    \n",
    "        df['5EMA_Feb&Trend_SIGNAL'] = np.select([ce_5ema, pe_5ema], ['CE', 'PE'], default='NONE')\n",
    "    \n",
    "        \n",
    "        delete_column_name = ['50EMA_Test','200EMA_Test','Max','Min','Feb&Trend','Signal_EMA_CROSSOVER','Signal_5EMA','200EMA','50EMA']\n",
    "        df = df.drop(columns= delete_column_name)\n",
    "        df = df.dropna()\n",
    "    except :\n",
    "        df = pd.DataFrame([])\n",
    "    return df\n",
    "    \n",
    "# Symbol = \"NSE:NIFTY50-INDEX\"\n",
    "# df = Data_Get(Symbol,15)"
   ]
  },
  {
   "cell_type": "markdown",
   "id": "92625a89-8d06-439a-bb58-cd4db82d2c34",
   "metadata": {},
   "source": [
    "# live"
   ]
  },
  {
   "cell_type": "code",
   "execution_count": 248,
   "id": "99159a7f-400b-4923-89ac-e65471a611c3",
   "metadata": {},
   "outputs": [],
   "source": [
    "def Live_data(data):\n",
    "    ltp = data['ltp']\n",
    "    \n",
    "    t = time.localtime()\n",
    "    csec = time.strftime(\"%S\", t)\n",
    "    print(\"[ONLINE]\")\n",
    "    \n",
    "    if int(csec) in [11,41]:\n",
    "        print(\"Just Update\")\n",
    "        df = Data_Get(data['symbol'],15)\n",
    "        status = df.iloc[-1]['5EMA_Feb&Trend_SIGNAL'],df.iloc[-1]['Datetime']\n",
    "        print(status)\n",
    "        if status[0] == \"CE\":\n",
    "            print(\"[CE ENTRY]\")\n",
    "        if status[0] == \"PE\":\n",
    "            print(\"[PE ENTRY]\")      \n",
    "    else:\n",
    "        print(\"[OFFLINE]\")\n",
    "        return False\n",
    "\n",
    "  "
   ]
  },
  {
   "cell_type": "code",
   "execution_count": 249,
   "id": "b35cfbc0-b69f-4e75-98c4-2d0358df3d0d",
   "metadata": {},
   "outputs": [
    {
     "name": "stdout",
     "output_type": "stream",
     "text": [
      "Error: KeyError: The key 'ltp' is missing in the response.\n",
      "Error: KeyError: The key 'ltp' is missing in the response.\n",
      "Error: KeyError: The key 'ltp' is missing in the response.\n",
      "Error: type object 'datetime.time' has no attribute 'localtime'\n",
      "Error: Connection to remote host was lost.\n",
      "Connection closed: {'code': 200, 'message': 'Connection Closed', 's': 'ok'}\n",
      "Error: Connection to remote host was lost.\n",
      "Connection closed: {'code': 200, 'message': 'Connection Closed', 's': 'ok'}\n",
      "Error: Connection to remote host was lost.\n",
      "Connection closed: {'code': 200, 'message': 'Connection Closed', 's': 'ok'}\n",
      "Error: Connection to remote host was lost.\n",
      "Connection closed: {'code': 200, 'message': 'Connection Closed', 's': 'ok'}\n"
     ]
    }
   ],
   "source": [
    "from fyers_apiv3.FyersWebsocket import data_ws\n",
    "\n",
    "def onmessage(message):\n",
    "    Live_data(message)\n",
    "    # print(\"Response:\", message['ltp'])\n",
    "\n",
    "def onerror(message):\n",
    "    print(\"Error:\", message)\n",
    "\n",
    "def onclose(message):\n",
    "    print(\"Connection closed:\", message)\n",
    "\n",
    "def onopen():\n",
    "    data_type = \"SymbolUpdate\"\n",
    "    symbols = ['NSE:NIFTY50-INDEX']\n",
    "    fyers.subscribe(symbols=symbols, data_type=data_type)\n",
    "\n",
    "    fyers.keep_running()\n",
    "\n",
    "\n",
    "def Subscribe():\n",
    "    fyers = data_ws.FyersDataSocket(\n",
    "    access_token=access_token,       # Access token in the format \"appid:accesstoken\"\n",
    "    log_path=\"\",                     # Path to save logs. Leave empty to auto-create logs in the current directory.\n",
    "    litemode=False,                  # Lite mode disabled. Set to True if you want a lite response.\n",
    "    write_to_file=False,              # Save response in a log file instead of printing it.\n",
    "    reconnect=False,                  # Enable auto-reconnection to WebSocket on disconnection.\n",
    "    on_connect=onopen,               # Callback function to subscribe to data upon connection.\n",
    "    on_close=onclose,                # Callback function to handle WebSocket connection close events.\n",
    "    on_error=onerror,                # Callback function to handle WebSocket errors.\n",
    "    on_message=onmessage             # Callback function to handle incoming messages from the WebSocket.\n",
    "    )\n",
    "    \n",
    "    fyers.connect()\n",
    "\n",
    "\n",
    "from datetime import datetime, time\n",
    "\n",
    "now = datetime.now().time()\n",
    "start_time = time(9, 20)\n",
    "end_time = time(23, 30)\n",
    "\n",
    "if start_time <= now <= end_time:\n",
    "    Subscribe()\n",
    "else:\n",
    "    print(\"[MARKET CLOSE]\")"
   ]
  },
  {
   "cell_type": "code",
   "execution_count": 247,
   "id": "ed35e14b-b981-4dec-bed7-fcc50c0d7bcf",
   "metadata": {},
   "outputs": [],
   "source": [
    "def Unsubscribe():\n",
    "    data_type = \"SymbolUpdate\"\n",
    "    symbols_to_unsubscribe = ['NSE:NIFTY50-INDEX']\n",
    "    fyers.unsubscribe(symbols=symbols_to_unsubscribe, data_type=data_type)"
   ]
  },
  {
   "cell_type": "code",
   "execution_count": null,
   "id": "9758ead3-7c24-4ed5-b1f5-c1a7a8b5b33f",
   "metadata": {},
   "outputs": [],
   "source": []
  }
 ],
 "metadata": {
  "kernelspec": {
   "display_name": "Python 3 (ipykernel)",
   "language": "python",
   "name": "python3"
  },
  "language_info": {
   "codemirror_mode": {
    "name": "ipython",
    "version": 3
   },
   "file_extension": ".py",
   "mimetype": "text/x-python",
   "name": "python",
   "nbconvert_exporter": "python",
   "pygments_lexer": "ipython3",
   "version": "3.11.3"
  }
 },
 "nbformat": 4,
 "nbformat_minor": 5
}
