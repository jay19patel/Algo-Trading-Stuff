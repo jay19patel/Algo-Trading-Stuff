{
 "cells": [
  {
   "cell_type": "code",
   "execution_count": 1,
   "id": "1f5338da-884b-4bcd-b5bf-3ec4ef34bcab",
   "metadata": {},
   "outputs": [],
   "source": [
    "import yfinance as yf\n",
    "import datetime\n",
    "import ta\n",
    "import datetime\n",
    "from ta import momentum, trend\n",
    "\n",
    "symbol = \"^NSEI\"\n",
    "ticker = yf.Ticker(symbol)\n",
    "end_date = datetime.date.today()\n",
    "df = ticker.history(period=\"10d\", interval=\"5m\")\n",
    "df['Date'] = df.index.date\n",
    "df['Time'] = df.index.time"
   ]
  },
  {
   "cell_type": "code",
   "execution_count": 2,
   "id": "81f62e51-fcae-4baa-b960-d9fbd6ffc4c5",
   "metadata": {},
   "outputs": [],
   "source": [
    "# dir(ticker)"
   ]
  },
  {
   "cell_type": "code",
   "execution_count": 3,
   "id": "b6ed63cb-3308-4fec-a647-89b63ba8377a",
   "metadata": {},
   "outputs": [],
   "source": [
    "# ticker.info\n",
    "# ticker.news"
   ]
  },
  {
   "cell_type": "code",
   "execution_count": 4,
   "id": "99ab08f4-17b8-47f0-9290-ce88ee5c9ebe",
   "metadata": {},
   "outputs": [],
   "source": [
    "\n",
    "from ta import momentum,trend\n",
    "df['EMA'] = trend.EMAIndicator(df['Close'], window=50).ema_indicator()\n",
    "df['RSI'] = round(momentum.RSIIndicator(df['Close'], window=4).rsi(),2)\n",
    "\n",
    "df = df.dropna()\n",
    "df = df[df['RSI'] != 0]"
   ]
  },
  {
   "cell_type": "code",
   "execution_count": 5,
   "id": "eab24400-4c26-4249-8c22-8c91943bb785",
   "metadata": {},
   "outputs": [],
   "source": [
    "# df['Previous_5_RSI'] = [df['RSI'][max(0, i-5):i].to_list() if i >= 5 else [] for i in range(len(df))]\n",
    "df['RSI_DATA'] = [df['RSI'][max(0, i-1):i+1].to_list() if i >= 4 else [] for i in range(len(df))]"
   ]
  },
  {
   "cell_type": "code",
   "execution_count": 6,
   "id": "89440fb1-016a-4cdf-a5ac-be0af1b67437",
   "metadata": {},
   "outputs": [],
   "source": [
    "def check_order(arr):\n",
    "    increasing = all(arr[i] <= arr[i + 1] for i in range(len(arr) - 1))\n",
    "    decreasing = all(arr[i] >= arr[i + 1] for i in range(len(arr) - 1))\n",
    "    return \"Increasing\" if increasing else \"Decreasing\" if decreasing else \"None\"\n"
   ]
  },
  {
   "cell_type": "code",
   "execution_count": 7,
   "id": "a7e14fb3-8edb-4ba8-9721-fa32a1361e3a",
   "metadata": {},
   "outputs": [],
   "source": [
    "df['RSI_Status'] = df['RSI_DATA'].apply(check_order)"
   ]
  },
  {
   "cell_type": "code",
   "execution_count": 8,
   "id": "b3ad4937-b211-47eb-a7b2-b6248a6f89c1",
   "metadata": {},
   "outputs": [],
   "source": [
    "# df[df['RSI_Status'] == 'Decreasing']\n",
    "# df.sort_values(by=\"Datetime\", ascending=False, inplace=True)\n",
    "# df"
   ]
  },
  {
   "cell_type": "code",
   "execution_count": 9,
   "id": "2f6b3f3f-3899-44ae-8dfa-428c1296b19c",
   "metadata": {},
   "outputs": [],
   "source": [
    "# df.head(20)"
   ]
  },
  {
   "cell_type": "code",
   "execution_count": 10,
   "id": "beee76d4-732e-409a-9e7a-08ff838ad609",
   "metadata": {},
   "outputs": [],
   "source": [
    "inisal_amount = 30000\n",
    "position = False\n",
    "def PLSTATUS(row):\n",
    "    global inisal_amount\n",
    "    global position\n",
    "    lot_size = 50\n",
    "    current_price = row['Close'] * lot_size\n",
    "    \n",
    "    # if row['RSI'] <= 30:\n",
    "    if row['RSI'] <= 30 and row['RSI_Status'] in [\"Increasing\", \"None\"]:\n",
    "        if position == False:\n",
    "            print(f\"------[{row['Date']}]----------------PE EXTRY --[{row['Time']}]---------------RSI [{row['RSI']}]--------------{row['Close']}-----------\")\n",
    "            inisal_amount = inisal_amount - current_price\n",
    "            print(inisal_amount)\n",
    "            position = True\n",
    "            \n",
    "    # elif row['RSI'] >= 70:\n",
    "    elif row['RSI'] >= 70 and row['RSI_Status'] == \"Decreasing\":\n",
    "        if position == True:\n",
    "            print(f\"-------[{row['Date']}]----------------PE EXIT --[{row['Time']}]-------------RSI [{row['RSI']}]-------------{row['Close']}------------\")\n",
    "            inisal_amount = inisal_amount + current_price\n",
    "            print(inisal_amount)\n",
    "            position = False\n",
    "    \n",
    "   "
   ]
  },
  {
   "cell_type": "code",
   "execution_count": 11,
   "id": "f433a164-bf76-4329-b3a8-923f103fbc5c",
   "metadata": {},
   "outputs": [
    {
     "name": "stdout",
     "output_type": "stream",
     "text": [
      "------[2023-10-11]----------------PE EXTRY --[11:15:00]---------------RSI [24.35]--------------19808.900390625-----------\n",
      "-960445.01953125\n",
      "-------[2023-10-11]----------------PE EXIT --[14:55:00]-------------RSI [70.22]-------------19823.099609375------------\n",
      "30709.9609375\n",
      "------[2023-10-12]----------------PE EXTRY --[09:50:00]---------------RSI [26.54]--------------19793.30078125-----------\n",
      "-958955.078125\n",
      "-------[2023-10-13]----------------PE EXIT --[11:30:00]-------------RSI [75.68]-------------19692.44921875------------\n",
      "25667.3828125\n",
      "------[2023-10-16]----------------PE EXTRY --[09:20:00]---------------RSI [22.1]--------------19714.0-----------\n",
      "-960032.6171875\n",
      "-------[2023-10-16]----------------PE EXIT --[10:10:00]-------------RSI [78.95]-------------19749.30078125------------\n",
      "27432.421875\n",
      "------[2023-10-16]----------------PE EXTRY --[13:20:00]---------------RSI [23.13]--------------19748.55078125-----------\n",
      "-959995.1171875\n",
      "-------[2023-10-17]----------------PE EXIT --[09:25:00]-------------RSI [87.4]-------------19817.849609375------------\n",
      "30897.36328125\n",
      "------[2023-10-18]----------------PE EXTRY --[10:55:00]---------------RSI [17.22]--------------19768.44921875-----------\n",
      "-957525.09765625\n",
      "-------[2023-10-18]----------------PE EXIT --[14:10:00]-------------RSI [74.78]-------------19719.44921875------------\n",
      "28447.36328125\n",
      "------[2023-10-18]----------------PE EXTRY --[14:25:00]---------------RSI [28.01]--------------19703.55078125-----------\n",
      "-956730.17578125\n",
      "-------[2023-10-19]----------------PE EXIT --[11:35:00]-------------RSI [91.09]-------------19646.5------------\n",
      "25594.82421875\n",
      "------[2023-10-23]----------------PE EXTRY --[10:30:00]---------------RSI [10.1]--------------19472.75-----------\n",
      "-948042.67578125\n"
     ]
    },
    {
     "data": {
      "text/plain": [
       "Datetime\n",
       "2023-10-10 13:20:00+05:30    None\n",
       "2023-10-10 13:25:00+05:30    None\n",
       "2023-10-10 13:30:00+05:30    None\n",
       "2023-10-10 13:35:00+05:30    None\n",
       "2023-10-10 13:40:00+05:30    None\n",
       "                             ... \n",
       "2023-10-23 15:05:00+05:30    None\n",
       "2023-10-23 15:10:00+05:30    None\n",
       "2023-10-23 15:15:00+05:30    None\n",
       "2023-10-23 15:20:00+05:30    None\n",
       "2023-10-23 15:25:00+05:30    None\n",
       "Length: 701, dtype: object"
      ]
     },
     "execution_count": 11,
     "metadata": {},
     "output_type": "execute_result"
    }
   ],
   "source": [
    "df.apply(PLSTATUS,axis = 1)"
   ]
  },
  {
   "cell_type": "code",
   "execution_count": 12,
   "id": "640a96d1-6c6a-4a3c-9a20-7fe2198acb64",
   "metadata": {},
   "outputs": [
    {
     "name": "stdout",
     "output_type": "stream",
     "text": [
      "HOLDING\n",
      "MY AMOUNT : 30000 \n",
      "TOTAL RETURNS  :  36477.32421875012\n",
      "MY P&L :  6477.324218750116\n",
      "MY P& %: 21.591080729167054%\n"
     ]
    }
   ],
   "source": [
    "if position == True :\n",
    "    print(\"HOLDING\")\n",
    "    last_price_today = round(df.iloc[1]['Close'],2)*50\n",
    "    print(\"MY AMOUNT : 30000 \")\n",
    "    print(\"TOTAL RETURNS  : \",last_price_today + inisal_amount)\n",
    "    print(\"MY P&L : \",last_price_today + inisal_amount-30000)\n",
    "    percentage = (100 * (last_price_today + inisal_amount-30000))/30000 \n",
    "    print(f\"MY P& %: {percentage}%\")\n",
    "    \n",
    "else:\n",
    "    print(\"MY AMOUNT : 30000 \")\n",
    "    print(\"TOTAL RETURNS  : \",inisal_amount)\n",
    "    print(\"MY P&L : \",inisal_amount-30000)\n",
    "    percentage = (100 * (inisal_amount-30000))/30000 \n",
    "    print(f\"MY P&L %: {percentage}%\")"
   ]
  },
  {
   "cell_type": "code",
   "execution_count": 13,
   "id": "501c7111-208c-4b3b-aed2-41886dc39302",
   "metadata": {},
   "outputs": [],
   "source": [
    "# MY AMOUNT : 30000 \n",
    "# TOTAL RETURNS  :  32725.0\n",
    "# MY P&L :  2725.0\n",
    "# MY P& %: 9.083333333333334%\n",
    "#  5 minutes 1 day"
   ]
  },
  {
   "cell_type": "code",
   "execution_count": null,
   "id": "40ba890a-2c0a-4c31-8a89-66415c358d22",
   "metadata": {},
   "outputs": [],
   "source": []
  },
  {
   "cell_type": "code",
   "execution_count": null,
   "id": "365ee12e-a53a-41e9-b49b-3bc5c6d9346c",
   "metadata": {},
   "outputs": [],
   "source": []
  },
  {
   "cell_type": "code",
   "execution_count": null,
   "id": "3eb9e269-dc42-46a1-bc34-d4176da8e21a",
   "metadata": {},
   "outputs": [],
   "source": []
  },
  {
   "cell_type": "code",
   "execution_count": null,
   "id": "3b7c7d11-c0f7-458f-b7b8-788f72fcad39",
   "metadata": {},
   "outputs": [],
   "source": []
  }
 ],
 "metadata": {
  "kernelspec": {
   "display_name": "Python 3 (ipykernel)",
   "language": "python",
   "name": "python3"
  },
  "language_info": {
   "codemirror_mode": {
    "name": "ipython",
    "version": 3
   },
   "file_extension": ".py",
   "mimetype": "text/x-python",
   "name": "python",
   "nbconvert_exporter": "python",
   "pygments_lexer": "ipython3",
   "version": "3.11.3"
  }
 },
 "nbformat": 4,
 "nbformat_minor": 5
}
