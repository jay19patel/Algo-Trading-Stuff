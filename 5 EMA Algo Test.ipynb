{
 "cells": [
  {
   "cell_type": "markdown",
   "id": "5f6a7fb8-d411-4ed0-bd7b-74c5b7b2ec1c",
   "metadata": {},
   "source": [
    "## All Import Modules"
   ]
  },
  {
   "cell_type": "code",
   "execution_count": 1,
   "id": "dfa53e8b-7139-46f0-971f-db021cb2fb3d",
   "metadata": {},
   "outputs": [],
   "source": [
    "import yfinance as yf\n",
    "import datetime\n",
    "import numpy as np\n",
    "from ta import momentum, trend\n",
    "import pandas as pd\n"
   ]
  },
  {
   "cell_type": "code",
   "execution_count": 2,
   "id": "b5728e31-0185-4b3a-a89c-df9d23a2feb0",
   "metadata": {},
   "outputs": [],
   "source": [
    "import openpyxl\n",
    "workbook = openpyxl.Workbook()\n",
    "sheet = workbook.active\n",
    "\n",
    "headers = [\"Algo Name\",\"SYMBOL\",\"Entry Strick Price\", \"Entry Position\", \"Entry Date Time\" , \"SL\",\"TARGET\",\"Exit Position\" ,\"Exit Date Time\",\"P&L\",\"Exit Status\",\"Tred Time\"]\n",
    "sheet.append(headers)\n",
    "\n",
    "\n",
    "def Save_Data_in_Sheet(algo_name,symbol,entry_Strick_price,entry_position,entry_datetime,sl,target,exit_position,exit_datetime,pnl,exit_status):\n",
    "    Tred_Time = (exit_datetime - entry_datetime ).total_seconds() / 60\n",
    "    sheet.append([algo_name,symbol,entry_Strick_price,entry_position,entry_datetime,sl,target,exit_position,exit_datetime,pnl,exit_status,Tred_Time])\n",
    "    workbook.save(f\"ALGO LOGS.xlsx\")\n",
    "    # print(\"SAVE DATA\")"
   ]
  },
  {
   "cell_type": "markdown",
   "id": "ee8694cf-ca74-4ee1-a222-a329f9b0b20a",
   "metadata": {},
   "source": [
    "## MENUPLIATE INPUT DATA"
   ]
  },
  {
   "cell_type": "raw",
   "id": "e43d9a7d-6f6d-4fa9-8d9e-5dadfc5ed740",
   "metadata": {},
   "source": [
    "Currently we use HDFCBANK dataframe to easy to  code"
   ]
  },
  {
   "cell_type": "code",
   "execution_count": 3,
   "id": "78e478a0-6a68-46c4-b43f-6268e8c32aba",
   "metadata": {},
   "outputs": [],
   "source": [
    "previes_days = 60\n",
    "def Main_Dataframe(symbol,previes_days):\n",
    "    # ------------------------------------ DAY TIME FRAME -----------------------------------------------------------\n",
    "    ticker = yf.Ticker(symbol)\n",
    "    day_df = ticker.history(period=f\"80d\", interval=\"1d\")\n",
    "    \n",
    "    # Reset the index and convert the 'Date' column to date format\n",
    "    day_df.reset_index(inplace=True)\n",
    "    day_df['Date'] = day_df['Date'].dt.date\n",
    "    \n",
    "    # Calculate technical indicators\n",
    "    day_df['Day_10EMA'] = trend.EMAIndicator(day_df['Close'], window=10).ema_indicator()\n",
    "    \n",
    "    day_df['Day_RSI'] = momentum.RSIIndicator(day_df['Close'], window=3).rsi()\n",
    "    day_df['Day_RSI_EMA'] = trend.EMAIndicator(day_df['Day_RSI'], window=6).ema_indicator()\n",
    "\n",
    "    # -----------ADD EXTRA INDICATORS HERE --------------\n",
    "    day_df['Day_Trend'] = np.select(\n",
    "    [day_df['Day_10EMA'] > day_df['Day_10EMA'].shift(1),\n",
    "     day_df['Day_10EMA'] < day_df['Day_10EMA'].shift(1)],\n",
    "    ['Uptrend', 'Downtrend'],'Sideways')\n",
    "    # Rename columns and drop unnecessary columns\n",
    "    day_df.rename(columns={'Open': 'Day_Open', 'High': 'Day_High', 'Low': 'Day_Low', 'Close': 'Day_Close'}, inplace=True)\n",
    "    day_df.drop(columns=['Volume', 'Dividends', 'Stock Splits','Day_10EMA','Day_RSI'], inplace=True)\n",
    "    day_df.dropna(inplace=True)\n",
    "\n",
    "    # ------------------------------------ 5 MIN TIME FRAME -----------------------------------------------------------\n",
    "    # previes_days = 5\n",
    "    df = ticker.history(period=f\"{previes_days}d\", interval=\"5m\")\n",
    "    df.reset_index(inplace=True)\n",
    "    df['Date'] = df['Datetime'].dt.date\n",
    "    df['Time'] = df['Datetime'].dt.time\n",
    "    \n",
    "    df.drop(columns=['Volume', 'Dividends', 'Stock Splits','Datetime'], inplace=True)\n",
    "    df.dropna(inplace=True)\n",
    "    # -----------ADD EXTRA INDICATORS HERE --------------\n",
    "    df['5EMA'] = trend.EMAIndicator(df['Close'], window=5).ema_indicator()\n",
    "    df['15EMA'] = trend.EMAIndicator(df['Close'], window=15).ema_indicator()\n",
    "    df['Candle'] = np.where(df['Close'] > df['Open'], 'Green', 'Red')\n",
    "    \n",
    "    df['Prev_5EMA'] = df['5EMA'].shift(1)\n",
    "    df['Prev_15EMA'] = df['15EMA'].shift(1)\n",
    "\n",
    "    df['RSI'] = momentum.RSIIndicator(df['Close'], window=6).rsi()\n",
    "    df['RSI_EMA'] = trend.EMAIndicator(df['RSI'], window=12).ema_indicator()\n",
    "    \n",
    "   \n",
    "    short_ema =trend.EMAIndicator(df[\"Close\"], window=5)\n",
    "    long_ema = trend.EMAIndicator(df[\"Close\"], window=15)\n",
    "    \n",
    "    df[\"5EMA\"] = short_ema.ema_indicator()\n",
    "    df[\"15EMA\"] = long_ema.ema_indicator()\n",
    "    \n",
    "    # Determine the perfect trend based on EMA crossovers\n",
    "    df[\"Trend\"] = \"Sideways\"  # Default to Sideways\n",
    "    df.loc[(df[\"5EMA\"] > df[\"15EMA\"]) & (df[\"5EMA\"].shift(1) <= df[\"15EMA\"].shift(1)), \"Trend\"] = \"Uptrend\"\n",
    "    df.loc[(df[\"5EMA\"] < df[\"15EMA\"]) & (df[\"5EMA\"].shift(1) >= df[\"15EMA\"].shift(1)), \"Trend\"] = \"Downtrend\"\n",
    "\n",
    "    first_candle_high = df.groupby('Date')['High'].first()\n",
    "    first_candle_low = df.groupby('Date')['Low'].first()\n",
    "    \n",
    "    # Create a new column for the first candle's high and low\n",
    "    df['First_Candle_High'] = df['Date'].map(first_candle_high)\n",
    "    df['First_Candle_Low'] = df['Date'].map(first_candle_low)\n",
    "\n",
    "    # ------------------------------------ MERGE DATA FRAME -----------------------------------------------------------\n",
    "    \n",
    "    merged_df = day_df.merge(df, on='Date', how='inner')\n",
    "    merged_df.dropna(inplace=True)\n",
    "    merged_df['DateTime'] = pd.to_datetime(merged_df['Date'].astype(str) + ' ' + merged_df['Time'].astype(str))\n",
    "    merged_df.drop(['Date', 'Time'], axis=1, inplace=True)\n",
    "    return round(merged_df,2)\n",
    "    # return day_df\n",
    "    # return df\n",
    "\n",
    "data = Main_Dataframe(\"^NSEI\",previes_days)\n",
    "# data = Main_Dataframe(\"HDFCBANK.BO\")\n",
    "# data.tail(5)"
   ]
  },
  {
   "cell_type": "code",
   "execution_count": 4,
   "id": "bf2fcc75-9188-4640-88d3-f5c044df6591",
   "metadata": {},
   "outputs": [],
   "source": [
    "all_columsn = ['Day_Open', 'Day_High', 'Day_Low', 'Day_Close', 'Day_RSI_EMA',\n",
    "        'Open', 'High', 'Low', 'Close', '5EMA', '15EMA',\n",
    "       'Prev_5EMA', 'Prev_15EMA', 'RSI', 'RSI_EMA', 'First_Candle_High', 'First_Candle_Low']\n",
    "day_all_columsn = ['Date', 'Day_Open', 'Day_High', 'Day_Low', 'Day_Close', 'Day_RSI_EMA']\n",
    "# data.iloc[-2]"
   ]
  },
  {
   "cell_type": "markdown",
   "id": "61e53e6c-c130-4f81-91e1-a2812f820a97",
   "metadata": {},
   "source": [
    "# Add Signals Columns"
   ]
  },
  {
   "cell_type": "code",
   "execution_count": 5,
   "id": "cfe442f9-8afe-45e5-ba20-9227dda1d3ee",
   "metadata": {},
   "outputs": [
    {
     "data": {
      "text/plain": [
       "Day_Open                            20194.1\n",
       "Day_High                           20291.55\n",
       "Day_Low                             20183.7\n",
       "Day_Close                           20267.9\n",
       "Day_RSI_EMA                           90.89\n",
       "Day_Trend                           Uptrend\n",
       "Open                                20263.3\n",
       "High                               20270.35\n",
       "Low                                 20249.0\n",
       "Close                              20255.75\n",
       "5EMA                               20262.13\n",
       "15EMA                              20265.54\n",
       "Candle                                  Red\n",
       "Prev_5EMA                          20265.32\n",
       "Prev_15EMA                         20266.93\n",
       "RSI                                   32.65\n",
       "RSI_EMA                               44.36\n",
       "Trend                              Sideways\n",
       "First_Candle_High                  20225.75\n",
       "First_Candle_Low                    20188.3\n",
       "DateTime                2023-12-01 15:25:00\n",
       "Signal_Day_RSI                           PE\n",
       "Signal_RSI_CE                             0\n",
       "Signal_RSI_PE                             0\n",
       "Signal_5EMA                            NONE\n",
       "Signal_EMA_CROSSOVER                      0\n",
       "SL_Price                (20271.85, 20260.2)\n",
       "Name: 4499, dtype: object"
      ]
     },
     "execution_count": 5,
     "metadata": {},
     "output_type": "execute_result"
    }
   ],
   "source": [
    "def Add_Signals(dfnew):\n",
    "    df = dfnew.copy()\n",
    "    df['Signal_Day_RSI'] = np.select([df['Day_RSI_EMA'] <= 30, df['Day_RSI_EMA'] >= 70],['CE', 'PE'],default='0')\n",
    "    df['Signal_RSI_CE'] = np.where(df['RSI_EMA'] <= 30, 'CE', '0')\n",
    "    df['Signal_RSI_PE'] = np.where(df['RSI_EMA'] >= 70, 'PE', '0')\n",
    "\n",
    "\n",
    "    ce_5ema = (df['High'].shift(1) < df['5EMA'].shift(1)) & (df['Close'] >= df['5EMA'])\n",
    "    pe_5ema = (df['Low'].shift(1) > df['5EMA'].shift(1)) & (df['Close'] <= df['5EMA'])\n",
    "    \n",
    "    df['Signal_5EMA'] = np.select([ce_5ema, pe_5ema],['CE', 'PE'], default='NONE')\n",
    "\n",
    "    ce_ema_crossover = (df['5EMA'] > df['15EMA']) & (df['5EMA'].shift(1) <= df['15EMA'].shift(1))\n",
    "    pe_ema_crossover = (df['5EMA'] < df['15EMA']) & (df['5EMA'].shift(1) >= df['15EMA'].shift(1))\n",
    "    \n",
    "    df['Signal_EMA_CROSSOVER'] = np.select([ce_ema_crossover, pe_ema_crossover],['CE', 'PE'], default='0')\n",
    "    \n",
    "    df['SL_Price'] = list(zip(df['High'].shift(1), df['Low'].shift(1) ))\n",
    "    \n",
    "    # df.drop(columns = all_columsn,inplace= True)\n",
    "    return df\n",
    "newdata = Add_Signals(data)\n",
    "newdata.iloc[-1]"
   ]
  },
  {
   "cell_type": "markdown",
   "id": "5d845338-b0dc-4863-b29a-76f6552b160a",
   "metadata": {},
   "source": [
    "# ENTRY LOGIC"
   ]
  },
  {
   "cell_type": "code",
   "execution_count": 6,
   "id": "c2e1cf66-51fe-4210-9a61-428609eb9ac0",
   "metadata": {},
   "outputs": [],
   "source": [
    "def CE_ENTRY_LOGIC(row):\n",
    "    status = row['Signal_5EMA'] == \"CE\"\n",
    "    return status\n",
    "    \n",
    "def PE_ENTRY_LOGIC(row):\n",
    "    status = row['Signal_5EMA'] == \"PE\"\n",
    "    return status"
   ]
  },
  {
   "cell_type": "markdown",
   "id": "67427583-47b9-48e5-8474-12bd190ffe97",
   "metadata": {},
   "source": [
    "# STOPLOSS AND TARGET AND TRAILING"
   ]
  },
  {
   "cell_type": "code",
   "execution_count": 7,
   "id": "090f4136-e713-496e-969d-344df1a6b748",
   "metadata": {},
   "outputs": [],
   "source": [
    "def GET_STOPLOSS_PRICE(row, status):\n",
    "    n = 1 if status == \"CE\" else 0\n",
    "    return row[\"SL_Price\"][n]\n",
    "\n",
    "def GET_TARGET_PRICE(row, status):\n",
    "    \n",
    "    n = 1 if status == \"CE\" else 0\n",
    "    return 5 * (abs(row[\"SL_Price\"][n] - row['Close'])) + row['Close']\n"
   ]
  },
  {
   "cell_type": "markdown",
   "id": "b7c8bd1a-a3e4-4e67-8b81-ef8c477a6728",
   "metadata": {},
   "source": [
    "# LOGIC"
   ]
  },
  {
   "cell_type": "code",
   "execution_count": 8,
   "id": "bd87de8c-bb83-4775-9286-8267e080c1cf",
   "metadata": {},
   "outputs": [],
   "source": [
    "PE_POSITION = False\n",
    "PE_ENTRY_PRICE = 0\n",
    "PE_ENTRY_DATETIME = None\n",
    "PE_STOPLOSS = 0\n",
    "PE_TARGET = 0\n",
    "def Entry_PE(row):\n",
    "    global PE_POSITION, PE_ENTRY_PRICE, PE_STOPLOSS, PE_TARGET, PE_ENTRY_DATETIME\n",
    "    Current_Price = row['Close']\n",
    "            \n",
    "    # ENTRY\n",
    "    if PE_ENTRY_LOGIC(row):\n",
    "        strick_price = int(round(row['Close'], -2))\n",
    "        if not PE_POSITION: \n",
    "            # Declaration\n",
    "            PE_POSITION = True\n",
    "            PE_ENTRY_PRICE = Current_Price\n",
    "            PE_ENTRY_DATETIME = row['DateTime']\n",
    "            PE_STOPLOSS = GET_STOPLOSS_PRICE(row ,'PE')\n",
    "            PE_TARGET = GET_TARGET_PRICE(row ,'PE')\n",
    "            \n",
    "    # EXIT SL\n",
    "    if PE_POSITION and Current_Price >= PE_STOPLOSS:  \n",
    "        Current_PNL = PE_ENTRY_PRICE - Current_Price        \n",
    "        \n",
    "        algo_name = \"5 EMA\"\n",
    "        symbol = \"PE\"\n",
    "        entry_Strick_price = round(PE_ENTRY_PRICE, -2)\n",
    "        entry_position = PE_ENTRY_PRICE\n",
    "        entry_datetime = PE_ENTRY_DATETIME\n",
    "        sl = PE_STOPLOSS\n",
    "        target = PE_TARGET\n",
    "        exit_position = Current_Price\n",
    "        exit_datetime = row['DateTime']\n",
    "        pnl = Current_PNL\n",
    "        exit_status = \"SL\"\n",
    "        Save_Data_in_Sheet(algo_name, symbol, entry_Strick_price, entry_position, entry_datetime, sl, target, exit_position, exit_datetime, pnl, exit_status)\n",
    "\n",
    "        # Declaration\n",
    "        PE_POSITION = False\n",
    "        PE_STOPLOSS = 0\n",
    "        PE_TARGET = 0\n",
    "        PE_ENTRY_PRICE = 0\n",
    "            \n",
    "    # EXIT TARGET\n",
    "    if PE_POSITION and Current_Price <= PE_TARGET:\n",
    "        Current_PNL = PE_ENTRY_PRICE - Current_Price \n",
    "        \n",
    "        \n",
    "        \n",
    "        algo_name = \"5 EMA\"\n",
    "        symbol = \"PE\"\n",
    "        entry_Strick_price = round(PE_ENTRY_PRICE, -2)\n",
    "        entry_position = PE_ENTRY_PRICE\n",
    "        entry_datetime = PE_ENTRY_DATETIME\n",
    "        sl = PE_STOPLOSS\n",
    "        target = PE_TARGET\n",
    "        exit_position = Current_Price\n",
    "        exit_datetime = row['DateTime']\n",
    "        pnl = Current_PNL\n",
    "        exit_status = \"TARGET\"\n",
    "        Save_Data_in_Sheet(algo_name, symbol, entry_Strick_price, entry_position, entry_datetime, sl, target, exit_position, exit_datetime, pnl, exit_status)\n",
    "\n",
    "        # Declaration\n",
    "        PE_POSITION = False\n",
    "        PE_STOPLOSS = 0\n",
    "        PE_TARGET = 0\n",
    "        PE_ENTRY_PRICE = 0\n",
    "\n",
    "\n",
    "    \n"
   ]
  },
  {
   "cell_type": "code",
   "execution_count": 9,
   "id": "b4a000da-c537-435c-a3c8-cbb4a6e591cf",
   "metadata": {},
   "outputs": [],
   "source": [
    "CE_POSITION = False\n",
    "CE_ENTRY_PRICE = 0\n",
    "CE_ENTRY_DATETIME = None\n",
    "CE_STOPLOSS = 0\n",
    "CE_TARGET = 0\n",
    "def Entry_CE(row):\n",
    "    global CE_POSITION, CE_ENTRY_PRICE, CE_STOPLOSS, CE_TARGET, CE_ENTRY_DATETIME\n",
    "    Current_Price = row['Close']\n",
    "    \n",
    "    if CE_ENTRY_LOGIC(row):\n",
    "        strick_price = int(round(row['Close'], -2))\n",
    "        \n",
    "        # ENTRY\n",
    "        if not CE_POSITION:  \n",
    "            # Declaration\n",
    "            CE_POSITION = True\n",
    "            CE_ENTRY_PRICE = Current_Price\n",
    "            CE_ENTRY_DATETIME = row['DateTime']\n",
    "            CE_STOPLOSS = GET_STOPLOSS_PRICE(row,\"CE\")                \n",
    "            CE_TARGET = GET_TARGET_PRICE(row ,'CE')\n",
    "            \n",
    "    # EXIT SL\n",
    "    if CE_POSITION and Current_Price <= CE_STOPLOSS:  \n",
    "        Current_PNL = Current_Price - CE_ENTRY_PRICE\n",
    "        \n",
    "        \n",
    "        algo_name = \"5 EMA\"\n",
    "        symbol = \"CE\"\n",
    "        entry_Strick_price = round(CE_ENTRY_PRICE, -2)\n",
    "        entry_position = CE_ENTRY_PRICE\n",
    "        entry_datetime = CE_ENTRY_DATETIME\n",
    "        sl = CE_STOPLOSS\n",
    "        target = CE_TARGET\n",
    "        exit_position = Current_Price\n",
    "        exit_datetime = row['DateTime']\n",
    "        pnl = Current_PNL\n",
    "        exit_status = \"SL\"\n",
    "        Save_Data_in_Sheet(algo_name, symbol, entry_Strick_price, entry_position, entry_datetime, sl, target, exit_position, exit_datetime, pnl, exit_status)\n",
    "\n",
    "        # Declaration\n",
    "        CE_POSITION = False\n",
    "        CE_STOPLOSS = 0\n",
    "        CE_TARGET = 0\n",
    "        CE_ENTRY_PRICE = 0\n",
    "\n",
    "            \n",
    "    # EXIT TARGET\n",
    "    if CE_POSITION and Current_Price >= CE_TARGET:\n",
    "        Current_PNL = Current_Price - CE_ENTRY_PRICE \n",
    "        \n",
    "        algo_name = \"5 EMA\"\n",
    "        symbol = \"CE\"\n",
    "        entry_Strick_price = round(CE_ENTRY_PRICE, -2)\n",
    "        entry_position = CE_ENTRY_PRICE\n",
    "        entry_datetime = CE_ENTRY_DATETIME\n",
    "        sl = CE_STOPLOSS\n",
    "        target = CE_TARGET\n",
    "        exit_position = Current_Price\n",
    "        exit_datetime = row['DateTime']\n",
    "        pnl = Current_PNL\n",
    "        exit_status = \"TARGET\"\n",
    "        Save_Data_in_Sheet(algo_name, symbol, entry_Strick_price, entry_position, entry_datetime, sl, target, exit_position, exit_datetime, pnl, exit_status)\n",
    "\n",
    "        # Declaration\n",
    "        CE_POSITION = False\n",
    "        CE_STOPLOSS = 0\n",
    "        CE_TARGET = 0\n",
    "        CE_ENTRY_PRICE = 0\n",
    "\n",
    "        \n",
    "        \n",
    "\n"
   ]
  },
  {
   "cell_type": "code",
   "execution_count": 10,
   "id": "21c3d06a-db60-4ed5-8616-5f9fa26ac3aa",
   "metadata": {},
   "outputs": [
    {
     "data": {
      "text/plain": [
       "16      None\n",
       "17      None\n",
       "18      None\n",
       "19      None\n",
       "20      None\n",
       "        ... \n",
       "4495    None\n",
       "4496    None\n",
       "4497    None\n",
       "4498    None\n",
       "4499    None\n",
       "Length: 4484, dtype: object"
      ]
     },
     "execution_count": 10,
     "metadata": {},
     "output_type": "execute_result"
    }
   ],
   "source": [
    "newdata.apply(Entry_CE, axis=1)\n",
    "newdata.apply(Entry_PE, axis=1)"
   ]
  },
  {
   "cell_type": "code",
   "execution_count": 11,
   "id": "da467a63-b2ee-48b8-88c5-6b536854cc34",
   "metadata": {},
   "outputs": [],
   "source": [
    "df = pd.read_excel(\"ALGO LOGS.xlsx\")"
   ]
  },
  {
   "cell_type": "code",
   "execution_count": 12,
   "id": "dadcfb5f-2f75-4a95-b640-12c920113f44",
   "metadata": {},
   "outputs": [],
   "source": [
    "# df[df['Exit Status'] == \"TARGET\"]"
   ]
  },
  {
   "cell_type": "code",
   "execution_count": 13,
   "id": "903fa120-38db-4805-8f2f-69ffc9570e15",
   "metadata": {},
   "outputs": [],
   "source": [
    "# df[df['Exit Status'] == \"SL\"]"
   ]
  },
  {
   "cell_type": "code",
   "execution_count": 14,
   "id": "949e5317-b420-402a-9eba-f3925dc7984c",
   "metadata": {},
   "outputs": [
    {
     "data": {
      "text/plain": [
       "153"
      ]
     },
     "execution_count": 14,
     "metadata": {},
     "output_type": "execute_result"
    }
   ],
   "source": [
    "total_tred = df.shape[0]\n",
    "total_tred"
   ]
  },
  {
   "cell_type": "code",
   "execution_count": 15,
   "id": "d48f3e7a-f441-466a-ad3e-9b29cb30f527",
   "metadata": {},
   "outputs": [],
   "source": [
    "total_SL_tred = df[df['Exit Status'] == \"SL\"].shape[0]\n",
    "total_TARGET_tred = df[df['Exit Status'] == \"TARGET\"].shape[0]"
   ]
  },
  {
   "cell_type": "code",
   "execution_count": 16,
   "id": "f987a299-9759-43b5-a38c-9ef513c6c43c",
   "metadata": {},
   "outputs": [
    {
     "name": "stdout",
     "output_type": "stream",
     "text": [
      "SL COUNT : 37\n",
      "TARGET COUNT : 116\n",
      "TOTAL PNL: 845.75\n"
     ]
    }
   ],
   "source": [
    "print(\"SL COUNT :\",total_SL_tred)\n",
    "print(\"TARGET COUNT :\",total_TARGET_tred)\n",
    "print(\"TOTAL PNL:\",round(df['P&L'].sum(),2))\n"
   ]
  },
  {
   "cell_type": "code",
   "execution_count": 17,
   "id": "fcfb6d85-700f-40c2-81e5-c3409c7755c2",
   "metadata": {},
   "outputs": [],
   "source": [
    "# SL COUNT : 111\n",
    "# TARGET COUNT : 47\n",
    "# TOTAL PNL: -343.2"
   ]
  },
  {
   "cell_type": "code",
   "execution_count": 18,
   "id": "71b4cb32-7717-489d-b696-7f3769ab2bbb",
   "metadata": {},
   "outputs": [],
   "source": [
    "# SL COUNT : 42\n",
    "# TARGET COUNT : 131\n",
    "# TOTAL PNL: 799.95"
   ]
  }
 ],
 "metadata": {
  "kernelspec": {
   "display_name": "Python 3 (ipykernel)",
   "language": "python",
   "name": "python3"
  },
  "language_info": {
   "codemirror_mode": {
    "name": "ipython",
    "version": 3
   },
   "file_extension": ".py",
   "mimetype": "text/x-python",
   "name": "python",
   "nbconvert_exporter": "python",
   "pygments_lexer": "ipython3",
   "version": "3.11.3"
  }
 },
 "nbformat": 4,
 "nbformat_minor": 5
}
