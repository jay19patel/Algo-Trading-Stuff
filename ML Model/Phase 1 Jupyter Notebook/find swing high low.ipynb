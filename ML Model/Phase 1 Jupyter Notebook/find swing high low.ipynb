{
 "cells": [
  {
   "cell_type": "code",
   "execution_count": 2,
   "id": "5d509c5b-b1cd-4506-9357-f0cdfb3293e3",
   "metadata": {},
   "outputs": [],
   "source": [
    "# temp = None\n",
    "# MaxList = list()\n",
    "# MinList = list()\n",
    "# def FindMinMax(row):\n",
    "#     global temp,MinList,MaxList\n",
    "#     # print(row[\"Trend\"],temp)\n",
    "#     if temp!= None :\n",
    "#         if row[\"Trend\"] == 1 and temp == 1:\n",
    "#             MaxList.append(row[\"High\"])\n",
    "#         elif row[\"Trend\"] == -1 and temp == -1:\n",
    "#             MinList.append(row[\"Low\"])\n",
    "            \n",
    "#         elif row[\"Trend\"] == -1 and temp == 1:\n",
    "#             MinList.clear()\n",
    "#             MinList.append(row[\"Low\"])\n",
    "#             temp = row[\"Trend\"]\n",
    "            \n",
    "#         elif row[\"Trend\"] == 1 and temp == -1:\n",
    "#             MaxList.clear()\n",
    "#             MaxList.append(row[\"High\"])\n",
    "#             temp = row[\"Trend\"]\n",
    "\n",
    "#         return min(MinList),max(MaxList)\n",
    "            \n",
    "#     else:\n",
    "#         temp = row[\"Trend\"]\n",
    "#         MaxList.append(row[\"High\"])\n",
    "#         MinList.append(row[\"Low\"])\n",
    "    \n",
    "#     return min(MinList),max(MaxList)\n",
    "    \n",
    "# df_day[\"Day Swing\"]=df_day.apply(FindMinMax,axis=1)"
   ]
  },
  {
   "cell_type": "code",
   "execution_count": null,
   "id": "269442ba-f789-4140-b281-356bc74b80a1",
   "metadata": {},
   "outputs": [],
   "source": []
  }
 ],
 "metadata": {
  "kernelspec": {
   "display_name": "Python 3 (ipykernel)",
   "language": "python",
   "name": "python3"
  },
  "language_info": {
   "codemirror_mode": {
    "name": "ipython",
    "version": 3
   },
   "file_extension": ".py",
   "mimetype": "text/x-python",
   "name": "python",
   "nbconvert_exporter": "python",
   "pygments_lexer": "ipython3",
   "version": "3.11.3"
  }
 },
 "nbformat": 4,
 "nbformat_minor": 5
}
