{
 "cells": [
  {
   "cell_type": "code",
   "execution_count": 3,
   "id": "06380541-db6c-4fb8-a4b6-b591742d9992",
   "metadata": {},
   "outputs": [],
   "source": [
    "from fyers_apiv3 import fyersModel\n",
    "from datetime import datetime , timedelta\n",
    "import pandas as pd\n",
    "import pytz"
   ]
  },
  {
   "cell_type": "markdown",
   "id": "fb21b355-a9a7-4d28-a7c3-7dc8a47a800a",
   "metadata": {},
   "source": [
    "# Genrate Token"
   ]
  },
  {
   "cell_type": "code",
   "execution_count": 4,
   "id": "89ed54c5-0214-45ae-9b64-5b2baaa45e0b",
   "metadata": {},
   "outputs": [],
   "source": [
    "client_id = \"MACO3YJA7I-100\"  # Replace with your client ID\n",
    "secret_key = \"N7SXUFQG91\"  # Replace with your secret key\n",
    "redirect_uri = \"https://trade.fyers.in/api-login/redirect-uri/index.html\"  # Replace with your redirect URI\n",
    "response_type = \"code\" \n",
    "grant_type = \"authorization_code\"  \n",
    "state = \"sample_state\""
   ]
  },
  {
   "cell_type": "markdown",
   "id": "80c12ebd-d3d0-4496-9b49-b6beaa62ec53",
   "metadata": {},
   "source": [
    "### Genearte Authcode"
   ]
  },
  {
   "cell_type": "code",
   "execution_count": 5,
   "id": "6660df1b-01cc-47a2-963b-f560d62a6f91",
   "metadata": {},
   "outputs": [
    {
     "name": "stdout",
     "output_type": "stream",
     "text": [
      "https://api-t1.fyers.in/api/v3/generate-authcode?client_id=MACO3YJA7I-100&redirect_uri=https%3A%2F%2Ftrade.fyers.in%2Fapi-login%2Fredirect-uri%2Findex.html&response_type=code&state=None\n"
     ]
    }
   ],
   "source": [
    "# # Generate Auth Code\n",
    "session = fyersModel.SessionModel(\n",
    "    client_id=client_id,\n",
    "    secret_key=secret_key,\n",
    "    redirect_uri=redirect_uri,\n",
    "    response_type=response_type\n",
    ")\n",
    "genrate_authcode = session.generate_authcode()\n",
    "print(genrate_authcode)"
   ]
  },
  {
   "cell_type": "code",
   "execution_count": 6,
   "id": "e2c0c65d-d39e-432e-a197-662df9e866ba",
   "metadata": {},
   "outputs": [],
   "source": [
    "auth_code =\"eyJ0eXAiOiJKV1QiLCJhbGciOiJIUzI1NiJ9.eyJpc3MiOiJhcGkubG9naW4uZnllcnMuaW4iLCJpYXQiOjE3MTA3NzE2OTUsImV4cCI6MTcxMDgwMTY5NSwibmJmIjoxNzEwNzcxMDk1LCJhdWQiOiJbXCJ4OjBcIiwgXCJ4OjFcIiwgXCJ4OjJcIiwgXCJkOjFcIiwgXCJkOjJcIiwgXCJ4OjFcIiwgXCJ4OjBcIl0iLCJzdWIiOiJhdXRoX2NvZGUiLCJkaXNwbGF5X25hbWUiOiJZSjAwMTI5Iiwib21zIjoiSzEiLCJoc21fa2V5IjoiMjdlMDQ2OGE4MGJkYmVmMGQyYTg3M2MxMmNlN2YyZGEyMjA1NzQ0ZTIwYTg1MDI0YjhlMDA4NDciLCJub25jZSI6IiIsImFwcF9pZCI6Ik1BQ08zWUpBN0kiLCJ1dWlkIjoiNWFjYzFiZmI4MjQyNGYyMjlkODU3NTAxM2UwZGFlMjEiLCJpcEFkZHIiOiIwLjAuMC4wIiwic2NvcGUiOiIifQ.bXMc28gw_gBpjyWh2xjHJg5-duwk27WIxnK9MDU_WmQ\""
   ]
  },
  {
   "cell_type": "markdown",
   "id": "139189c8-e555-4a66-9440-dee81ec11ca5",
   "metadata": {},
   "source": [
    "### Set Session & Get TOKEN"
   ]
  },
  {
   "cell_type": "code",
   "execution_count": 7,
   "id": "d184fabc-7aef-4f19-b3d3-a268ec5fd99b",
   "metadata": {},
   "outputs": [],
   "source": [
    "session = fyersModel.SessionModel(\n",
    "    client_id=client_id,\n",
    "    secret_key=secret_key, \n",
    "    redirect_uri=redirect_uri, \n",
    "    response_type=response_type, \n",
    "    grant_type=grant_type\n",
    ")\n",
    "session.set_token(auth_code)\n",
    "response = session.generate_token()\n",
    "access_token = response['access_token']"
   ]
  },
  {
   "cell_type": "code",
   "execution_count": 8,
   "id": "7f413d3d-6877-406a-9894-ad47bddbce77",
   "metadata": {},
   "outputs": [
    {
     "data": {
      "text/plain": [
       "'eyJ0eXAiOiJKV1QiLCJhbGciOiJIUzI1NiJ9.eyJpc3MiOiJhcGkuZnllcnMuaW4iLCJpYXQiOjE3MTA3NzE3MDYsImV4cCI6MTcxMDgwODI0NiwibmJmIjoxNzEwNzcxNzA2LCJhdWQiOlsieDowIiwieDoxIiwieDoyIiwiZDoxIiwiZDoyIiwieDoxIiwieDowIl0sInN1YiI6ImFjY2Vzc190b2tlbiIsImF0X2hhc2giOiJnQUFBQUFCbC1FMzZUQmRzQ0U3elNWczlkeHE3aW5QemtSVXdnOU9PVWIwaXZkSmpOLW5RTkwzQmJDTmxqcFpkZkdvcnlBeDR0ZnhaQVVoMlA2SUNGM1ZrVHR0LUR0QXdzcFN6bF81VkhfSVMxaGljaS0zaFpNaz0iLCJkaXNwbGF5X25hbWUiOiJKQVlLVU1BUiBESEFOU1VLSEJIQUkgUEFURUwiLCJvbXMiOiJLMSIsImhzbV9rZXkiOiIyN2UwNDY4YTgwYmRiZWYwZDJhODczYzEyY2U3ZjJkYTIyMDU3NDRlMjBhODUwMjRiOGUwMDg0NyIsImZ5X2lkIjoiWUowMDEyOSIsImFwcFR5cGUiOjEwMCwicG9hX2ZsYWciOiJOIn0.mBNH5Q11eHkyjXVEG8uS1JORt75-WA_s3vHjoI7R250'"
      ]
     },
     "execution_count": 8,
     "metadata": {},
     "output_type": "execute_result"
    }
   ],
   "source": [
    "access_token"
   ]
  },
  {
   "cell_type": "markdown",
   "id": "081109c3-60af-4c1d-8a82-05add70627b7",
   "metadata": {},
   "source": [
    "# Login "
   ]
  },
  {
   "cell_type": "code",
   "execution_count": 9,
   "id": "abf2f4a8-c613-4ebf-82ab-41df04a3262c",
   "metadata": {},
   "outputs": [],
   "source": [
    "access_token= 'eyJ0eXAiOiJKV1QiLCJhbGciOiJIUzI1NiJ9.eyJpc3MiOiJhcGkuZnllcnMuaW4iLCJpYXQiOjE3MTA3NzE3MDYsImV4cCI6MTcxMDgwODI0NiwibmJmIjoxNzEwNzcxNzA2LCJhdWQiOlsieDowIiwieDoxIiwieDoyIiwiZDoxIiwiZDoyIiwieDoxIiwieDowIl0sInN1YiI6ImFjY2Vzc190b2tlbiIsImF0X2hhc2giOiJnQUFBQUFCbC1FMzZUQmRzQ0U3elNWczlkeHE3aW5QemtSVXdnOU9PVWIwaXZkSmpOLW5RTkwzQmJDTmxqcFpkZkdvcnlBeDR0ZnhaQVVoMlA2SUNGM1ZrVHR0LUR0QXdzcFN6bF81VkhfSVMxaGljaS0zaFpNaz0iLCJkaXNwbGF5X25hbWUiOiJKQVlLVU1BUiBESEFOU1VLSEJIQUkgUEFURUwiLCJvbXMiOiJLMSIsImhzbV9rZXkiOiIyN2UwNDY4YTgwYmRiZWYwZDJhODczYzEyY2U3ZjJkYTIyMDU3NDRlMjBhODUwMjRiOGUwMDg0NyIsImZ5X2lkIjoiWUowMDEyOSIsImFwcFR5cGUiOjEwMCwicG9hX2ZsYWciOiJOIn0.mBNH5Q11eHkyjXVEG8uS1JORt75-WA_s3vHjoI7R250'"
   ]
  },
  {
   "cell_type": "code",
   "execution_count": 10,
   "id": "1af63a06-1047-4358-9514-110c2477ce38",
   "metadata": {},
   "outputs": [],
   "source": [
    "fyers = fyersModel.FyersModel(client_id=client_id, is_async=False, token=access_token, log_path=\"\")"
   ]
  },
  {
   "cell_type": "code",
   "execution_count": 11,
   "id": "5d0370b1-89a8-4eee-bc63-1a8a84082867",
   "metadata": {},
   "outputs": [
    {
     "data": {
      "text/plain": [
       "{'s': 'ok',\n",
       " 'code': 200,\n",
       " 'message': '',\n",
       " 'data': {'fy_id': 'YJ00129',\n",
       "  'name': 'JAYKUMAR DHANSUKHBHAI PATEL',\n",
       "  'image': None,\n",
       "  'display_name': None,\n",
       "  'pin_change_date': '18-12-2023 16:00:58',\n",
       "  'email_id': 'justjayy19@gmail.com',\n",
       "  'pwd_change_date': None,\n",
       "  'PAN': '---------',\n",
       "  'mobile_number': '7069668308',\n",
       "  'totp': True,\n",
       "  'pwd_to_expire': 90}}"
      ]
     },
     "execution_count": 11,
     "metadata": {},
     "output_type": "execute_result"
    }
   ],
   "source": [
    "fyers.get_profile()"
   ]
  },
  {
   "cell_type": "code",
   "execution_count": 20,
   "id": "78e7be39-01ac-49d7-949e-90d51a028500",
   "metadata": {},
   "outputs": [],
   "source": [
    "def Historical_Data(Symbol,TimeFrame,startdate,enddate):\n",
    "    data = {\n",
    "            \"symbol\":Symbol,\n",
    "            \"resolution\": TimeFrame,\n",
    "            \"date_format\":\"1\",\n",
    "            \"range_from\":startdate,\n",
    "            \"range_to\":enddate,\n",
    "            \"cont_flag\":\"0\"\n",
    "            }\n",
    "    row_data =  fyers.history(data=data)\n",
    "    return row_data"
   ]
  },
  {
   "cell_type": "code",
   "execution_count": 29,
   "id": "1bf86ec9-b4f1-4553-8cdc-56fa870c35a6",
   "metadata": {},
   "outputs": [],
   "source": [
    "from datetime import datetime, timedelta\n",
    "def generate_date_range(years):\n",
    "    current_date = datetime.now()\n",
    "    past_date = current_date - timedelta(days=years*365)  \n",
    "    date_ranges = []\n",
    "    while past_date < current_date:\n",
    "        next_date = past_date + timedelta(days=3*30)\n",
    "        if next_date > current_date:\n",
    "            next_date = current_date\n",
    "        date_ranges.append((past_date, next_date))\n",
    "        past_date = next_date + timedelta(days=1)\n",
    "    return date_ranges"
   ]
  },
  {
   "cell_type": "code",
   "execution_count": 30,
   "id": "7288c97b-c87e-405f-9de7-792e1717cd52",
   "metadata": {},
   "outputs": [],
   "source": [
    "data = []\n",
    "Symbol = \"NSE:NIFTY50-INDEX\"\n",
    "TimeFrame = \"5\"\n",
    "for i in  generate_date_range(5):\n",
    "    startdate = i[0].date()\n",
    "    enddate = i[1].date()\n",
    "    df = Historical_Data(Symbol,TimeFrame,startdate,enddate)\n",
    "    data.extend(df['candles'])"
   ]
  },
  {
   "cell_type": "code",
   "execution_count": 31,
   "id": "a905e1cc-bcad-4990-b27b-d3af8106d5ca",
   "metadata": {},
   "outputs": [],
   "source": [
    "import pandas as pd"
   ]
  },
  {
   "cell_type": "code",
   "execution_count": 32,
   "id": "d66539f5-aa01-4906-9fb0-ecd2f082feb1",
   "metadata": {},
   "outputs": [],
   "source": [
    "df = pd.DataFrame(data)"
   ]
  },
  {
   "cell_type": "code",
   "execution_count": 33,
   "id": "9e39d08a-6a7a-45f8-b079-4674b2f0016c",
   "metadata": {},
   "outputs": [],
   "source": [
    "columns_name = ['Datetime','Open','High','Low','Close','Volume']\n",
    "df.columns = columns_name\n",
    "df['Datetime'] = pd.to_datetime(df['Datetime'], unit='s')\n",
    "df['Datetime'] = df['Datetime'].dt.tz_localize(pytz.utc).dt.tz_convert('Asia/Kolkata')\n",
    "df['Datetime'] = df['Datetime'].dt.tz_localize(None)"
   ]
  },
  {
   "cell_type": "code",
   "execution_count": 34,
   "id": "19d84d85-fcec-4a65-b2b0-83bbaec55c83",
   "metadata": {},
   "outputs": [],
   "source": [
    "df.to_csv(\"Nifty50_5min.csv\", index=False)"
   ]
  },
  {
   "cell_type": "code",
   "execution_count": 35,
   "id": "4ead0862-c490-4ea3-b45c-985886af40cc",
   "metadata": {},
   "outputs": [
    {
     "data": {
      "text/html": [
       "<div>\n",
       "<style scoped>\n",
       "    .dataframe tbody tr th:only-of-type {\n",
       "        vertical-align: middle;\n",
       "    }\n",
       "\n",
       "    .dataframe tbody tr th {\n",
       "        vertical-align: top;\n",
       "    }\n",
       "\n",
       "    .dataframe thead th {\n",
       "        text-align: right;\n",
       "    }\n",
       "</style>\n",
       "<table border=\"1\" class=\"dataframe\">\n",
       "  <thead>\n",
       "    <tr style=\"text-align: right;\">\n",
       "      <th></th>\n",
       "      <th>Datetime</th>\n",
       "      <th>Open</th>\n",
       "      <th>High</th>\n",
       "      <th>Low</th>\n",
       "      <th>Close</th>\n",
       "      <th>Volume</th>\n",
       "    </tr>\n",
       "  </thead>\n",
       "  <tbody>\n",
       "    <tr>\n",
       "      <th>0</th>\n",
       "      <td>2019-03-20 09:15:00</td>\n",
       "      <td>11553.30</td>\n",
       "      <td>11556.10</td>\n",
       "      <td>11530.70</td>\n",
       "      <td>11532.20</td>\n",
       "      <td>0</td>\n",
       "    </tr>\n",
       "    <tr>\n",
       "      <th>1</th>\n",
       "      <td>2019-03-20 09:20:00</td>\n",
       "      <td>11530.50</td>\n",
       "      <td>11531.80</td>\n",
       "      <td>11518.70</td>\n",
       "      <td>11529.50</td>\n",
       "      <td>0</td>\n",
       "    </tr>\n",
       "    <tr>\n",
       "      <th>2</th>\n",
       "      <td>2019-03-20 09:25:00</td>\n",
       "      <td>11529.30</td>\n",
       "      <td>11530.20</td>\n",
       "      <td>11522.20</td>\n",
       "      <td>11522.30</td>\n",
       "      <td>0</td>\n",
       "    </tr>\n",
       "    <tr>\n",
       "      <th>3</th>\n",
       "      <td>2019-03-20 09:30:00</td>\n",
       "      <td>11522.90</td>\n",
       "      <td>11523.80</td>\n",
       "      <td>11511.50</td>\n",
       "      <td>11516.20</td>\n",
       "      <td>0</td>\n",
       "    </tr>\n",
       "    <tr>\n",
       "      <th>4</th>\n",
       "      <td>2019-03-20 09:35:00</td>\n",
       "      <td>11515.80</td>\n",
       "      <td>11521.00</td>\n",
       "      <td>11511.60</td>\n",
       "      <td>11521.00</td>\n",
       "      <td>0</td>\n",
       "    </tr>\n",
       "    <tr>\n",
       "      <th>...</th>\n",
       "      <td>...</td>\n",
       "      <td>...</td>\n",
       "      <td>...</td>\n",
       "      <td>...</td>\n",
       "      <td>...</td>\n",
       "      <td>...</td>\n",
       "    </tr>\n",
       "    <tr>\n",
       "      <th>92513</th>\n",
       "      <td>2024-03-18 15:05:00</td>\n",
       "      <td>22069.65</td>\n",
       "      <td>22070.10</td>\n",
       "      <td>22037.45</td>\n",
       "      <td>22052.75</td>\n",
       "      <td>0</td>\n",
       "    </tr>\n",
       "    <tr>\n",
       "      <th>92514</th>\n",
       "      <td>2024-03-18 15:10:00</td>\n",
       "      <td>22052.70</td>\n",
       "      <td>22057.35</td>\n",
       "      <td>22046.15</td>\n",
       "      <td>22056.20</td>\n",
       "      <td>0</td>\n",
       "    </tr>\n",
       "    <tr>\n",
       "      <th>92515</th>\n",
       "      <td>2024-03-18 15:15:00</td>\n",
       "      <td>22055.00</td>\n",
       "      <td>22068.35</td>\n",
       "      <td>22050.40</td>\n",
       "      <td>22050.60</td>\n",
       "      <td>0</td>\n",
       "    </tr>\n",
       "    <tr>\n",
       "      <th>92516</th>\n",
       "      <td>2024-03-18 15:20:00</td>\n",
       "      <td>22050.15</td>\n",
       "      <td>22050.55</td>\n",
       "      <td>22036.30</td>\n",
       "      <td>22048.30</td>\n",
       "      <td>0</td>\n",
       "    </tr>\n",
       "    <tr>\n",
       "      <th>92517</th>\n",
       "      <td>2024-03-18 15:25:00</td>\n",
       "      <td>22048.65</td>\n",
       "      <td>22061.20</td>\n",
       "      <td>22047.05</td>\n",
       "      <td>22051.50</td>\n",
       "      <td>0</td>\n",
       "    </tr>\n",
       "  </tbody>\n",
       "</table>\n",
       "<p>92518 rows × 6 columns</p>\n",
       "</div>"
      ],
      "text/plain": [
       "                 Datetime      Open      High       Low     Close  Volume\n",
       "0     2019-03-20 09:15:00  11553.30  11556.10  11530.70  11532.20       0\n",
       "1     2019-03-20 09:20:00  11530.50  11531.80  11518.70  11529.50       0\n",
       "2     2019-03-20 09:25:00  11529.30  11530.20  11522.20  11522.30       0\n",
       "3     2019-03-20 09:30:00  11522.90  11523.80  11511.50  11516.20       0\n",
       "4     2019-03-20 09:35:00  11515.80  11521.00  11511.60  11521.00       0\n",
       "...                   ...       ...       ...       ...       ...     ...\n",
       "92513 2024-03-18 15:05:00  22069.65  22070.10  22037.45  22052.75       0\n",
       "92514 2024-03-18 15:10:00  22052.70  22057.35  22046.15  22056.20       0\n",
       "92515 2024-03-18 15:15:00  22055.00  22068.35  22050.40  22050.60       0\n",
       "92516 2024-03-18 15:20:00  22050.15  22050.55  22036.30  22048.30       0\n",
       "92517 2024-03-18 15:25:00  22048.65  22061.20  22047.05  22051.50       0\n",
       "\n",
       "[92518 rows x 6 columns]"
      ]
     },
     "execution_count": 35,
     "metadata": {},
     "output_type": "execute_result"
    }
   ],
   "source": [
    "df"
   ]
  },
  {
   "cell_type": "code",
   "execution_count": null,
   "id": "fe9d13cf-4f35-4a35-8e43-72029107768a",
   "metadata": {},
   "outputs": [],
   "source": []
  },
  {
   "cell_type": "code",
   "execution_count": null,
   "id": "2cb9a3d7-a30b-49c3-a26e-6164d1fb79ab",
   "metadata": {},
   "outputs": [],
   "source": []
  },
  {
   "cell_type": "code",
   "execution_count": null,
   "id": "95cfa748-093c-45c8-a49d-72648f2422b2",
   "metadata": {},
   "outputs": [],
   "source": []
  }
 ],
 "metadata": {
  "kernelspec": {
   "display_name": "Python 3 (ipykernel)",
   "language": "python",
   "name": "python3"
  },
  "language_info": {
   "codemirror_mode": {
    "name": "ipython",
    "version": 3
   },
   "file_extension": ".py",
   "mimetype": "text/x-python",
   "name": "python",
   "nbconvert_exporter": "python",
   "pygments_lexer": "ipython3",
   "version": "3.11.3"
  }
 },
 "nbformat": 4,
 "nbformat_minor": 5
}
