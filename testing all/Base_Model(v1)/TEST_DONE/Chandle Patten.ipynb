{
 "cells": [
  {
   "cell_type": "code",
   "execution_count": 28,
   "id": "bb0e4547",
   "metadata": {},
   "outputs": [],
   "source": [
    "import pandas as pd\n",
    "import seaborn as sns\n",
    "import matplotlib.pyplot as plt\n",
    "import datetime\n",
    "import yfinance as yf\n",
    "import pandas as pd"
   ]
  },
  {
   "cell_type": "code",
   "execution_count": 29,
   "id": "be717b97",
   "metadata": {
    "scrolled": true
   },
   "outputs": [
    {
     "name": "stdout",
     "output_type": "stream",
     "text": [
      "[*********************100%%**********************]  1 of 1 completed\n"
     ]
    }
   ],
   "source": [
    "nifty_symbol = \"^NSEI\"\n",
    "banknifty_symbol = \"^NSEBANK\"\n",
    "\n",
    "start_date = \"2023-02-01\"\n",
    "end_date = \"2023-02-10\"\n",
    "nifty_data = yf.download(nifty_symbol, start=start_date, end=end_date)\n",
    "\n",
    "df = pd.DataFrame(nifty_data)"
   ]
  },
  {
   "cell_type": "code",
   "execution_count": 30,
   "id": "7f4705c2",
   "metadata": {},
   "outputs": [],
   "source": [
    "df[\"upper_shadow\"] = df.apply(lambda row: row['High'] - max(row['Open'], row['Close']),axis=1)\n",
    "df[\"lower_shadow\"] = df.apply(lambda row: min(row['Open'], row['Close']) - row['Low'],axis=1)\n",
    "# Calculate body length\n",
    "df[\"body\"] = abs(df[\"Close\"] - df[\"Open\"])\n",
    "df[\"full\"] = df['High'] - df['Low']\n",
    "\n",
    "# Create a new column for the candle type\n",
    "df[\"Candle\"] = df.apply(lambda row: \"Green\" if row[\"Close\"] >= row[\"Open\"] else \"Red\", axis=1)\n"
   ]
  },
  {
   "cell_type": "code",
   "execution_count": 31,
   "id": "21a59ed4",
   "metadata": {},
   "outputs": [],
   "source": [
    "df['Prev_Open'] = df['Open'].shift(1)\n",
    "df['Prev_Close'] = df['Close'].shift(1)\n",
    "df['Prev_High'] = df['High'].shift(1)\n",
    "df['Prev_Low'] = df['Low'].shift(1)\n",
    "df['Prev_Candle'] = df['Candle'].shift(1)\n",
    "\n",
    "df['Next_Open'] = df['Open'].shift(-1)\n",
    "df['Next_Close'] = df['Close'].shift(-1)\n",
    "df['Next_High'] = df['High'].shift(-1)\n",
    "df['Next_Low'] = df['Low'].shift(-1)\n",
    "df['Next_Candle'] = df['Candle'].shift(-1)\n"
   ]
  },
  {
   "cell_type": "markdown",
   "id": "f894bda1",
   "metadata": {},
   "source": [
    "# Engulfing Candle"
   ]
  },
  {
   "cell_type": "code",
   "execution_count": 32,
   "id": "40d16263",
   "metadata": {},
   "outputs": [],
   "source": [
    "def engulfing_bearish(row):\n",
    "    data = row[\"Prev_Candle\"] == \"Green\" and row[\"Open\"]>=row[\"Prev_Close\"] and row[\"Close\"]<= row[\"Prev_Open\"] and row['Next_Candle']==\"Red\"\n",
    "    return data\n",
    "\n",
    "def engulfing_bullish(row):\n",
    "    data= row[\"Prev_Candle\"] == \"Red\" and row[\"Open\"]<=row[\"Prev_Close\"] and row[\"Close\"]>= row[\"Prev_Open\"] and row['Next_Candle']==\"Green\"\n",
    "    return data   "
   ]
  },
  {
   "cell_type": "code",
   "execution_count": 33,
   "id": "33957469",
   "metadata": {},
   "outputs": [],
   "source": [
    "df['Engulfing_Bullish'] = df.apply(engulfing_bullish, axis=1)\n",
    "df['Engulfing_Bearish'] = df.apply(engulfing_bearish, axis=1)"
   ]
  },
  {
   "cell_type": "code",
   "execution_count": 34,
   "id": "30bc1d89",
   "metadata": {},
   "outputs": [],
   "source": [
    "engulfingdf = df[[\"Open\",\"Close\",\"Candle\",\"Engulfing_Bullish\",\"Engulfing_Bearish\"]]"
   ]
  },
  {
   "cell_type": "code",
   "execution_count": 35,
   "id": "f9a996d1",
   "metadata": {},
   "outputs": [
    {
     "data": {
      "text/html": [
       "<div>\n",
       "<style scoped>\n",
       "    .dataframe tbody tr th:only-of-type {\n",
       "        vertical-align: middle;\n",
       "    }\n",
       "\n",
       "    .dataframe tbody tr th {\n",
       "        vertical-align: top;\n",
       "    }\n",
       "\n",
       "    .dataframe thead th {\n",
       "        text-align: right;\n",
       "    }\n",
       "</style>\n",
       "<table border=\"1\" class=\"dataframe\">\n",
       "  <thead>\n",
       "    <tr style=\"text-align: right;\">\n",
       "      <th></th>\n",
       "      <th>Open</th>\n",
       "      <th>Close</th>\n",
       "      <th>Candle</th>\n",
       "      <th>Engulfing_Bullish</th>\n",
       "      <th>Engulfing_Bearish</th>\n",
       "    </tr>\n",
       "    <tr>\n",
       "      <th>Date</th>\n",
       "      <th></th>\n",
       "      <th></th>\n",
       "      <th></th>\n",
       "      <th></th>\n",
       "      <th></th>\n",
       "    </tr>\n",
       "  </thead>\n",
       "  <tbody>\n",
       "    <tr>\n",
       "      <th>2023-02-01</th>\n",
       "      <td>17811.599609</td>\n",
       "      <td>17616.300781</td>\n",
       "      <td>Red</td>\n",
       "      <td>False</td>\n",
       "      <td>False</td>\n",
       "    </tr>\n",
       "    <tr>\n",
       "      <th>2023-02-02</th>\n",
       "      <td>17517.099609</td>\n",
       "      <td>17610.400391</td>\n",
       "      <td>Green</td>\n",
       "      <td>False</td>\n",
       "      <td>False</td>\n",
       "    </tr>\n",
       "    <tr>\n",
       "      <th>2023-02-03</th>\n",
       "      <td>17721.750000</td>\n",
       "      <td>17854.050781</td>\n",
       "      <td>Green</td>\n",
       "      <td>False</td>\n",
       "      <td>False</td>\n",
       "    </tr>\n",
       "    <tr>\n",
       "      <th>2023-02-06</th>\n",
       "      <td>17818.550781</td>\n",
       "      <td>17764.599609</td>\n",
       "      <td>Red</td>\n",
       "      <td>False</td>\n",
       "      <td>False</td>\n",
       "    </tr>\n",
       "    <tr>\n",
       "      <th>2023-02-07</th>\n",
       "      <td>17790.099609</td>\n",
       "      <td>17721.500000</td>\n",
       "      <td>Red</td>\n",
       "      <td>False</td>\n",
       "      <td>False</td>\n",
       "    </tr>\n",
       "    <tr>\n",
       "      <th>2023-02-08</th>\n",
       "      <td>17750.300781</td>\n",
       "      <td>17871.699219</td>\n",
       "      <td>Green</td>\n",
       "      <td>False</td>\n",
       "      <td>False</td>\n",
       "    </tr>\n",
       "    <tr>\n",
       "      <th>2023-02-09</th>\n",
       "      <td>17885.500000</td>\n",
       "      <td>17893.449219</td>\n",
       "      <td>Green</td>\n",
       "      <td>False</td>\n",
       "      <td>False</td>\n",
       "    </tr>\n",
       "  </tbody>\n",
       "</table>\n",
       "</div>"
      ],
      "text/plain": [
       "                    Open         Close Candle  Engulfing_Bullish  \\\n",
       "Date                                                               \n",
       "2023-02-01  17811.599609  17616.300781    Red              False   \n",
       "2023-02-02  17517.099609  17610.400391  Green              False   \n",
       "2023-02-03  17721.750000  17854.050781  Green              False   \n",
       "2023-02-06  17818.550781  17764.599609    Red              False   \n",
       "2023-02-07  17790.099609  17721.500000    Red              False   \n",
       "2023-02-08  17750.300781  17871.699219  Green              False   \n",
       "2023-02-09  17885.500000  17893.449219  Green              False   \n",
       "\n",
       "            Engulfing_Bearish  \n",
       "Date                           \n",
       "2023-02-01              False  \n",
       "2023-02-02              False  \n",
       "2023-02-03              False  \n",
       "2023-02-06              False  \n",
       "2023-02-07              False  \n",
       "2023-02-08              False  \n",
       "2023-02-09              False  "
      ]
     },
     "execution_count": 35,
     "metadata": {},
     "output_type": "execute_result"
    }
   ],
   "source": [
    "engulfingdf"
   ]
  },
  {
   "cell_type": "markdown",
   "id": "c85b3efc",
   "metadata": {},
   "source": [
    "# Doji candle"
   ]
  },
  {
   "cell_type": "code",
   "execution_count": 36,
   "id": "4d7e4e43",
   "metadata": {},
   "outputs": [],
   "source": [
    "def is_doji(row):\n",
    "    n = 5 \n",
    "    data = row[\"body\"] < row['full']/n and row['upper_shadow'] >= n * row[\"body\"] and row['lower_shadow'] >= n * row[\"body\"]\n",
    "    return data\n",
    "\n",
    "def is_dragonfly_doji(row):\n",
    "    n=5\n",
    "    data =  row[\"body\"] < row['full']/n and row['upper_shadow'] *2 < row['lower_shadow']\n",
    "    return data\n",
    "\n",
    "    \n",
    "def is_gravestone_doji(row):\n",
    "    n=5\n",
    "    data =  row[\"body\"] < row['full']/n and row['upper_shadow'] > row['lower_shadow']*2\n",
    "    return data\n",
    "# chnage n for body \n",
    "# row[\"body\"] < 0.1 * row['full'] = 10% Jetli j body reva joyye \n",
    "# chnage number 2 as we need the size of shadow and body "
   ]
  },
  {
   "cell_type": "code",
   "execution_count": 37,
   "id": "faf96781",
   "metadata": {},
   "outputs": [],
   "source": [
    "df['Is_Doji'] = df.apply(is_doji, axis=1)\n",
    "df['Is_Dragonfly_Doji'] = df.apply(is_dragonfly_doji, axis=1)\n",
    "df['Is_Gravestone_Doji'] = df.apply(is_gravestone_doji, axis=1)"
   ]
  },
  {
   "cell_type": "code",
   "execution_count": 38,
   "id": "54295a9b",
   "metadata": {},
   "outputs": [],
   "source": [
    "dojidf = df[[\"Open\",\"Close\",\"Candle\",\"Is_Doji\",\"Is_Dragonfly_Doji\",\"Is_Gravestone_Doji\"]]"
   ]
  },
  {
   "cell_type": "code",
   "execution_count": 39,
   "id": "33b7e37f",
   "metadata": {},
   "outputs": [
    {
     "data": {
      "text/html": [
       "<div>\n",
       "<style scoped>\n",
       "    .dataframe tbody tr th:only-of-type {\n",
       "        vertical-align: middle;\n",
       "    }\n",
       "\n",
       "    .dataframe tbody tr th {\n",
       "        vertical-align: top;\n",
       "    }\n",
       "\n",
       "    .dataframe thead th {\n",
       "        text-align: right;\n",
       "    }\n",
       "</style>\n",
       "<table border=\"1\" class=\"dataframe\">\n",
       "  <thead>\n",
       "    <tr style=\"text-align: right;\">\n",
       "      <th></th>\n",
       "      <th>Open</th>\n",
       "      <th>Close</th>\n",
       "      <th>Candle</th>\n",
       "      <th>Is_Doji</th>\n",
       "      <th>Is_Dragonfly_Doji</th>\n",
       "      <th>Is_Gravestone_Doji</th>\n",
       "    </tr>\n",
       "    <tr>\n",
       "      <th>Date</th>\n",
       "      <th></th>\n",
       "      <th></th>\n",
       "      <th></th>\n",
       "      <th></th>\n",
       "      <th></th>\n",
       "      <th></th>\n",
       "    </tr>\n",
       "  </thead>\n",
       "  <tbody>\n",
       "    <tr>\n",
       "      <th>2023-02-01</th>\n",
       "      <td>17811.599609</td>\n",
       "      <td>17616.300781</td>\n",
       "      <td>Red</td>\n",
       "      <td>False</td>\n",
       "      <td>False</td>\n",
       "      <td>False</td>\n",
       "    </tr>\n",
       "    <tr>\n",
       "      <th>2023-02-02</th>\n",
       "      <td>17517.099609</td>\n",
       "      <td>17610.400391</td>\n",
       "      <td>Green</td>\n",
       "      <td>False</td>\n",
       "      <td>False</td>\n",
       "      <td>False</td>\n",
       "    </tr>\n",
       "    <tr>\n",
       "      <th>2023-02-03</th>\n",
       "      <td>17721.750000</td>\n",
       "      <td>17854.050781</td>\n",
       "      <td>Green</td>\n",
       "      <td>False</td>\n",
       "      <td>False</td>\n",
       "      <td>False</td>\n",
       "    </tr>\n",
       "    <tr>\n",
       "      <th>2023-02-06</th>\n",
       "      <td>17818.550781</td>\n",
       "      <td>17764.599609</td>\n",
       "      <td>Red</td>\n",
       "      <td>False</td>\n",
       "      <td>False</td>\n",
       "      <td>False</td>\n",
       "    </tr>\n",
       "    <tr>\n",
       "      <th>2023-02-07</th>\n",
       "      <td>17790.099609</td>\n",
       "      <td>17721.500000</td>\n",
       "      <td>Red</td>\n",
       "      <td>False</td>\n",
       "      <td>False</td>\n",
       "      <td>False</td>\n",
       "    </tr>\n",
       "    <tr>\n",
       "      <th>2023-02-08</th>\n",
       "      <td>17750.300781</td>\n",
       "      <td>17871.699219</td>\n",
       "      <td>Green</td>\n",
       "      <td>False</td>\n",
       "      <td>False</td>\n",
       "      <td>False</td>\n",
       "    </tr>\n",
       "    <tr>\n",
       "      <th>2023-02-09</th>\n",
       "      <td>17885.500000</td>\n",
       "      <td>17893.449219</td>\n",
       "      <td>Green</td>\n",
       "      <td>False</td>\n",
       "      <td>True</td>\n",
       "      <td>False</td>\n",
       "    </tr>\n",
       "  </tbody>\n",
       "</table>\n",
       "</div>"
      ],
      "text/plain": [
       "                    Open         Close Candle  Is_Doji  Is_Dragonfly_Doji  \\\n",
       "Date                                                                        \n",
       "2023-02-01  17811.599609  17616.300781    Red    False              False   \n",
       "2023-02-02  17517.099609  17610.400391  Green    False              False   \n",
       "2023-02-03  17721.750000  17854.050781  Green    False              False   \n",
       "2023-02-06  17818.550781  17764.599609    Red    False              False   \n",
       "2023-02-07  17790.099609  17721.500000    Red    False              False   \n",
       "2023-02-08  17750.300781  17871.699219  Green    False              False   \n",
       "2023-02-09  17885.500000  17893.449219  Green    False               True   \n",
       "\n",
       "            Is_Gravestone_Doji  \n",
       "Date                            \n",
       "2023-02-01               False  \n",
       "2023-02-02               False  \n",
       "2023-02-03               False  \n",
       "2023-02-06               False  \n",
       "2023-02-07               False  \n",
       "2023-02-08               False  \n",
       "2023-02-09               False  "
      ]
     },
     "execution_count": 39,
     "metadata": {},
     "output_type": "execute_result"
    }
   ],
   "source": [
    "dojidf"
   ]
  },
  {
   "cell_type": "markdown",
   "id": "a162625a",
   "metadata": {},
   "source": [
    "# Morning / Evning Star"
   ]
  },
  {
   "cell_type": "code",
   "execution_count": 40,
   "id": "73f39c38",
   "metadata": {},
   "outputs": [],
   "source": [
    "# Panding Testing\n",
    "def evning_bearish(row):\n",
    "    prev_body = abs(row[\"Prev_Close\"] - row[\"Prev_Open\"])\n",
    "    data = row[\"Prev_Candle\"] == \"Green\" and row[\"Next_Candle\"] ==\"Red\" and  prev_body > row[\"body\"]\n",
    "    return data\n",
    "\n",
    "def morning_bullish(row):\n",
    "    prev_body = abs(row[\"Prev_Close\"] - row[\"Prev_Open\"])\n",
    "    data = row[\"Prev_Candle\"] == \"Red\" and row[\"Next_Candle\"] ==\"Green\" and  prev_body > row[\"body\"]\n",
    "    return data"
   ]
  },
  {
   "cell_type": "code",
   "execution_count": 41,
   "id": "ecb68e26",
   "metadata": {},
   "outputs": [],
   "source": [
    "df['Evning_Bullish'] = df.apply(evning_bearish, axis=1)\n",
    "df['Morning_Bearish'] = df.apply(morning_bullish, axis=1)"
   ]
  },
  {
   "cell_type": "code",
   "execution_count": 42,
   "id": "133a0790",
   "metadata": {},
   "outputs": [],
   "source": [
    "em_stardf = df[[\"Open\",\"Close\",\"Candle\",\"Evning_Bullish\",\"Morning_Bearish\"]]"
   ]
  },
  {
   "cell_type": "code",
   "execution_count": 43,
   "id": "2d0f49ca",
   "metadata": {},
   "outputs": [
    {
     "data": {
      "text/html": [
       "<div>\n",
       "<style scoped>\n",
       "    .dataframe tbody tr th:only-of-type {\n",
       "        vertical-align: middle;\n",
       "    }\n",
       "\n",
       "    .dataframe tbody tr th {\n",
       "        vertical-align: top;\n",
       "    }\n",
       "\n",
       "    .dataframe thead th {\n",
       "        text-align: right;\n",
       "    }\n",
       "</style>\n",
       "<table border=\"1\" class=\"dataframe\">\n",
       "  <thead>\n",
       "    <tr style=\"text-align: right;\">\n",
       "      <th></th>\n",
       "      <th>Open</th>\n",
       "      <th>Close</th>\n",
       "      <th>Candle</th>\n",
       "      <th>Evning_Bullish</th>\n",
       "      <th>Morning_Bearish</th>\n",
       "    </tr>\n",
       "    <tr>\n",
       "      <th>Date</th>\n",
       "      <th></th>\n",
       "      <th></th>\n",
       "      <th></th>\n",
       "      <th></th>\n",
       "      <th></th>\n",
       "    </tr>\n",
       "  </thead>\n",
       "  <tbody>\n",
       "    <tr>\n",
       "      <th>2023-02-01</th>\n",
       "      <td>17811.599609</td>\n",
       "      <td>17616.300781</td>\n",
       "      <td>Red</td>\n",
       "      <td>False</td>\n",
       "      <td>False</td>\n",
       "    </tr>\n",
       "    <tr>\n",
       "      <th>2023-02-02</th>\n",
       "      <td>17517.099609</td>\n",
       "      <td>17610.400391</td>\n",
       "      <td>Green</td>\n",
       "      <td>False</td>\n",
       "      <td>True</td>\n",
       "    </tr>\n",
       "    <tr>\n",
       "      <th>2023-02-03</th>\n",
       "      <td>17721.750000</td>\n",
       "      <td>17854.050781</td>\n",
       "      <td>Green</td>\n",
       "      <td>False</td>\n",
       "      <td>False</td>\n",
       "    </tr>\n",
       "    <tr>\n",
       "      <th>2023-02-06</th>\n",
       "      <td>17818.550781</td>\n",
       "      <td>17764.599609</td>\n",
       "      <td>Red</td>\n",
       "      <td>True</td>\n",
       "      <td>False</td>\n",
       "    </tr>\n",
       "    <tr>\n",
       "      <th>2023-02-07</th>\n",
       "      <td>17790.099609</td>\n",
       "      <td>17721.500000</td>\n",
       "      <td>Red</td>\n",
       "      <td>False</td>\n",
       "      <td>False</td>\n",
       "    </tr>\n",
       "    <tr>\n",
       "      <th>2023-02-08</th>\n",
       "      <td>17750.300781</td>\n",
       "      <td>17871.699219</td>\n",
       "      <td>Green</td>\n",
       "      <td>False</td>\n",
       "      <td>False</td>\n",
       "    </tr>\n",
       "    <tr>\n",
       "      <th>2023-02-09</th>\n",
       "      <td>17885.500000</td>\n",
       "      <td>17893.449219</td>\n",
       "      <td>Green</td>\n",
       "      <td>False</td>\n",
       "      <td>False</td>\n",
       "    </tr>\n",
       "  </tbody>\n",
       "</table>\n",
       "</div>"
      ],
      "text/plain": [
       "                    Open         Close Candle  Evning_Bullish  Morning_Bearish\n",
       "Date                                                                          \n",
       "2023-02-01  17811.599609  17616.300781    Red           False            False\n",
       "2023-02-02  17517.099609  17610.400391  Green           False             True\n",
       "2023-02-03  17721.750000  17854.050781  Green           False            False\n",
       "2023-02-06  17818.550781  17764.599609    Red            True            False\n",
       "2023-02-07  17790.099609  17721.500000    Red           False            False\n",
       "2023-02-08  17750.300781  17871.699219  Green           False            False\n",
       "2023-02-09  17885.500000  17893.449219  Green           False            False"
      ]
     },
     "execution_count": 43,
     "metadata": {},
     "output_type": "execute_result"
    }
   ],
   "source": [
    "em_stardf"
   ]
  },
  {
   "cell_type": "markdown",
   "id": "8054d160",
   "metadata": {},
   "source": [
    "# Hammer/Shooting Star"
   ]
  },
  {
   "cell_type": "code",
   "execution_count": 44,
   "id": "580d01dc",
   "metadata": {},
   "outputs": [],
   "source": [
    "# Need more Optimization\n",
    "\n",
    "def is_hammer(row):\n",
    "    data = row['upper_shadow'] *2 < row['lower_shadow'] \n",
    "    return data\n",
    "\n",
    "def is_shooting_star(row):\n",
    "    data =  row['upper_shadow'] > row['lower_shadow']*2 \n",
    "    return data\n",
    "\n"
   ]
  },
  {
   "cell_type": "code",
   "execution_count": 45,
   "id": "d670fa88",
   "metadata": {},
   "outputs": [],
   "source": [
    "df['Is_Hammer'] = df.apply(is_hammer, axis=1)\n",
    "df['Is_Shooting_Star'] = df.apply(is_shooting_star, axis=1)"
   ]
  },
  {
   "cell_type": "code",
   "execution_count": 46,
   "id": "eae03a0b",
   "metadata": {},
   "outputs": [],
   "source": [
    "ham_Shoot_df = df[[\"Open\",\"Close\",\"Candle\",\"Is_Hammer\",\"Is_Shooting_Star\"]]"
   ]
  },
  {
   "cell_type": "code",
   "execution_count": 47,
   "id": "960abc18",
   "metadata": {},
   "outputs": [
    {
     "data": {
      "text/html": [
       "<div>\n",
       "<style scoped>\n",
       "    .dataframe tbody tr th:only-of-type {\n",
       "        vertical-align: middle;\n",
       "    }\n",
       "\n",
       "    .dataframe tbody tr th {\n",
       "        vertical-align: top;\n",
       "    }\n",
       "\n",
       "    .dataframe thead th {\n",
       "        text-align: right;\n",
       "    }\n",
       "</style>\n",
       "<table border=\"1\" class=\"dataframe\">\n",
       "  <thead>\n",
       "    <tr style=\"text-align: right;\">\n",
       "      <th></th>\n",
       "      <th>Open</th>\n",
       "      <th>Close</th>\n",
       "      <th>Candle</th>\n",
       "      <th>Is_Hammer</th>\n",
       "      <th>Is_Shooting_Star</th>\n",
       "    </tr>\n",
       "    <tr>\n",
       "      <th>Date</th>\n",
       "      <th></th>\n",
       "      <th></th>\n",
       "      <th></th>\n",
       "      <th></th>\n",
       "      <th></th>\n",
       "    </tr>\n",
       "  </thead>\n",
       "  <tbody>\n",
       "    <tr>\n",
       "      <th>2023-02-01</th>\n",
       "      <td>17811.599609</td>\n",
       "      <td>17616.300781</td>\n",
       "      <td>Red</td>\n",
       "      <td>False</td>\n",
       "      <td>False</td>\n",
       "    </tr>\n",
       "    <tr>\n",
       "      <th>2023-02-02</th>\n",
       "      <td>17517.099609</td>\n",
       "      <td>17610.400391</td>\n",
       "      <td>Green</td>\n",
       "      <td>False</td>\n",
       "      <td>False</td>\n",
       "    </tr>\n",
       "    <tr>\n",
       "      <th>2023-02-03</th>\n",
       "      <td>17721.750000</td>\n",
       "      <td>17854.050781</td>\n",
       "      <td>Green</td>\n",
       "      <td>True</td>\n",
       "      <td>False</td>\n",
       "    </tr>\n",
       "    <tr>\n",
       "      <th>2023-02-06</th>\n",
       "      <td>17818.550781</td>\n",
       "      <td>17764.599609</td>\n",
       "      <td>Red</td>\n",
       "      <td>True</td>\n",
       "      <td>False</td>\n",
       "    </tr>\n",
       "    <tr>\n",
       "      <th>2023-02-07</th>\n",
       "      <td>17790.099609</td>\n",
       "      <td>17721.500000</td>\n",
       "      <td>Red</td>\n",
       "      <td>True</td>\n",
       "      <td>False</td>\n",
       "    </tr>\n",
       "    <tr>\n",
       "      <th>2023-02-08</th>\n",
       "      <td>17750.300781</td>\n",
       "      <td>17871.699219</td>\n",
       "      <td>Green</td>\n",
       "      <td>False</td>\n",
       "      <td>True</td>\n",
       "    </tr>\n",
       "    <tr>\n",
       "      <th>2023-02-09</th>\n",
       "      <td>17885.500000</td>\n",
       "      <td>17893.449219</td>\n",
       "      <td>Green</td>\n",
       "      <td>True</td>\n",
       "      <td>False</td>\n",
       "    </tr>\n",
       "  </tbody>\n",
       "</table>\n",
       "</div>"
      ],
      "text/plain": [
       "                    Open         Close Candle  Is_Hammer  Is_Shooting_Star\n",
       "Date                                                                      \n",
       "2023-02-01  17811.599609  17616.300781    Red      False             False\n",
       "2023-02-02  17517.099609  17610.400391  Green      False             False\n",
       "2023-02-03  17721.750000  17854.050781  Green       True             False\n",
       "2023-02-06  17818.550781  17764.599609    Red       True             False\n",
       "2023-02-07  17790.099609  17721.500000    Red       True             False\n",
       "2023-02-08  17750.300781  17871.699219  Green      False              True\n",
       "2023-02-09  17885.500000  17893.449219  Green       True             False"
      ]
     },
     "execution_count": 47,
     "metadata": {},
     "output_type": "execute_result"
    }
   ],
   "source": [
    "ham_Shoot_df"
   ]
  },
  {
   "cell_type": "markdown",
   "id": "e109cfe1",
   "metadata": {},
   "source": [
    "# Harami"
   ]
  },
  {
   "cell_type": "code",
   "execution_count": 48,
   "id": "a96ac59d",
   "metadata": {},
   "outputs": [
    {
     "data": {
      "text/plain": [
       "Index(['Open', 'High', 'Low', 'Close', 'Adj Close', 'Volume', 'upper_shadow',\n",
       "       'lower_shadow', 'body', 'full', 'Candle', 'Prev_Open', 'Prev_Close',\n",
       "       'Prev_High', 'Prev_Low', 'Prev_Candle', 'Next_Open', 'Next_Close',\n",
       "       'Next_High', 'Next_Low', 'Next_Candle', 'Engulfing_Bullish',\n",
       "       'Engulfing_Bearish', 'Is_Doji', 'Is_Dragonfly_Doji',\n",
       "       'Is_Gravestone_Doji', 'Evning_Bullish', 'Morning_Bearish', 'Is_Hammer',\n",
       "       'Is_Shooting_Star'],\n",
       "      dtype='object')"
      ]
     },
     "execution_count": 48,
     "metadata": {},
     "output_type": "execute_result"
    }
   ],
   "source": [
    "df.columns"
   ]
  },
  {
   "cell_type": "code",
   "execution_count": 49,
   "id": "3ad77118",
   "metadata": {},
   "outputs": [],
   "source": [
    "# Panding Testing\n",
    "def harami_bearish(row):\n",
    "    prev_body = abs(row[\"Prev_Close\"] - row[\"Prev_Open\"])\n",
    "    data = row[\"Prev_Candle\"] == \"Green\" and  prev_body > row[\"body\"]*2 and row[\"High\"]<row[\"Prev_High\"] and row[\"Close\"] < row[\"Prev_Close\"]\n",
    "    return data\n",
    "\n",
    "def harami_bullish(row):\n",
    "    prev_body = abs(row[\"Prev_Close\"] - row[\"Prev_Open\"])\n",
    "    data = row[\"Prev_Candle\"] == \"Red\" and  prev_body > row[\"body\"]*2 and row[\"High\"]<row[\"Prev_High\"] and row[\"Close\"] < row[\"Prev_Close\"]\n",
    "    return data"
   ]
  },
  {
   "cell_type": "code",
   "execution_count": 50,
   "id": "8f7f6173",
   "metadata": {},
   "outputs": [],
   "source": [
    "df['Harami_Bullish'] = df.apply(harami_bearish, axis=1)\n",
    "df['Harami_Bearish'] = df.apply(harami_bullish, axis=1)"
   ]
  },
  {
   "cell_type": "code",
   "execution_count": 51,
   "id": "9db0a0e3",
   "metadata": {},
   "outputs": [],
   "source": [
    "harami_df = df[[\"Open\",\"Close\",\"Candle\",\"Harami_Bullish\",\"Harami_Bearish\"]]"
   ]
  },
  {
   "cell_type": "code",
   "execution_count": 57,
   "id": "9aae25d1-3f9d-4f49-8a61-2296eb9c30c5",
   "metadata": {},
   "outputs": [
    {
     "data": {
      "text/plain": [
       "['Is_Dragonfly_Doji', 'Is_Hammer']"
      ]
     },
     "execution_count": 57,
     "metadata": {},
     "output_type": "execute_result"
    }
   ],
   "source": [
    "removelist = ['Open',\n",
    " 'High',\n",
    " 'Low',\n",
    " 'Close',\n",
    " 'Adj Close',\n",
    " 'Volume',\n",
    " 'upper_shadow',\n",
    " 'lower_shadow',\n",
    " 'body',\n",
    " 'full',\n",
    " 'Candle',\n",
    " 'Prev_Open',\n",
    " 'Prev_Close',\n",
    " 'Prev_High',\n",
    " 'Prev_Low',\n",
    " 'Prev_Candle',\n",
    " 'Next_Open',\n",
    " 'Next_Close',\n",
    " 'Next_High',\n",
    " 'Next_Low']\n",
    "\n",
    "df = df.drop(columns=removelist,axis=1)\n",
    "last_row = df.iloc[-1]\n",
    "\n",
    "data = [col for col in last_row.index if last_row[col]]\n",
    "data"
   ]
  },
  {
   "cell_type": "code",
   "execution_count": 56,
   "id": "244e6197-a2cc-4683-873c-fedb67083e7b",
   "metadata": {},
   "outputs": [
    {
     "ename": "AttributeError",
     "evalue": "'DataFrame' object has no attribute 'applay'",
     "output_type": "error",
     "traceback": [
      "\u001b[1;31m---------------------------------------------------------------------------\u001b[0m",
      "\u001b[1;31mAttributeError\u001b[0m                            Traceback (most recent call last)",
      "\u001b[1;32m~\\AppData\\Local\\Temp\\ipykernel_7764\\2858155026.py\u001b[0m in \u001b[0;36m?\u001b[1;34m()\u001b[0m\n\u001b[1;32m----> 1\u001b[1;33m \u001b[0mdf\u001b[0m\u001b[1;33m.\u001b[0m\u001b[0mapplay\u001b[0m\u001b[1;33m(\u001b[0m\u001b[1;33m)\u001b[0m\u001b[1;33m\u001b[0m\u001b[1;33m\u001b[0m\u001b[0m\n\u001b[0m",
      "\u001b[1;32mC:\\Python\\Lib\\site-packages\\pandas\\core\\generic.py\u001b[0m in \u001b[0;36m?\u001b[1;34m(self, name)\u001b[0m\n\u001b[0;32m   5985\u001b[0m             \u001b[1;32mand\u001b[0m \u001b[0mname\u001b[0m \u001b[1;32mnot\u001b[0m \u001b[1;32min\u001b[0m \u001b[0mself\u001b[0m\u001b[1;33m.\u001b[0m\u001b[0m_accessors\u001b[0m\u001b[1;33m\u001b[0m\u001b[1;33m\u001b[0m\u001b[0m\n\u001b[0;32m   5986\u001b[0m             \u001b[1;32mand\u001b[0m \u001b[0mself\u001b[0m\u001b[1;33m.\u001b[0m\u001b[0m_info_axis\u001b[0m\u001b[1;33m.\u001b[0m\u001b[0m_can_hold_identifiers_and_holds_name\u001b[0m\u001b[1;33m(\u001b[0m\u001b[0mname\u001b[0m\u001b[1;33m)\u001b[0m\u001b[1;33m\u001b[0m\u001b[1;33m\u001b[0m\u001b[0m\n\u001b[0;32m   5987\u001b[0m         ):\n\u001b[0;32m   5988\u001b[0m             \u001b[1;32mreturn\u001b[0m \u001b[0mself\u001b[0m\u001b[1;33m[\u001b[0m\u001b[0mname\u001b[0m\u001b[1;33m]\u001b[0m\u001b[1;33m\u001b[0m\u001b[1;33m\u001b[0m\u001b[0m\n\u001b[1;32m-> 5989\u001b[1;33m         \u001b[1;32mreturn\u001b[0m \u001b[0mobject\u001b[0m\u001b[1;33m.\u001b[0m\u001b[0m__getattribute__\u001b[0m\u001b[1;33m(\u001b[0m\u001b[0mself\u001b[0m\u001b[1;33m,\u001b[0m \u001b[0mname\u001b[0m\u001b[1;33m)\u001b[0m\u001b[1;33m\u001b[0m\u001b[1;33m\u001b[0m\u001b[0m\n\u001b[0m",
      "\u001b[1;31mAttributeError\u001b[0m: 'DataFrame' object has no attribute 'applay'"
     ]
    }
   ],
   "source": [
    "df.applay()"
   ]
  },
  {
   "cell_type": "code",
   "execution_count": null,
   "id": "c50ccb59-dca4-4841-9362-4b04a5e01796",
   "metadata": {},
   "outputs": [],
   "source": []
  },
  {
   "cell_type": "code",
   "execution_count": null,
   "id": "cc73d837-5536-44c0-bc08-ee8a9af882a4",
   "metadata": {},
   "outputs": [],
   "source": []
  },
  {
   "cell_type": "code",
   "execution_count": null,
   "id": "40a9b90d-9c79-4ee1-84bd-e32825285f9a",
   "metadata": {},
   "outputs": [],
   "source": []
  },
  {
   "cell_type": "code",
   "execution_count": null,
   "id": "b85b3239-9343-477b-b400-c7efde6488fb",
   "metadata": {},
   "outputs": [],
   "source": []
  }
 ],
 "metadata": {
  "kernelspec": {
   "display_name": "Python 3 (ipykernel)",
   "language": "python",
   "name": "python3"
  },
  "language_info": {
   "codemirror_mode": {
    "name": "ipython",
    "version": 3
   },
   "file_extension": ".py",
   "mimetype": "text/x-python",
   "name": "python",
   "nbconvert_exporter": "python",
   "pygments_lexer": "ipython3",
   "version": "3.11.3"
  }
 },
 "nbformat": 4,
 "nbformat_minor": 5
}
