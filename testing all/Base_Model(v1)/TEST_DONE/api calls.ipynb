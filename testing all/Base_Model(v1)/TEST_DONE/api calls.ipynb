{
 "cells": [
  {
   "cell_type": "markdown",
   "id": "ebc8e9ca-fcfe-48fc-9235-ef38cc88691c",
   "metadata": {},
   "source": [
    "# PCR by autotrender"
   ]
  },
  {
   "cell_type": "code",
   "execution_count": 12,
   "id": "3d19ca26-17ec-49f8-bdf1-5450d7bc4af9",
   "metadata": {},
   "outputs": [
    {
     "data": {
      "text/plain": [
       "1.22"
      ]
     },
     "execution_count": 12,
     "metadata": {},
     "output_type": "execute_result"
    }
   ],
   "source": [
    "import requests\n",
    "date = \"07-09-2023\"\n",
    "url = f\"https://api.indiainfoline.com/api/cmots/v1/derivatives/put-call-ratio/idx/all/{date}/Symbol/5/Desc\"\n",
    "response = requests.request(\"GET\", url)\n",
    "pcr_data = response.json()\n",
    "pcr_data # ALL DATA\n",
    "PCRatioOI =float(pcr_data['data'][0]['PCRatioOI'])\n",
    "PCRatioOI"
   ]
  },
  {
   "cell_type": "markdown",
   "id": "fb862a60-298e-4fcc-ab51-0f2598e103e2",
   "metadata": {},
   "source": [
    "## VIX by moneycontrol"
   ]
  },
  {
   "cell_type": "code",
   "execution_count": 16,
   "id": "dbfa05ee-2b40-4f72-9b39-ceb2ef0b0b22",
   "metadata": {},
   "outputs": [
    {
     "data": {
      "text/plain": [
       "11.36"
      ]
     },
     "execution_count": 16,
     "metadata": {},
     "output_type": "execute_result"
    }
   ],
   "source": [
    "import http.client\n",
    "import json\n",
    "conn = http.client.HTTPSConnection(\"appfeeds.moneycontrol.com\")\n",
    "payload = ''\n",
    "headers = {}\n",
    "conn.request(\"GET\", \"/jsonapi/market/indices&format=json&t_device=iphone&t_app=MC&t_version=48&ind_id=36\", payload, headers)\n",
    "res = conn.getresponse()\n",
    "data = res.read()\n",
    "vix_alldata=json.loads(data.decode(\"utf-8\")) # ALL DATA\n",
    "vix = float(vix_alldata['indices']['lastprice'])\n",
    "vix"
   ]
  },
  {
   "cell_type": "code",
   "execution_count": null,
   "id": "b48b94d9-83f1-4253-81c0-87fafe88f8ca",
   "metadata": {},
   "outputs": [],
   "source": []
  }
 ],
 "metadata": {
  "kernelspec": {
   "display_name": "Python 3 (ipykernel)",
   "language": "python",
   "name": "python3"
  },
  "language_info": {
   "codemirror_mode": {
    "name": "ipython",
    "version": 3
   },
   "file_extension": ".py",
   "mimetype": "text/x-python",
   "name": "python",
   "nbconvert_exporter": "python",
   "pygments_lexer": "ipython3",
   "version": "3.11.3"
  }
 },
 "nbformat": 4,
 "nbformat_minor": 5
}
