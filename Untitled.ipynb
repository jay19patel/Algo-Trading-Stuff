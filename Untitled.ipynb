{
 "cells": [
  {
   "cell_type": "code",
   "execution_count": 30,
   "id": "4335d3d5-1584-4715-aefb-f5f56154d497",
   "metadata": {},
   "outputs": [
    {
     "name": "stdout",
     "output_type": "stream",
     "text": [
      "Remaining positions: [{'Date': '2023-01-01', 'Buy Price': 19510, 'Stop Loss': 17559.0}, {'Date': '2023-01-02', 'Buy Price': 19580, 'Stop Loss': 17622.0}, {'Date': '2023-01-03', 'Buy Price': 19620, 'Stop Loss': 17658.0}]\n"
     ]
    }
   ],
   "source": [
    "import pandas as pd\n",
    "\n",
    "# Sample DataFrame\n",
    "data = {\n",
    "    'Date': ['2023-01-01', '2023-01-02', '2023-01-03', '2023-01-04'],\n",
    "    'Open': [19450, 19520, 19550, 19480],\n",
    "    'High': [19520, 19600, 19650, 19580],\n",
    "    'Low': [19440, 19480, 19510, 19450],\n",
    "    'Close': [19510, 19580, 19620, 19460]\n",
    "}\n",
    "\n",
    "df = pd.DataFrame(data)\n",
    "\n",
    "buy_price = 19500  # Buy when the close price is greater than this\n",
    "stop_loss_percent = 0.10  # 10% stop loss\n",
    "\n",
    "positions = []  # List to store positions\n",
    "\n",
    "for index, row in df.iterrows():\n",
    "    if row['Close'] > buy_price:\n",
    "        stop_loss_price = row['Close'] * (1 - stop_loss_percent)\n",
    "        positions.append({'Date': row['Date'], 'Buy Price': row['Close'], 'Stop Loss': stop_loss_price})\n",
    "\n",
    "    # Check if any existing positions need to be exited\n",
    "    exit_positions = [pos for pos in positions if row['Close'] <= pos['Stop Loss']]\n",
    "    for exit_pos in exit_positions:\n",
    "        print(f\"Exit position on {row['Date']} at Stop Loss price: {exit_pos['Stop Loss']}\")\n",
    "        positions.remove(exit_pos)\n",
    "\n",
    "print(\"Remaining positions:\", positions)\n"
   ]
  },
  {
   "cell_type": "code",
   "execution_count": 16,
   "id": "709ff175-ae2d-4d6c-a706-04e9eaa93430",
   "metadata": {},
   "outputs": [],
   "source": [
    "data['19550'] = {\"Stoploss\":12}"
   ]
  },
  {
   "cell_type": "code",
   "execution_count": 17,
   "id": "06307338-141d-4d1d-a63c-4cc1d3114505",
   "metadata": {},
   "outputs": [
    {
     "data": {
      "text/plain": [
       "{'19500': {'Stoploss': 12}, '19550': {'Stoploss': 12}}"
      ]
     },
     "execution_count": 17,
     "metadata": {},
     "output_type": "execute_result"
    }
   ],
   "source": [
    "data"
   ]
  },
  {
   "cell_type": "code",
   "execution_count": null,
   "id": "c0820259-fef8-471f-81cd-eebccd155760",
   "metadata": {},
   "outputs": [],
   "source": []
  },
  {
   "cell_type": "code",
   "execution_count": 29,
   "id": "838a5a1d-c166-48b3-8e55-f3a7ba17b1d6",
   "metadata": {},
   "outputs": [
    {
     "name": "stdout",
     "output_type": "stream",
     "text": [
      "Nothing\n"
     ]
    },
    {
     "data": {
      "text/plain": [
       "[]"
      ]
     },
     "execution_count": 29,
     "metadata": {},
     "output_type": "execute_result"
    }
   ],
   "source": [
    "data = {\n",
    "    '19500': {'Stoploss': 12},\n",
    "    '19550': {'Stoploss': 13}\n",
    "}\n",
    "\n",
    "stoploss_value = 15\n",
    "\n",
    "exit_keys = [key for key, value in data.items() if value.get('Stoploss', 0) == stoploss_value]\n"
   ]
  },
  {
   "cell_type": "code",
   "execution_count": 26,
   "id": "c76ab68d-4769-485e-a78b-c7f6657f12ea",
   "metadata": {},
   "outputs": [
    {
     "name": "stdout",
     "output_type": "stream",
     "text": [
      "True\n"
     ]
    }
   ],
   "source": [
    "data = {\n",
    "    '19500': {'Stoploss': 12},\n",
    "    '19550': {'Stoploss': 15}\n",
    "}\n",
    "\n",
    "min_stoploss = 11\n",
    "max_stoploss = 13\n",
    "\n",
    "result = any(min_stoploss <= value.get('Stoploss', 0) <= max_stoploss for value in data.values())\n",
    "\n",
    "print(result)\n"
   ]
  },
  {
   "cell_type": "code",
   "execution_count": null,
   "id": "72b17ff0-a014-4252-9c5e-380839249f36",
   "metadata": {},
   "outputs": [],
   "source": []
  }
 ],
 "metadata": {
  "kernelspec": {
   "display_name": "Python 3 (ipykernel)",
   "language": "python",
   "name": "python3"
  },
  "language_info": {
   "codemirror_mode": {
    "name": "ipython",
    "version": 3
   },
   "file_extension": ".py",
   "mimetype": "text/x-python",
   "name": "python",
   "nbconvert_exporter": "python",
   "pygments_lexer": "ipython3",
   "version": "3.11.3"
  }
 },
 "nbformat": 4,
 "nbformat_minor": 5
}
