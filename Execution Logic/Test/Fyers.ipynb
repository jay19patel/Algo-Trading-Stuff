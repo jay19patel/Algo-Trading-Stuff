{
 "cells": [
  {
   "cell_type": "code",
   "execution_count": 36,
   "id": "06380541-db6c-4fb8-a4b6-b591742d9992",
   "metadata": {},
   "outputs": [],
   "source": [
    "from fyers_apiv3 import fyersModel\n",
    "from datetime import datetime , timedelta\n",
    "import pandas as pd\n",
    "import pytz"
   ]
  },
  {
   "cell_type": "markdown",
   "id": "fb21b355-a9a7-4d28-a7c3-7dc8a47a800a",
   "metadata": {},
   "source": [
    "# Genrate Token"
   ]
  },
  {
   "cell_type": "code",
   "execution_count": 37,
   "id": "89ed54c5-0214-45ae-9b64-5b2baaa45e0b",
   "metadata": {},
   "outputs": [],
   "source": [
    "client_id = \"MACO3YJA7I-100\"  # Replace with your client ID\n",
    "secret_key = \"N7SXUFQG91\"  # Replace with your secret key\n",
    "redirect_uri = \"https://trade.fyers.in/api-login/redirect-uri/index.html\"  # Replace with your redirect URI\n",
    "response_type = \"code\" \n",
    "grant_type = \"authorization_code\"  \n",
    "state = \"sample_state\""
   ]
  },
  {
   "cell_type": "markdown",
   "id": "80c12ebd-d3d0-4496-9b49-b6beaa62ec53",
   "metadata": {},
   "source": [
    "### Genearte Authcode"
   ]
  },
  {
   "cell_type": "code",
   "execution_count": 38,
   "id": "6660df1b-01cc-47a2-963b-f560d62a6f91",
   "metadata": {},
   "outputs": [],
   "source": [
    "# # # Generate Auth Code\n",
    "# session = fyersModel.SessionModel(\n",
    "#     client_id=client_id,\n",
    "#     secret_key=secret_key,\n",
    "#     redirect_uri=redirect_uri,\n",
    "#     response_type=response_type\n",
    "# )\n",
    "# genrate_authcode = session.generate_authcode()\n",
    "# print(genrate_authcode)"
   ]
  },
  {
   "cell_type": "code",
   "execution_count": 39,
   "id": "e2c0c65d-d39e-432e-a197-662df9e866ba",
   "metadata": {},
   "outputs": [],
   "source": [
    "auth_code = \"eyJ0eXAiOiJKV1QiLCJhbGciOiJIUzI1NiJ9.eyJpc3MiOiJhcGkubG9naW4uZnllcnMuaW4iLCJpYXQiOjE3MDYxOTM1NDEsImV4cCI6MTcwNjIyMzU0MSwibmJmIjoxNzA2MTkyOTQxLCJhdWQiOiJbXCJ4OjBcIiwgXCJ4OjFcIiwgXCJ4OjJcIiwgXCJkOjFcIiwgXCJkOjJcIiwgXCJ4OjFcIiwgXCJ4OjBcIl0iLCJzdWIiOiJhdXRoX2NvZGUiLCJkaXNwbGF5X25hbWUiOiJZSjAwMTI5Iiwib21zIjoiSzEiLCJoc21fa2V5IjoiMjdlMDQ2OGE4MGJkYmVmMGQyYTg3M2MxMmNlN2YyZGEyMjA1NzQ0ZTIwYTg1MDI0YjhlMDA4NDciLCJub25jZSI6IiIsImFwcF9pZCI6Ik1BQ08zWUpBN0kiLCJ1dWlkIjoiYTZjMmIyZmRlYWRjNGZhYzg4ZGMwMWNkMDE2ZTE0NjYiLCJpcEFkZHIiOiIwLjAuMC4wIiwic2NvcGUiOiIifQ.BSEHAhQ_6EROiSUx7LM5OXALoUHTMqn0Jx9MjTyDpdo\""
   ]
  },
  {
   "cell_type": "markdown",
   "id": "139189c8-e555-4a66-9440-dee81ec11ca5",
   "metadata": {},
   "source": [
    "### Set Session & Get TOKEN"
   ]
  },
  {
   "cell_type": "code",
   "execution_count": 41,
   "id": "d184fabc-7aef-4f19-b3d3-a268ec5fd99b",
   "metadata": {},
   "outputs": [],
   "source": [
    "# session = fyersModel.SessionModel(\n",
    "#     client_id=client_id,\n",
    "#     secret_key=secret_key, \n",
    "#     redirect_uri=redirect_uri, \n",
    "#     response_type=response_type, \n",
    "#     grant_type=grant_type\n",
    "# )\n",
    "# session.set_token(auth_code)\n",
    "# response = session.generate_token()\n",
    "# access_token = response['access_token']"
   ]
  },
  {
   "cell_type": "markdown",
   "id": "081109c3-60af-4c1d-8a82-05add70627b7",
   "metadata": {},
   "source": [
    "# Login "
   ]
  },
  {
   "cell_type": "code",
   "execution_count": 42,
   "id": "abf2f4a8-c613-4ebf-82ab-41df04a3262c",
   "metadata": {},
   "outputs": [],
   "source": [
    "access_token= 'eyJ0eXAiOiJKV1QiLCJhbGciOiJIUzI1NiJ9.eyJpc3MiOiJhcGkuZnllcnMuaW4iLCJpYXQiOjE3MDYxOTM1NjksImV4cCI6MTcwNjIyOTAyOSwibmJmIjoxNzA2MTkzNTY5LCJhdWQiOlsieDowIiwieDoxIiwieDoyIiwiZDoxIiwiZDoyIiwieDoxIiwieDowIl0sInN1YiI6ImFjY2Vzc190b2tlbiIsImF0X2hhc2giOiJnQUFBQUFCbHNuS2hPM3F3eGM5Y1l0bjZWUmNoTzNLZHJYUjdGZW1oZk5WRmEzTDdLblVTbmtBR3NVSllFcVRka2RhbWNGT3oxZlh2MDF3eHB2Ty0zem5CSXU1NUt0cmVsUWNaQ3ZZaF91Z0dwOVlrTlRCc1FUUT0iLCJkaXNwbGF5X25hbWUiOiJKQVlLVU1BUiBESEFOU1VLSEJIQUkgUEFURUwiLCJvbXMiOiJLMSIsImhzbV9rZXkiOiIyN2UwNDY4YTgwYmRiZWYwZDJhODczYzEyY2U3ZjJkYTIyMDU3NDRlMjBhODUwMjRiOGUwMDg0NyIsImZ5X2lkIjoiWUowMDEyOSIsImFwcFR5cGUiOjEwMCwicG9hX2ZsYWciOiJOIn0.tV5qrosLwgAFzcFTERB5Gr2AH5-nKmqMMcPMpkZQ0ok'"
   ]
  },
  {
   "cell_type": "code",
   "execution_count": 43,
   "id": "1af63a06-1047-4358-9514-110c2477ce38",
   "metadata": {},
   "outputs": [],
   "source": [
    "fyers = fyersModel.FyersModel(client_id=client_id, is_async=False, token=access_token, log_path=\"\")"
   ]
  },
  {
   "cell_type": "code",
   "execution_count": 44,
   "id": "5d0370b1-89a8-4eee-bc63-1a8a84082867",
   "metadata": {},
   "outputs": [
    {
     "data": {
      "text/plain": [
       "{'s': 'ok',\n",
       " 'code': 200,\n",
       " 'message': '',\n",
       " 'data': {'fy_id': 'YJ00129',\n",
       "  'name': 'JAYKUMAR DHANSUKHBHAI PATEL',\n",
       "  'image': None,\n",
       "  'display_name': None,\n",
       "  'pin_change_date': '18-12-2023 16:00:58',\n",
       "  'email_id': 'justjayy19@gmail.com',\n",
       "  'pwd_change_date': None,\n",
       "  'PAN': '---------',\n",
       "  'mobile_number': '7069668308',\n",
       "  'totp': True,\n",
       "  'pwd_to_expire': 90}}"
      ]
     },
     "execution_count": 44,
     "metadata": {},
     "output_type": "execute_result"
    }
   ],
   "source": [
    "fyers.get_profile()"
   ]
  },
  {
   "cell_type": "code",
   "execution_count": null,
   "id": "db36f307-286e-40b4-b24e-2f0fadd76d90",
   "metadata": {},
   "outputs": [],
   "source": []
  },
  {
   "cell_type": "code",
   "execution_count": 45,
   "id": "fec292e9-d4e6-43cb-aef1-a05bae48ddbb",
   "metadata": {},
   "outputs": [
    {
     "name": "stdout",
     "output_type": "stream",
     "text": [
      "Response: {'type': 'cn', 'code': 200, 'message': 'Authentication done', 's': 'ok'}\n",
      "Response: {'type': 'lit', 'code': 200, 'message': 'Lite Mode On', 's': 'ok'}\n",
      "Error: 'FyersModel' object has no attribute 'subscribe'\n"
     ]
    }
   ],
   "source": [
    "from fyers_apiv3.FyersWebsocket import data_ws\n",
    "\n",
    "\n",
    "def onmessage(message):\n",
    "    try:\n",
    "        if message['symbol'] =='NSE:NIFTY50-INDEX':\n",
    "            print(\"NIFTY DATA\")\n",
    "            print(\"Response:\", message) \n",
    "    except:\n",
    "        print(\"Response:\", message) \n",
    "        \n",
    "\n",
    "\n",
    "def onerror(message):\n",
    "    print(\"Error:\", message)\n",
    "\n",
    "\n",
    "def onclose(message):\n",
    "    print(\"Connection closed:\", message)\n",
    "\n",
    "\n",
    "def onopen():\n",
    "    data_type = \"SymbolUpdate\"\n",
    "    symbols = [\"NSE:NIFTY50-INDEX\"]\n",
    "    fyers.subscribe(symbols=symbols, data_type=data_type)\n",
    "    fyers.keep_running()\n",
    "\n",
    "\n",
    "wsfyers = data_ws.FyersDataSocket(\n",
    "    access_token=access_token,       # Access token in the format \"appid:accesstoken\"\n",
    "    log_path=\"\",                     # Path to save logs. Leave empty to auto-create logs in the current directory.\n",
    "    litemode=True,                  # Lite mode disabled. Set to True if you want a lite response.\n",
    "    write_to_file=False,              # Save response in a log file instead of printing it.\n",
    "    reconnect=True,                  # Enable auto-reconnection to WebSocket on disconnection.\n",
    "    on_connect=onopen,               # Callback function to subscribe to data upon connection.\n",
    "    on_close=onclose,                # Callback function to handle WebSocket connection close events.\n",
    "    on_error=onerror,                # Callback function to handle WebSocket errors.\n",
    "    on_message=onmessage             # Callback function to handle incoming messages from the WebSocket.\n",
    ")\n",
    "\n",
    "wsfyers.connect()\n"
   ]
  },
  {
   "cell_type": "code",
   "execution_count": 31,
   "id": "f5c222da-8b0a-4e9c-b457-59a4346d954c",
   "metadata": {},
   "outputs": [],
   "source": [
    "# fyers.unsubscribe(symbols=[\"NSE:NIFTY50-INDEX\",\"NSE:NIFTYBANK-INDEX\",\"NSE:FINNIFTY-INDEX\"], data_type=\"SymbolUpdate\")"
   ]
  },
  {
   "cell_type": "code",
   "execution_count": 53,
   "id": "e8312a42-9c5b-4c2d-b307-7e9fe677cf0b",
   "metadata": {},
   "outputs": [
    {
     "data": {
      "text/plain": [
       "65"
      ]
     },
     "execution_count": 53,
     "metadata": {},
     "output_type": "execute_result"
    },
    {
     "name": "stdout",
     "output_type": "stream",
     "text": [
      "Error: Connection to remote host was lost.\n",
      "Attempting reconnect 1 of 5...\n",
      "Response: {'type': 'cn', 'code': 200, 'message': 'Authentication done', 's': 'ok'}\n",
      "Response: {'type': 'lit', 'code': 200, 'message': 'Lite Mode On', 's': 'ok'}\n",
      "Error: 'FyersModel' object has no attribute 'subscribe'\n"
     ]
    }
   ],
   "source": [
    "data = {\n",
    "    \"symbols\":'NSE:BANKNIFTY24JAN44800CE'\n",
    "}\n",
    "\n",
    "fyers.quotes(data=data)['d'][0]['v']['lp']"
   ]
  },
  {
   "cell_type": "code",
   "execution_count": 57,
   "id": "f0f239ce-2dbd-433f-8ffc-1b07ba7dfef2",
   "metadata": {},
   "outputs": [
    {
     "data": {
      "text/plain": [
       "150.0"
      ]
     },
     "execution_count": 57,
     "metadata": {},
     "output_type": "execute_result"
    },
    {
     "name": "stdout",
     "output_type": "stream",
     "text": [
      "Attempting reconnect 2 of 5...\n",
      "Response: {'type': 'cn', 'code': 200, 'message': 'Authentication done', 's': 'ok'}\n",
      "Response: {'type': 'lit', 'code': 200, 'message': 'Lite Mode On', 's': 'ok'}\n",
      "Error: 'FyersModel' object has no attribute 'subscribe'\n",
      "Error: Connection to remote host was lost.\n",
      "Attempting reconnect 3 of 5...\n",
      "Response: {'type': 'cn', 'code': 200, 'message': 'Authentication done', 's': 'ok'}\n",
      "Response: {'type': 'lit', 'code': 200, 'message': 'Lite Mode On', 's': 'ok'}\n",
      "Error: 'FyersModel' object has no attribute 'subscribe'\n"
     ]
    }
   ],
   "source": [
    "n = 100\n",
    "(n*150)/100"
   ]
  },
  {
   "cell_type": "code",
   "execution_count": null,
   "id": "5855cbbc-8250-43df-8ec4-f433e384cf5d",
   "metadata": {},
   "outputs": [],
   "source": []
  }
 ],
 "metadata": {
  "kernelspec": {
   "display_name": "Python 3 (ipykernel)",
   "language": "python",
   "name": "python3"
  },
  "language_info": {
   "codemirror_mode": {
    "name": "ipython",
    "version": 3
   },
   "file_extension": ".py",
   "mimetype": "text/x-python",
   "name": "python",
   "nbconvert_exporter": "python",
   "pygments_lexer": "ipython3",
   "version": "3.11.3"
  }
 },
 "nbformat": 4,
 "nbformat_minor": 5
}
