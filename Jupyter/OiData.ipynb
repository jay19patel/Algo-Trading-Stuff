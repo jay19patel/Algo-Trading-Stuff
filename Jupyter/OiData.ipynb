{
 "cells": [
  {
   "cell_type": "code",
   "execution_count": 117,
   "id": "401b9f58-0613-4f55-b5f8-4bbf3b3c2d43",
   "metadata": {},
   "outputs": [],
   "source": [
    "from fyers_apiv3 import fyersModel\n",
    "client_id = \"MACO3YJA7I-100\"\n",
    "access_token = \"eyJ0eXAiOiJKV1QiLCJhbGciOiJIUzI1NiJ9.eyJpc3MiOiJhcGkuZnllcnMuaW4iLCJpYXQiOjE3MTY5MTYyODMsImV4cCI6MTcxNjk0MjYyMywibmJmIjoxNzE2OTE2MjgzLCJhdWQiOlsieDowIiwieDoxIiwieDoyIiwiZDoxIiwiZDoyIiwieDoxIiwieDowIl0sInN1YiI6ImFjY2Vzc190b2tlbiIsImF0X2hhc2giOiJnQUFBQUFCbVZoQTcwdUNXSFNSZ0lwNlhIU01GZ3VXZ0tqcHB4Nm8yVUh1X2txTWZLbllVazh5YWt1SDBMWFkxUmRmWF83UWxpUnYzWDBXV0p0SHNXTWxfaDJlT05HMlVPTUp2akhNdzFNQjRIZXdsU2swdC1Gbz0iLCJkaXNwbGF5X25hbWUiOiJKQVlLVU1BUiBESEFOU1VLSEJIQUkgUEFURUwiLCJvbXMiOiJLMSIsImhzbV9rZXkiOiIyN2UwNDY4YTgwYmRiZWYwZDJhODczYzEyY2U3ZjJkYTIyMDU3NDRlMjBhODUwMjRiOGUwMDg0NyIsImZ5X2lkIjoiWUowMDEyOSIsImFwcFR5cGUiOjEwMCwicG9hX2ZsYWciOiJOIn0.pDcmTkU2Xf6GgtlAdZOEYzvTJSOQzCdnhGtRdxend3s\""
   ]
  },
  {
   "cell_type": "code",
   "execution_count": 119,
   "id": "9330e942-651e-46f4-90ae-837aeff8f2f8",
   "metadata": {},
   "outputs": [
    {
     "data": {
      "text/plain": [
       "{'message': 'Please provide valid token', 'code': -15, 's': 'error'}"
      ]
     },
     "execution_count": 119,
     "metadata": {},
     "output_type": "execute_result"
    }
   ],
   "source": [
    "\n",
    "fyers = fyersModel.FyersModel(client_id=client_id, token=access_token,is_async=False, log_path=\"\")\n",
    "data = {\n",
    "    \"symbol\":\"NSE:NIFTY50-INDEX\",\n",
    "    \"strikecount\":5,\n",
    "    \"timestamp\": \"\"\n",
    "}\n",
    "response = fyers.optionchain(data=data);\n",
    "response"
   ]
  },
  {
   "cell_type": "code",
   "execution_count": 114,
   "id": "eeab8fd7-1cca-42d7-9c25-8bd9e78d41c0",
   "metadata": {},
   "outputs": [],
   "source": [
    "json_data = {\n",
    "    response['data']['optionsChain'][:1][0][\"symbol\"]:{\n",
    "    \"index_name\": response['data']['optionsChain'][:1][0][\"symbol\"],\n",
    "    \"index_price\": round(response['data']['optionsChain'][:1][0][\"ltp\"], 2),\n",
    "    \"index_price_chng\": round(response['data']['optionsChain'][:1][0][\"ltpch\"], 2),\n",
    "    \"index_price_chng_pr\": round(response['data']['optionsChain'][:1][0][\"ltpchp\"], 2),\n",
    "    \"india_vix\": round(response['data']['indiavixData']['ltp'], 2),\n",
    "    \"india_vix_chng\": round(response['data']['indiavixData']['ltpch'], 2),\n",
    "    \"india_vix_chng_pr\": round(response['data']['indiavixData']['ltpchp'], 2),\n",
    "    \"total_put_oi\" : round(response[\"data\"][\"putOi\"], 2),\n",
    "    \"total_call_oi\" : round(response[\"data\"][\"callOi\"], 2),\n",
    "    \"5_call_oi_change\" : round(sum(i['oich'] for i in option_chain if i['option_type'] == \"CE\"), 2),\n",
    "    \"5_put_oi_change\" : round(sum(i['oich'] for i in option_chain if i['option_type'] == \"PE\"), 2),\n",
    "    \"5_call_oi_change_pr\" : round(sum(i['oichp'] for i in option_chain if i['option_type'] == \"CE\"), 2),\n",
    "    \"5_put_oi_change_pr\" : round(sum(i['oichp'] for i in option_chain if i['option_type'] == \"PE\"), 2),\n",
    "    \"5_pcr_oi\" : round(response[\"data\"][\"putOi\"]/response[\"data\"][\"putOi\"], 2),\n",
    "    \"5_pcr_volume\" : round(sum(i['volume'] for i in option_chain if i['option_type'] == \"PE\")/sum(i['volume'] for i in option_chain if i['option_type'] == \"CE\"), 2),\n",
    "    \"5_pcr_oi_chng_pr\" : round(sum(i['oichp'] for i in option_chain if i['option_type'] == \"PE\")/sum(i['oichp'] for i in option_chain if i['option_type'] == \"CE\"), 2),\n",
    "    \"5_total_put_ask\" : round(sum(i['ask'] for i in option_chain if i['option_type'] == \"PE\"), 2),\n",
    "    \"5_total_put_bid\" : round(sum(i['bid'] for i in option_chain if i['option_type'] == \"PE\"), 2),\n",
    "    \"5_total_call_ask\" : round(sum(i['ask'] for i in option_chain if i['option_type'] == \"CE\"), 2),\n",
    "    \"5_total_call_bid\" : round(sum(i['bid'] for i in option_chain if i['option_type'] == \"CE\"), 2),\n",
    "    \"5_total_put_volume\" : round(sum(i['volume'] for i in option_chain if i['option_type'] == \"PE\"), 2),\n",
    "    \"5_total_call_volume\" : round(sum(i['volume'] for i in option_chain if i['option_type'] == \"CE\"), 2)}\n",
    "}\n"
   ]
  },
  {
   "cell_type": "code",
   "execution_count": 115,
   "id": "70dfdd76-1f42-4fe8-baa9-8bb7240ee199",
   "metadata": {},
   "outputs": [
    {
     "data": {
      "text/plain": [
       "{'NSE:NIFTY50-INDEX': {'index_name': 'NSE:NIFTY50-INDEX',\n",
       "  'index_price': 22888.15,\n",
       "  'index_price_chng': -44.3,\n",
       "  'index_price_chng_pr': -0.19,\n",
       "  'india_vix': 24.2,\n",
       "  'india_vix_chng': 1.01,\n",
       "  'india_vix_chng_pr': 4.36,\n",
       "  'total_put_oi': 104965300,\n",
       "  'total_call_oi': 131520400,\n",
       "  '5_call_oi_change': 7799860,\n",
       "  '5_put_oi_change': 800120,\n",
       "  '5_call_oi_change_pr': 281.38,\n",
       "  '5_put_oi_change_pr': 37.6,\n",
       "  '5_pcr_oi': 1.0,\n",
       "  '5_pcr_volume': 1.41,\n",
       "  '5_pcr_oi_chng_pr': 0.13,\n",
       "  '5_total_put_ask': 1290.15,\n",
       "  '5_total_put_bid': 1278.55,\n",
       "  '5_total_call_ask': 1577.4,\n",
       "  '5_total_call_bid': 1565.35,\n",
       "  '5_total_put_volume': 551875725,\n",
       "  '5_total_call_volume': 391514550}}"
      ]
     },
     "execution_count": 115,
     "metadata": {},
     "output_type": "execute_result"
    }
   ],
   "source": [
    "json_data"
   ]
  },
  {
   "cell_type": "code",
   "execution_count": 109,
   "id": "fd0e07ce-6187-4241-bee5-9ba6e6b5959f",
   "metadata": {},
   "outputs": [
    {
     "data": {
      "text/plain": [
       "1.41"
      ]
     },
     "execution_count": 109,
     "metadata": {},
     "output_type": "execute_result"
    }
   ],
   "source": [
    "round(sum(i['volume'] for i in option_chain if i['option_type'] == \"PE\")/sum(i['volume'] for i in option_chain if i['option_type'] == \"CE\"), 2)"
   ]
  },
  {
   "cell_type": "code",
   "execution_count": 107,
   "id": "6b0ceb31-37f2-4cda-935d-0ea0c86e0be3",
   "metadata": {},
   "outputs": [
    {
     "data": {
      "text/plain": [
       "0.7980913987487872"
      ]
     },
     "execution_count": 107,
     "metadata": {},
     "output_type": "execute_result"
    }
   ],
   "source": [
    "response[\"data\"][\"putOi\"]/response[\"data\"][\"callOi\"]"
   ]
  },
  {
   "cell_type": "code",
   "execution_count": 116,
   "id": "44fc1456-90ae-47de-8cb1-ae73a2eefdc4",
   "metadata": {},
   "outputs": [
    {
     "ename": "NameError",
     "evalue": "name 'fyers_apiv3' is not defined",
     "output_type": "error",
     "traceback": [
      "\u001b[1;31m---------------------------------------------------------------------------\u001b[0m",
      "\u001b[1;31mNameError\u001b[0m                                 Traceback (most recent call last)",
      "Cell \u001b[1;32mIn[116], line 1\u001b[0m\n\u001b[1;32m----> 1\u001b[0m \u001b[43mfyers_apiv3\u001b[49m\n",
      "\u001b[1;31mNameError\u001b[0m: name 'fyers_apiv3' is not defined"
     ]
    }
   ],
   "source": [
    "fyers_apiv3"
   ]
  },
  {
   "cell_type": "code",
   "execution_count": 120,
   "id": "3db39a8b-1064-4c75-83b6-418bb9601ab5",
   "metadata": {},
   "outputs": [
    {
     "ename": "NameError",
     "evalue": "name 'fyers_apiv3' is not defined",
     "output_type": "error",
     "traceback": [
      "\u001b[1;31m---------------------------------------------------------------------------\u001b[0m",
      "\u001b[1;31mNameError\u001b[0m                                 Traceback (most recent call last)",
      "Cell \u001b[1;32mIn[120], line 1\u001b[0m\n\u001b[1;32m----> 1\u001b[0m \u001b[43mfyers_apiv3\u001b[49m\u001b[38;5;241m.\u001b[39m__version__\n",
      "\u001b[1;31mNameError\u001b[0m: name 'fyers_apiv3' is not defined"
     ]
    }
   ],
   "source": [
    "fyers_apiv3.__version__"
   ]
  },
  {
   "cell_type": "code",
   "execution_count": null,
   "id": "260b63e3-5e6f-4dee-8c99-086c86715fb5",
   "metadata": {},
   "outputs": [],
   "source": []
  }
 ],
 "metadata": {
  "kernelspec": {
   "display_name": "Python 3 (ipykernel)",
   "language": "python",
   "name": "python3"
  },
  "language_info": {
   "codemirror_mode": {
    "name": "ipython",
    "version": 3
   },
   "file_extension": ".py",
   "mimetype": "text/x-python",
   "name": "python",
   "nbconvert_exporter": "python",
   "pygments_lexer": "ipython3",
   "version": "3.11.3"
  }
 },
 "nbformat": 4,
 "nbformat_minor": 5
}
