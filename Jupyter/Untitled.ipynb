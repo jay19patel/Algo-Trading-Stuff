{
 "cells": [
  {
   "cell_type": "code",
   "execution_count": null,
   "id": "e8ea7d3c-385d-47db-b9c8-6711a875668f",
   "metadata": {},
   "outputs": [],
   "source": [
    "df = pd.DataFrame(data[\"data\"][\"optionsChain\"])\n",
    "df['bid_ask_spread'] = df['ask'] - df['bid']\n",
    "\n",
    "# Filter for Call (CE) options\n",
    "ce_options = df[df['option_type'] == 'CE']\n",
    "\n",
    "# Define weights for each criterion\n",
    "weights = {\n",
    "    'oi': 0.3,\n",
    "    'oich': 0.4,\n",
    "    'volume': 0.2,\n",
    "    'bid_ask_spread': 0.1\n",
    "}\n",
    "\n",
    "# Function to scale values to a range of 0 to 100\n",
    "def scale_to_0_100(df, column):\n",
    "    return (df[column] - df[column].min()) / (df[column].max() - df[column].min()) * 100\n",
    "\n",
    "# Scale values to a range of 0 to 100\n",
    "ce_options['oi_norm'] = scale_to_0_100(ce_options, 'oi')\n",
    "ce_options['oich_norm'] = scale_to_0_100(ce_options, 'oich')\n",
    "ce_options['volume_norm'] = scale_to_0_100(ce_options, 'volume')\n",
    "ce_options['bid_ask_spread_norm'] = scale_to_0_100(ce_options, 'bid_ask_spread')\n",
    "\n",
    "# Calculate weighted score for each option\n",
    "ce_options['score'] = (\n",
    "    ce_options['oi_norm'] * weights['oi'] +\n",
    "    ce_options['oich_norm'] * weights['oich'] +\n",
    "    ce_options['volume_norm'] * weights['volume'] +\n",
    "    ce_options['bid_ask_spread_norm'] * weights['bid_ask_spread']\n",
    ")\n",
    "best_ce_option = ce_options.loc[ce_options['score'].idxmax()]"
   ]
  }
 ],
 "metadata": {
  "kernelspec": {
   "display_name": "Python 3 (ipykernel)",
   "language": "python",
   "name": "python3"
  },
  "language_info": {
   "codemirror_mode": {
    "name": "ipython",
    "version": 3
   },
   "file_extension": ".py",
   "mimetype": "text/x-python",
   "name": "python",
   "nbconvert_exporter": "python",
   "pygments_lexer": "ipython3",
   "version": "3.11.3"
  }
 },
 "nbformat": 4,
 "nbformat_minor": 5
}
