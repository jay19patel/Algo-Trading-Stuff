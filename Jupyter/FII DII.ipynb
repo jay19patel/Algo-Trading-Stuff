{
 "cells": [
  {
   "cell_type": "code",
   "execution_count": 14,
   "id": "b1a1d432-4060-40ad-a828-af9df55d57eb",
   "metadata": {},
   "outputs": [],
   "source": [
    "def GetNseData(url):\n",
    "    headers = {\n",
    "        'Referer': 'https://www.nseindia.com/reports/fii-dii',\n",
    "        'Sec-Ch-Ua': '\"Chromium\";v=\"122\", \"Not(A:Brand\";v=\"24\", \"Microsoft Edge\";v=\"122\"',\n",
    "        'Sec-Ch-Ua-Mobile': '?0',\n",
    "        'Sec-Ch-Ua-Platform': '\"Windows\"',\n",
    "        'Sec-Fetch-Dest': 'empty',\n",
    "        'Sec-Fetch-Mode': 'cors',\n",
    "        'Sec-Fetch-Site': 'same-origin',\n",
    "        'User-Agent': 'Mozilla/5.0 (Windows NT 10.0; Win64; x64) AppleWebKit/537.36 (KHTML, like Gecko) Chrome/122.0.0.0 Safari/537.36 Edg/122.0.0.0not use cookie'\n",
    "    }\n",
    "    response = requests.get(url, headers=headers)\n",
    "    return response.json()"
   ]
  },
  {
   "cell_type": "code",
   "execution_count": 46,
   "id": "80aa7303-d571-4b0b-8c24-3e6140395ba2",
   "metadata": {},
   "outputs": [],
   "source": [
    "data = GetNseData( \"https://www.nseindia.com/api/equity-stockIndices?index=NIFTY%20BANK\")"
   ]
  },
  {
   "cell_type": "code",
   "execution_count": 47,
   "id": "3beeef16-4458-4593-92c3-dfbf5ebcf22b",
   "metadata": {},
   "outputs": [
    {
     "data": {
      "text/plain": [
       "{'declines': '4', 'advances': '8', 'unchanged': '0'}"
      ]
     },
     "execution_count": 47,
     "metadata": {},
     "output_type": "execute_result"
    }
   ],
   "source": [
    "data['advance']"
   ]
  },
  {
   "cell_type": "code",
   "execution_count": 48,
   "id": "5332ac7c-b60b-40dd-bd8b-8dab75116f6e",
   "metadata": {
    "scrolled": true
   },
   "outputs": [],
   "source": [
    "import pandas as pd"
   ]
  },
  {
   "cell_type": "code",
   "execution_count": 54,
   "id": "66ad7dd2-d247-44b5-93c0-2135be00cd9c",
   "metadata": {},
   "outputs": [
    {
     "data": {
      "text/plain": [
       "Index(['priority', 'symbol', 'identifier', 'open', 'dayHigh', 'dayLow',\n",
       "       'lastPrice', 'previousClose', 'change', 'pChange', 'ffmc', 'yearHigh',\n",
       "       'yearLow', 'totalTradedVolume', 'totalTradedValue', 'lastUpdateTime',\n",
       "       'nearWKH', 'nearWKL', 'perChange365d', 'date365dAgo', 'chart365dPath',\n",
       "       'date30dAgo', 'perChange30d', 'chart30dPath', 'chartTodayPath',\n",
       "       'series', 'meta'],\n",
       "      dtype='object')"
      ]
     },
     "execution_count": 54,
     "metadata": {},
     "output_type": "execute_result"
    }
   ],
   "source": [
    "df = pd.DataFrame(data['data'])\n",
    "df.columns"
   ]
  },
  {
   "cell_type": "code",
   "execution_count": 64,
   "id": "3c51827b-ba56-4d5a-aaa7-4ff975fa57b0",
   "metadata": {},
   "outputs": [
    {
     "data": {
      "text/plain": [
       "[{'symbol': 'BANDHANBNK', 'change': -4.75, 'pChange': -2.48},\n",
       " {'symbol': 'AUBANK', 'change': -7.6, 'pChange': -1.17},\n",
       " {'symbol': 'INDUSINDBK', 'change': -8.25, 'pChange': -0.56},\n",
       " {'symbol': 'PNB', 'change': -0.3, 'pChange': -0.23},\n",
       " {'symbol': 'BANKBARODA', 'change': 0.1, 'pChange': 0.04},\n",
       " {'symbol': 'KOTAKBANK', 'change': 2.15, 'pChange': 0.13},\n",
       " {'symbol': 'NIFTY BANK', 'change': 181.0, 'pChange': 0.37},\n",
       " {'symbol': 'HDFCBANK', 'change': 10.0, 'pChange': 0.66},\n",
       " {'symbol': 'SBIN', 'change': 6.25, 'pChange': 0.76},\n",
       " {'symbol': 'FEDERALBNK', 'change': 1.35, 'pChange': 0.85},\n",
       " {'symbol': 'AXISBANK', 'change': 12.25, 'pChange': 1.06},\n",
       " {'symbol': 'IDFCFIRSTB', 'change': 0.95, 'pChange': 1.23},\n",
       " {'symbol': 'ICICIBANK', 'change': 16.0, 'pChange': 1.45}]"
      ]
     },
     "execution_count": 64,
     "metadata": {},
     "output_type": "execute_result"
    }
   ],
   "source": [
    "listofcolumns = ['symbol','change','pChange']\n",
    "df = df[listofcolumns].sort_values(by='pChange')\n",
    "df.to_dict(orient='records')"
   ]
  },
  {
   "cell_type": "code",
   "execution_count": 58,
   "id": "707a1019-1332-4d31-b941-c5d752369c23",
   "metadata": {},
   "outputs": [
    {
     "data": {
      "text/plain": [
       "dict_keys(['name', 'advance', 'timestamp', 'data', 'metadata', 'marketStatus', 'date30dAgo', 'date365dAgo'])"
      ]
     },
     "execution_count": 58,
     "metadata": {},
     "output_type": "execute_result"
    }
   ],
   "source": [
    "data.keys()"
   ]
  },
  {
   "cell_type": "code",
   "execution_count": 42,
   "id": "c6c5b0b1-179d-4fbe-8f71-cfef56e6ba9e",
   "metadata": {},
   "outputs": [
    {
     "data": {
      "text/plain": [
       "{'indexName': 'NIFTY 50',\n",
       " 'open': 22617.45,\n",
       " 'high': 22705.75,\n",
       " 'low': 22417,\n",
       " 'previousClose': 22704.7,\n",
       " 'last': 22488.65,\n",
       " 'percChange': -0.95,\n",
       " 'change': -216.04999999999927,\n",
       " 'timeVal': '30-May-2024 21:00:30',\n",
       " 'yearHigh': 23110.8,\n",
       " 'yearLow': 18478.4,\n",
       " 'totalTradedVolume': 373374457,\n",
       " 'totalTradedValue': 329912567749.22,\n",
       " 'ffmc_sum': 994222227.78}"
      ]
     },
     "execution_count": 42,
     "metadata": {},
     "output_type": "execute_result"
    }
   ],
   "source": [
    "data['metadata']"
   ]
  },
  {
   "cell_type": "code",
   "execution_count": null,
   "id": "2879abf7-3808-4305-814f-b4a1145dd42c",
   "metadata": {},
   "outputs": [],
   "source": []
  }
 ],
 "metadata": {
  "kernelspec": {
   "display_name": "Python 3 (ipykernel)",
   "language": "python",
   "name": "python3"
  },
  "language_info": {
   "codemirror_mode": {
    "name": "ipython",
    "version": 3
   },
   "file_extension": ".py",
   "mimetype": "text/x-python",
   "name": "python",
   "nbconvert_exporter": "python",
   "pygments_lexer": "ipython3",
   "version": "3.11.3"
  }
 },
 "nbformat": 4,
 "nbformat_minor": 5
}
