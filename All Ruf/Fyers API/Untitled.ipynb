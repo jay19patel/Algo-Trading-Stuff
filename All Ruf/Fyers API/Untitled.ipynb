{
 "cells": [
  {
   "cell_type": "code",
   "execution_count": 1,
   "id": "7b2c6a93-ca51-4d1e-bc15-f9e80fe978c9",
   "metadata": {},
   "outputs": [],
   "source": [
    "def Historical_Data(Symbol,TimeFrame):\n",
    "    data = {\n",
    "                \"symbol\":Symbol,\n",
    "                \"resolution\": TimeFrame,\n",
    "                \"date_format\":\"1\",\n",
    "                \"range_from\":(datetime.now() - timedelta(days=1)).strftime('%Y-%m-%d'),\n",
    "                \"range_to\":datetime.now().strftime('%Y-%m-%d'),\n",
    "                \"cont_flag\":\"0\"\n",
    "            }\n",
    "    row_data =  fyers.history(data=data)\n",
    "    df = pd.DataFrame.from_dict(row_data['candles'])\n",
    "    columns_name = ['Datetime','Open','High','Low','Close','Volume']\n",
    "    df.columns = columns_name\n",
    "    df['Datetime'] = pd.to_datetime(df['Datetime'], unit='s')\n",
    "    df['Datetime'] = df['Datetime'].dt.tz_localize(pytz.utc).dt.tz_convert('Asia/Kolkata')\n",
    "    df['Datetime'] = df['Datetime'].dt.tz_localize(None)\n",
    "    return df"
   ]
  },
  {
   "cell_type": "code",
   "execution_count": null,
   "id": "a2b508cc-e7b0-4347-9eac-5a2fa7392c17",
   "metadata": {},
   "outputs": [],
   "source": []
  }
 ],
 "metadata": {
  "kernelspec": {
   "display_name": "Python 3 (ipykernel)",
   "language": "python",
   "name": "python3"
  },
  "language_info": {
   "codemirror_mode": {
    "name": "ipython",
    "version": 3
   },
   "file_extension": ".py",
   "mimetype": "text/x-python",
   "name": "python",
   "nbconvert_exporter": "python",
   "pygments_lexer": "ipython3",
   "version": "3.11.3"
  }
 },
 "nbformat": 4,
 "nbformat_minor": 5
}
