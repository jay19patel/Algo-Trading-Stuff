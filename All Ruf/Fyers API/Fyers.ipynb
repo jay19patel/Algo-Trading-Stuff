{
 "cells": [
  {
   "cell_type": "code",
   "execution_count": 1,
   "id": "06380541-db6c-4fb8-a4b6-b591742d9992",
   "metadata": {},
   "outputs": [],
   "source": [
    "from fyers_apiv3 import fyersModel\n",
    "from datetime import datetime , timedelta\n",
    "import pandas as pd\n",
    "import pytz"
   ]
  },
  {
   "cell_type": "markdown",
   "id": "fb21b355-a9a7-4d28-a7c3-7dc8a47a800a",
   "metadata": {},
   "source": [
    "# Genrate Token"
   ]
  },
  {
   "cell_type": "code",
   "execution_count": 2,
   "id": "89ed54c5-0214-45ae-9b64-5b2baaa45e0b",
   "metadata": {},
   "outputs": [],
   "source": [
    "client_id = \"MACO3YJA7I-100\"  # Replace with your client ID\n",
    "secret_key = \"N7SXUFQG91\"  # Replace with your secret key\n",
    "redirect_uri = \"https://trade.fyers.in/api-login/redirect-uri/index.html\"  # Replace with your redirect URI\n",
    "response_type = \"code\" \n",
    "grant_type = \"authorization_code\"  \n",
    "state = \"sample_state\""
   ]
  },
  {
   "cell_type": "markdown",
   "id": "80c12ebd-d3d0-4496-9b49-b6beaa62ec53",
   "metadata": {},
   "source": [
    "### Genearte Authcode"
   ]
  },
  {
   "cell_type": "code",
   "execution_count": 4,
   "id": "6660df1b-01cc-47a2-963b-f560d62a6f91",
   "metadata": {},
   "outputs": [
    {
     "name": "stdout",
     "output_type": "stream",
     "text": [
      "https://api-t1.fyers.in/api/v3/generate-authcode?client_id=MACO3YJA7I-100&redirect_uri=https%3A%2F%2Ftrade.fyers.in%2Fapi-login%2Fredirect-uri%2Findex.html&response_type=code&state=None\n"
     ]
    }
   ],
   "source": [
    "# # Generate Auth Code\n",
    "session = fyersModel.SessionModel(\n",
    "    client_id=client_id,\n",
    "    secret_key=secret_key,\n",
    "    redirect_uri=redirect_uri,\n",
    "    response_type=response_type\n",
    ")\n",
    "genrate_authcode = session.generate_authcode()\n",
    "print(genrate_authcode)"
   ]
  },
  {
   "cell_type": "code",
   "execution_count": 6,
   "id": "e2c0c65d-d39e-432e-a197-662df9e866ba",
   "metadata": {},
   "outputs": [],
   "source": [
    "auth_code = \"eyJ0eXAiOiJKV1QiLCJhbGciOiJIUzI1NiJ9.eyJpc3MiOiJhcGkubG9naW4uZnllcnMuaW4iLCJpYXQiOjE3MDc4NDQ3NDIsImV4cCI6MTcwNzg3NDc0MiwibmJmIjoxNzA3ODQ0MTQyLCJhdWQiOiJbXCJ4OjBcIiwgXCJ4OjFcIiwgXCJ4OjJcIiwgXCJkOjFcIiwgXCJkOjJcIiwgXCJ4OjFcIiwgXCJ4OjBcIl0iLCJzdWIiOiJhdXRoX2NvZGUiLCJkaXNwbGF5X25hbWUiOiJZSjAwMTI5Iiwib21zIjoiSzEiLCJoc21fa2V5IjoiMjdlMDQ2OGE4MGJkYmVmMGQyYTg3M2MxMmNlN2YyZGEyMjA1NzQ0ZTIwYTg1MDI0YjhlMDA4NDciLCJub25jZSI6IiIsImFwcF9pZCI6Ik1BQ08zWUpBN0kiLCJ1dWlkIjoiZjA1MDZlMDNlNzhjNDI0ZjkyMGZkNjcyZWI5N2NkMmMiLCJpcEFkZHIiOiIwLjAuMC4wIiwic2NvcGUiOiIifQ.W-8B1bH4vETbLcEGwZX8Gh-fWdGgcv7vRCBWDdC3ypQ\""
   ]
  },
  {
   "cell_type": "markdown",
   "id": "139189c8-e555-4a66-9440-dee81ec11ca5",
   "metadata": {},
   "source": [
    "### Set Session & Get TOKEN"
   ]
  },
  {
   "cell_type": "code",
   "execution_count": 7,
   "id": "d184fabc-7aef-4f19-b3d3-a268ec5fd99b",
   "metadata": {},
   "outputs": [],
   "source": [
    "session = fyersModel.SessionModel(\n",
    "    client_id=client_id,\n",
    "    secret_key=secret_key, \n",
    "    redirect_uri=redirect_uri, \n",
    "    response_type=response_type, \n",
    "    grant_type=grant_type\n",
    ")\n",
    "session.set_token(auth_code)\n",
    "response = session.generate_token()\n",
    "access_token = response['access_token']"
   ]
  },
  {
   "cell_type": "code",
   "execution_count": 8,
   "id": "7f413d3d-6877-406a-9894-ad47bddbce77",
   "metadata": {},
   "outputs": [
    {
     "data": {
      "text/plain": [
       "'eyJ0eXAiOiJKV1QiLCJhbGciOiJIUzI1NiJ9.eyJpc3MiOiJhcGkuZnllcnMuaW4iLCJpYXQiOjE3MDc4NDQ3NTksImV4cCI6MTcwNzg3MDYxOSwibmJmIjoxNzA3ODQ0NzU5LCJhdWQiOlsieDowIiwieDoxIiwieDoyIiwiZDoxIiwiZDoyIiwieDoxIiwieDowIl0sInN1YiI6ImFjY2Vzc190b2tlbiIsImF0X2hhc2giOiJnQUFBQUFCbHk2U1hsZjgzYUZ5a1dvSnNZY25CcnRQaUNQZ1BzSGpmdHFZNUktaUdvbWdnTmtWelo2b211N3BxOW5CSUtoU0QzTmwyYnpMX2VibUhJMU1XYW82SXAxMVoxSlBvQ3Q5dlBoLUp1bUl6S3N6eXc1TT0iLCJkaXNwbGF5X25hbWUiOiJKQVlLVU1BUiBESEFOU1VLSEJIQUkgUEFURUwiLCJvbXMiOiJLMSIsImhzbV9rZXkiOiIyN2UwNDY4YTgwYmRiZWYwZDJhODczYzEyY2U3ZjJkYTIyMDU3NDRlMjBhODUwMjRiOGUwMDg0NyIsImZ5X2lkIjoiWUowMDEyOSIsImFwcFR5cGUiOjEwMCwicG9hX2ZsYWciOiJOIn0.8brECH4UrCVQxmwKtpezNAqOzjU2zQ79_O5LwuF2zzo'"
      ]
     },
     "execution_count": 8,
     "metadata": {},
     "output_type": "execute_result"
    }
   ],
   "source": [
    "access_token"
   ]
  },
  {
   "cell_type": "markdown",
   "id": "081109c3-60af-4c1d-8a82-05add70627b7",
   "metadata": {},
   "source": [
    "# Login "
   ]
  },
  {
   "cell_type": "code",
   "execution_count": 10,
   "id": "abf2f4a8-c613-4ebf-82ab-41df04a3262c",
   "metadata": {},
   "outputs": [],
   "source": [
    "access_token= 'eyJ0eXAiOiJKV1QiLCJhbGciOiJIUzI1NiJ9.eyJpc3MiOiJhcGkuZnllcnMuaW4iLCJpYXQiOjE3MDc4NDQ3NTksImV4cCI6MTcwNzg3MDYxOSwibmJmIjoxNzA3ODQ0NzU5LCJhdWQiOlsieDowIiwieDoxIiwieDoyIiwiZDoxIiwiZDoyIiwieDoxIiwieDowIl0sInN1YiI6ImFjY2Vzc190b2tlbiIsImF0X2hhc2giOiJnQUFBQUFCbHk2U1hsZjgzYUZ5a1dvSnNZY25CcnRQaUNQZ1BzSGpmdHFZNUktaUdvbWdnTmtWelo2b211N3BxOW5CSUtoU0QzTmwyYnpMX2VibUhJMU1XYW82SXAxMVoxSlBvQ3Q5dlBoLUp1bUl6S3N6eXc1TT0iLCJkaXNwbGF5X25hbWUiOiJKQVlLVU1BUiBESEFOU1VLSEJIQUkgUEFURUwiLCJvbXMiOiJLMSIsImhzbV9rZXkiOiIyN2UwNDY4YTgwYmRiZWYwZDJhODczYzEyY2U3ZjJkYTIyMDU3NDRlMjBhODUwMjRiOGUwMDg0NyIsImZ5X2lkIjoiWUowMDEyOSIsImFwcFR5cGUiOjEwMCwicG9hX2ZsYWciOiJOIn0.8brECH4UrCVQxmwKtpezNAqOzjU2zQ79_O5LwuF2zzo'"
   ]
  },
  {
   "cell_type": "code",
   "execution_count": 11,
   "id": "1af63a06-1047-4358-9514-110c2477ce38",
   "metadata": {},
   "outputs": [],
   "source": [
    "fyers = fyersModel.FyersModel(client_id=client_id, is_async=False, token=access_token, log_path=\"\")"
   ]
  },
  {
   "cell_type": "code",
   "execution_count": 12,
   "id": "5d0370b1-89a8-4eee-bc63-1a8a84082867",
   "metadata": {},
   "outputs": [
    {
     "data": {
      "text/plain": [
       "{'s': 'ok',\n",
       " 'code': 200,\n",
       " 'message': '',\n",
       " 'data': {'fy_id': 'YJ00129',\n",
       "  'name': 'JAYKUMAR DHANSUKHBHAI PATEL',\n",
       "  'image': None,\n",
       "  'display_name': None,\n",
       "  'pin_change_date': '18-12-2023 16:00:58',\n",
       "  'email_id': 'justjayy19@gmail.com',\n",
       "  'pwd_change_date': None,\n",
       "  'PAN': '---------',\n",
       "  'mobile_number': '7069668308',\n",
       "  'totp': True,\n",
       "  'pwd_to_expire': 90}}"
      ]
     },
     "execution_count": 12,
     "metadata": {},
     "output_type": "execute_result"
    }
   ],
   "source": [
    "fyers.get_profile()"
   ]
  },
  {
   "cell_type": "code",
   "execution_count": 15,
   "id": "d370d4a1-25af-4000-a3af-3ae0be9117d2",
   "metadata": {},
   "outputs": [],
   "source": [
    "def Historical_Data(Symbol,TimeFrame):\n",
    "    data = {\n",
    "                \"symbol\":Symbol,\n",
    "                \"resolution\": TimeFrame,\n",
    "                \"date_format\":\"1\",\n",
    "                \"range_from\":(datetime.now() - timedelta(days=30)).strftime('%Y-%m-%d'),\n",
    "                \"range_to\":datetime.now().strftime('%Y-%m-%d'),\n",
    "                \"cont_flag\":\"0\"\n",
    "            }\n",
    "    row_data =  fyers.history(data=data)\n",
    "    df = pd.DataFrame.from_dict(row_data['candles'])\n",
    "    columns_name = ['Datetime','Open','High','Low','Close','Volume']\n",
    "    df.columns = columns_name\n",
    "    df['Datetime'] = pd.to_datetime(df['Datetime'], unit='s')\n",
    "    df['Datetime'] = df['Datetime'].dt.tz_localize(pytz.utc).dt.tz_convert('Asia/Kolkata')\n",
    "    df['Datetime'] = df['Datetime'].dt.tz_localize(None)\n",
    "    return df\n",
    "\n",
    "Symbol = \"NSE:NIFTYBANK-INDEX\"\n",
    "TimeFrame = \"15\"\n",
    "df = Historical_Data(Symbol,TimeFrame)\n",
    "df.to_csv(\"30day.csv\")"
   ]
  },
  {
   "cell_type": "code",
   "execution_count": 123,
   "id": "4604e4e4-7730-4032-97f4-2ea45bd5a6f6",
   "metadata": {},
   "outputs": [],
   "source": [
    "from ta.trend import EMAIndicator\n",
    "import numpy as np"
   ]
  },
  {
   "cell_type": "code",
   "execution_count": 124,
   "id": "98ddd575-824d-465b-b95d-80d6a6df3411",
   "metadata": {},
   "outputs": [],
   "source": [
    "df['Candle'] = ['Green' if close >= open else 'Red' for close, open in zip(df['Close'], df['Open'])]"
   ]
  },
  {
   "cell_type": "code",
   "execution_count": 125,
   "id": "64789d74-6b9a-4f6d-bb48-c1a56489b8f3",
   "metadata": {},
   "outputs": [],
   "source": [
    "df['15EMA'] = EMAIndicator(close=df['Close'], window=15, fillna=False).ema_indicator()"
   ]
  },
  {
   "cell_type": "code",
   "execution_count": 126,
   "id": "3103598c-ecce-47cf-b4c0-af2cbb282cf8",
   "metadata": {},
   "outputs": [],
   "source": [
    "df['18C_Gap'] = df['Low'] - df['Low'].rolling(window=60).min()"
   ]
  },
  {
   "cell_type": "code",
   "execution_count": 134,
   "id": "64f3d0da-4f11-4e9d-abde-7f98760648b7",
   "metadata": {},
   "outputs": [
    {
     "data": {
      "text/html": [
       "<div>\n",
       "<style scoped>\n",
       "    .dataframe tbody tr th:only-of-type {\n",
       "        vertical-align: middle;\n",
       "    }\n",
       "\n",
       "    .dataframe tbody tr th {\n",
       "        vertical-align: top;\n",
       "    }\n",
       "\n",
       "    .dataframe thead th {\n",
       "        text-align: right;\n",
       "    }\n",
       "</style>\n",
       "<table border=\"1\" class=\"dataframe\">\n",
       "  <thead>\n",
       "    <tr style=\"text-align: right;\">\n",
       "      <th></th>\n",
       "      <th>Datetime</th>\n",
       "      <th>Open</th>\n",
       "      <th>High</th>\n",
       "      <th>Low</th>\n",
       "      <th>Close</th>\n",
       "      <th>Volume</th>\n",
       "      <th>Candle</th>\n",
       "      <th>15EMA</th>\n",
       "      <th>18C_Gap</th>\n",
       "    </tr>\n",
       "  </thead>\n",
       "  <tbody>\n",
       "    <tr>\n",
       "      <th>36</th>\n",
       "      <td>2024-01-12 12:00:00</td>\n",
       "      <td>21835.1</td>\n",
       "      <td>21836.15</td>\n",
       "      <td>21810.65</td>\n",
       "      <td>21827.6</td>\n",
       "      <td>0</td>\n",
       "      <td>Red</td>\n",
       "      <td>21786.185649</td>\n",
       "      <td>216.90</td>\n",
       "    </tr>\n",
       "    <tr>\n",
       "      <th>154</th>\n",
       "      <td>2024-01-19 10:15:00</td>\n",
       "      <td>21638.9</td>\n",
       "      <td>21660.45</td>\n",
       "      <td>21621.95</td>\n",
       "      <td>21660.4</td>\n",
       "      <td>0</td>\n",
       "      <td>Green</td>\n",
       "      <td>21553.773702</td>\n",
       "      <td>203.95</td>\n",
       "    </tr>\n",
       "    <tr>\n",
       "      <th>156</th>\n",
       "      <td>2024-01-19 10:45:00</td>\n",
       "      <td>21645.2</td>\n",
       "      <td>21648.40</td>\n",
       "      <td>21618.50</td>\n",
       "      <td>21623.9</td>\n",
       "      <td>0</td>\n",
       "      <td>Red</td>\n",
       "      <td>21572.550178</td>\n",
       "      <td>200.50</td>\n",
       "    </tr>\n",
       "    <tr>\n",
       "      <th>231</th>\n",
       "      <td>2024-01-24 10:45:00</td>\n",
       "      <td>21367.2</td>\n",
       "      <td>21394.20</td>\n",
       "      <td>21341.35</td>\n",
       "      <td>21369.2</td>\n",
       "      <td>0</td>\n",
       "      <td>Green</td>\n",
       "      <td>21336.977390</td>\n",
       "      <td>204.15</td>\n",
       "    </tr>\n",
       "    <tr>\n",
       "      <th>283</th>\n",
       "      <td>2024-01-29 11:15:00</td>\n",
       "      <td>21634.4</td>\n",
       "      <td>21643.60</td>\n",
       "      <td>21587.10</td>\n",
       "      <td>21633.2</td>\n",
       "      <td>0</td>\n",
       "      <td>Red</td>\n",
       "      <td>21512.109674</td>\n",
       "      <td>337.65</td>\n",
       "    </tr>\n",
       "    <tr>\n",
       "      <th>287</th>\n",
       "      <td>2024-01-29 12:15:00</td>\n",
       "      <td>21662.3</td>\n",
       "      <td>21674.20</td>\n",
       "      <td>21649.85</td>\n",
       "      <td>21657.6</td>\n",
       "      <td>0</td>\n",
       "      <td>Red</td>\n",
       "      <td>21570.759186</td>\n",
       "      <td>400.40</td>\n",
       "    </tr>\n",
       "    <tr>\n",
       "      <th>290</th>\n",
       "      <td>2024-01-29 13:00:00</td>\n",
       "      <td>21701.3</td>\n",
       "      <td>21714.50</td>\n",
       "      <td>21681.15</td>\n",
       "      <td>21705.1</td>\n",
       "      <td>0</td>\n",
       "      <td>Green</td>\n",
       "      <td>21612.482619</td>\n",
       "      <td>414.75</td>\n",
       "    </tr>\n",
       "    <tr>\n",
       "      <th>291</th>\n",
       "      <td>2024-01-29 13:15:00</td>\n",
       "      <td>21705.3</td>\n",
       "      <td>21709.65</td>\n",
       "      <td>21672.85</td>\n",
       "      <td>21681.7</td>\n",
       "      <td>0</td>\n",
       "      <td>Red</td>\n",
       "      <td>21621.134792</td>\n",
       "      <td>333.40</td>\n",
       "    </tr>\n",
       "    <tr>\n",
       "      <th>337</th>\n",
       "      <td>2024-01-31 12:15:00</td>\n",
       "      <td>21717.0</td>\n",
       "      <td>21727.25</td>\n",
       "      <td>21660.35</td>\n",
       "      <td>21677.4</td>\n",
       "      <td>0</td>\n",
       "      <td>Red</td>\n",
       "      <td>21654.206965</td>\n",
       "      <td>211.50</td>\n",
       "    </tr>\n",
       "    <tr>\n",
       "      <th>338</th>\n",
       "      <td>2024-01-31 12:30:00</td>\n",
       "      <td>21677.3</td>\n",
       "      <td>21692.65</td>\n",
       "      <td>21656.65</td>\n",
       "      <td>21669.2</td>\n",
       "      <td>0</td>\n",
       "      <td>Red</td>\n",
       "      <td>21656.081095</td>\n",
       "      <td>207.80</td>\n",
       "    </tr>\n",
       "    <tr>\n",
       "      <th>339</th>\n",
       "      <td>2024-01-31 12:45:00</td>\n",
       "      <td>21668.8</td>\n",
       "      <td>21675.70</td>\n",
       "      <td>21651.55</td>\n",
       "      <td>21667.4</td>\n",
       "      <td>0</td>\n",
       "      <td>Red</td>\n",
       "      <td>21657.495958</td>\n",
       "      <td>202.70</td>\n",
       "    </tr>\n",
       "    <tr>\n",
       "      <th>342</th>\n",
       "      <td>2024-01-31 13:30:00</td>\n",
       "      <td>21698.3</td>\n",
       "      <td>21711.30</td>\n",
       "      <td>21662.75</td>\n",
       "      <td>21680.5</td>\n",
       "      <td>0</td>\n",
       "      <td>Red</td>\n",
       "      <td>21668.289675</td>\n",
       "      <td>213.90</td>\n",
       "    </tr>\n",
       "    <tr>\n",
       "      <th>377</th>\n",
       "      <td>2024-02-02 09:45:00</td>\n",
       "      <td>21939.2</td>\n",
       "      <td>21947.85</td>\n",
       "      <td>21910.85</td>\n",
       "      <td>21924.7</td>\n",
       "      <td>0</td>\n",
       "      <td>Red</td>\n",
       "      <td>21786.579149</td>\n",
       "      <td>252.10</td>\n",
       "    </tr>\n",
       "    <tr>\n",
       "      <th>379</th>\n",
       "      <td>2024-02-02 10:15:00</td>\n",
       "      <td>21937.7</td>\n",
       "      <td>21942.75</td>\n",
       "      <td>21917.85</td>\n",
       "      <td>21938.7</td>\n",
       "      <td>0</td>\n",
       "      <td>Green</td>\n",
       "      <td>21822.134036</td>\n",
       "      <td>243.55</td>\n",
       "    </tr>\n",
       "    <tr>\n",
       "      <th>380</th>\n",
       "      <td>2024-02-02 10:30:00</td>\n",
       "      <td>21938.8</td>\n",
       "      <td>21944.55</td>\n",
       "      <td>21915.95</td>\n",
       "      <td>21925.4</td>\n",
       "      <td>0</td>\n",
       "      <td>Red</td>\n",
       "      <td>21835.042281</td>\n",
       "      <td>241.65</td>\n",
       "    </tr>\n",
       "    <tr>\n",
       "      <th>386</th>\n",
       "      <td>2024-02-02 12:00:00</td>\n",
       "      <td>22081.6</td>\n",
       "      <td>22094.15</td>\n",
       "      <td>22051.45</td>\n",
       "      <td>22058.8</td>\n",
       "      <td>0</td>\n",
       "      <td>Red</td>\n",
       "      <td>21949.569394</td>\n",
       "      <td>377.15</td>\n",
       "    </tr>\n",
       "    <tr>\n",
       "      <th>387</th>\n",
       "      <td>2024-02-02 12:15:00</td>\n",
       "      <td>22058.6</td>\n",
       "      <td>22065.95</td>\n",
       "      <td>21937.10</td>\n",
       "      <td>21937.1</td>\n",
       "      <td>0</td>\n",
       "      <td>Red</td>\n",
       "      <td>21948.010720</td>\n",
       "      <td>262.80</td>\n",
       "    </tr>\n",
       "  </tbody>\n",
       "</table>\n",
       "</div>"
      ],
      "text/plain": [
       "               Datetime     Open      High       Low    Close  Volume Candle  \\\n",
       "36  2024-01-12 12:00:00  21835.1  21836.15  21810.65  21827.6       0    Red   \n",
       "154 2024-01-19 10:15:00  21638.9  21660.45  21621.95  21660.4       0  Green   \n",
       "156 2024-01-19 10:45:00  21645.2  21648.40  21618.50  21623.9       0    Red   \n",
       "231 2024-01-24 10:45:00  21367.2  21394.20  21341.35  21369.2       0  Green   \n",
       "283 2024-01-29 11:15:00  21634.4  21643.60  21587.10  21633.2       0    Red   \n",
       "287 2024-01-29 12:15:00  21662.3  21674.20  21649.85  21657.6       0    Red   \n",
       "290 2024-01-29 13:00:00  21701.3  21714.50  21681.15  21705.1       0  Green   \n",
       "291 2024-01-29 13:15:00  21705.3  21709.65  21672.85  21681.7       0    Red   \n",
       "337 2024-01-31 12:15:00  21717.0  21727.25  21660.35  21677.4       0    Red   \n",
       "338 2024-01-31 12:30:00  21677.3  21692.65  21656.65  21669.2       0    Red   \n",
       "339 2024-01-31 12:45:00  21668.8  21675.70  21651.55  21667.4       0    Red   \n",
       "342 2024-01-31 13:30:00  21698.3  21711.30  21662.75  21680.5       0    Red   \n",
       "377 2024-02-02 09:45:00  21939.2  21947.85  21910.85  21924.7       0    Red   \n",
       "379 2024-02-02 10:15:00  21937.7  21942.75  21917.85  21938.7       0  Green   \n",
       "380 2024-02-02 10:30:00  21938.8  21944.55  21915.95  21925.4       0    Red   \n",
       "386 2024-02-02 12:00:00  22081.6  22094.15  22051.45  22058.8       0    Red   \n",
       "387 2024-02-02 12:15:00  22058.6  22065.95  21937.10  21937.1       0    Red   \n",
       "\n",
       "            15EMA  18C_Gap  \n",
       "36   21786.185649   216.90  \n",
       "154  21553.773702   203.95  \n",
       "156  21572.550178   200.50  \n",
       "231  21336.977390   204.15  \n",
       "283  21512.109674   337.65  \n",
       "287  21570.759186   400.40  \n",
       "290  21612.482619   414.75  \n",
       "291  21621.134792   333.40  \n",
       "337  21654.206965   211.50  \n",
       "338  21656.081095   207.80  \n",
       "339  21657.495958   202.70  \n",
       "342  21668.289675   213.90  \n",
       "377  21786.579149   252.10  \n",
       "379  21822.134036   243.55  \n",
       "380  21835.042281   241.65  \n",
       "386  21949.569394   377.15  \n",
       "387  21948.010720   262.80  "
      ]
     },
     "execution_count": 134,
     "metadata": {},
     "output_type": "execute_result"
    }
   ],
   "source": [
    "df[(df['18C_Gap']>= 200) & (df['Low'].shift(1) > df['Low'])]"
   ]
  },
  {
   "cell_type": "code",
   "execution_count": null,
   "id": "1bf86ec9-b4f1-4553-8cdc-56fa870c35a6",
   "metadata": {},
   "outputs": [],
   "source": []
  }
 ],
 "metadata": {
  "kernelspec": {
   "display_name": "Python 3 (ipykernel)",
   "language": "python",
   "name": "python3"
  },
  "language_info": {
   "codemirror_mode": {
    "name": "ipython",
    "version": 3
   },
   "file_extension": ".py",
   "mimetype": "text/x-python",
   "name": "python",
   "nbconvert_exporter": "python",
   "pygments_lexer": "ipython3",
   "version": "3.11.3"
  }
 },
 "nbformat": 4,
 "nbformat_minor": 5
}
