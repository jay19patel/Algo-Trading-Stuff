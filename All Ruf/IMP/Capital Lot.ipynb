{
 "cells": [
  {
   "cell_type": "code",
   "execution_count": 4,
   "id": "70d0232e-4d4a-4167-88a8-f4b8f7758a4e",
   "metadata": {},
   "outputs": [],
   "source": [
    "Capital =5000\n",
    "Tred_Day = 2\n",
    "Charg = 50\n",
    "\n",
    "Tred_capital = round(Capital/Tred_Day,2)\n",
    "Tred_capital_pr = round(Tred_capital*100/Capital,2)\n",
    "def Get_Lotsize(price_per_lot):\n",
    "    varinace = 100\n",
    "    quantity_per_lot = 1 \n",
    "    lot_size = int((Tred_capital - Charg - varinace)/(quantity_per_lot*price_per_lot))\n",
    "    print(f\"Tred_Capital :{Tred_capital} ({Tred_capital_pr}) | Lot Size : {lot_size} Price : {price_per_lot}\")\n",
    "    return lot_size"
   ]
  },
  {
   "cell_type": "code",
   "execution_count": 5,
   "id": "fbe6c9da-d09e-4357-9bb9-a9a7e8ff229e",
   "metadata": {},
   "outputs": [
    {
     "name": "stdout",
     "output_type": "stream",
     "text": [
      "Tred_Capital :2500.0 (50.0) | Lot Size : 19 Price : 120\n"
     ]
    },
    {
     "data": {
      "text/plain": [
       "19"
      ]
     },
     "execution_count": 5,
     "metadata": {},
     "output_type": "execute_result"
    }
   ],
   "source": [
    "Get_Lotsize(120)"
   ]
  },
  {
   "cell_type": "code",
   "execution_count": 6,
   "id": "1d5ef17d-64b8-4492-b787-0fa4c69da87b",
   "metadata": {},
   "outputs": [
    {
     "data": {
      "text/plain": [
       "2280"
      ]
     },
     "execution_count": 6,
     "metadata": {},
     "output_type": "execute_result"
    }
   ],
   "source": []
  },
  {
   "cell_type": "code",
   "execution_count": null,
   "id": "e9a0963b-5510-4530-b046-37bf79764e4f",
   "metadata": {},
   "outputs": [],
   "source": []
  }
 ],
 "metadata": {
  "kernelspec": {
   "display_name": "Python 3 (ipykernel)",
   "language": "python",
   "name": "python3"
  },
  "language_info": {
   "codemirror_mode": {
    "name": "ipython",
    "version": 3
   },
   "file_extension": ".py",
   "mimetype": "text/x-python",
   "name": "python",
   "nbconvert_exporter": "python",
   "pygments_lexer": "ipython3",
   "version": "3.11.3"
  }
 },
 "nbformat": 4,
 "nbformat_minor": 5
}
