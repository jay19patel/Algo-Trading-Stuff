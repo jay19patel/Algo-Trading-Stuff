{
 "cells": [
  {
   "cell_type": "code",
   "execution_count": 1,
   "id": "9fb1c957-8705-480a-9581-917c0abb50a5",
   "metadata": {},
   "outputs": [],
   "source": [
    "import requests\n",
    "\n",
    "# all_category  = [\"business\",\"entertainment\",\"general\",\"health\",\"science\",\"sports\",\"technology\"] \n",
    "all_category  = [\"business\",\"general\",\"health\"] \n",
    "all_news = []\n",
    "\n",
    "def get_news(category):\n",
    "    country='in'\n",
    "    api_key = '3926dac0bdc647a89d77c5510720ff04'\n",
    "    endpoint_url = 'https://newsapi.org/v2/top-headlines'\n",
    "\n",
    "    # Set parameters for the request\n",
    "    params = {\n",
    "        'apiKey': api_key,\n",
    "        'country': country,\n",
    "        'category': category\n",
    "    }\n",
    "\n",
    "    response = requests.get(endpoint_url, params=params)\n",
    "    if response.status_code == 200:\n",
    "        news_data = response.json()\n",
    "\n",
    "        # Extract and print news articles\n",
    "        articles = news_data.get('articles', [])\n",
    "        for idx, article in enumerate(articles, start=1):\n",
    "            all_news.append(f\"{article['title']}{article['description']}\")\n",
    "            # print(\"-----------------------------\")\n",
    "\n",
    "    else:\n",
    "        print(f\"Error: Unable to fetch news. Status Code: {response.status_code}\")\n",
    "\n",
    "if __name__ == \"__main__\":\n",
    "    for category in all_category:\n",
    "        get_news(category)\n"
   ]
  },
  {
   "cell_type": "code",
   "execution_count": 2,
   "id": "130e67d5-f83e-40da-bae4-2b9b14f101e3",
   "metadata": {},
   "outputs": [
    {
     "name": "stdout",
     "output_type": "stream",
     "text": [
      "Positive News Percentage: 53.33%\n",
      "Negative News Percentage: 23.33%\n",
      "Neutral News Percentage: 23.33%\n"
     ]
    }
   ],
   "source": [
    "import nltk\n",
    "from nltk.sentiment import SentimentIntensityAnalyzer\n",
    "\n",
    "# Download the VADER lexicon (if not already downloaded)\n",
    "# nltk.download('vader_lexicon')\n",
    "\n",
    "# Initialize the sentiment analyzer\n",
    "sia = SentimentIntensityAnalyzer()\n",
    "\n",
    "# Counters for positive, negative, and neutral news\n",
    "positive_count = 0\n",
    "negative_count = 0\n",
    "neutral_count = 0\n",
    "\n",
    "# Analyze sentiment for each sentence\n",
    "for sentence in all_news:\n",
    "    if sentence is not None:\n",
    "        sentiment_score = sia.polarity_scores(sentence)['compound']\n",
    "\n",
    "        if sentiment_score >= 0.05:\n",
    "            positive_count += 1\n",
    "        elif sentiment_score <= -0.05:\n",
    "            negative_count += 1\n",
    "        else:\n",
    "            neutral_count += 1\n",
    "\n",
    "total_news = len(all_news)\n",
    "positive_percentage = (positive_count / total_news) * 100\n",
    "negative_percentage = (negative_count / total_news) * 100\n",
    "neutral_percentage = (neutral_count / total_news) * 100\n",
    "\n",
    "# Print results\n",
    "print(f\"Positive News Percentage: {positive_percentage:.2f}%\")\n",
    "print(f\"Negative News Percentage: {negative_percentage:.2f}%\")\n",
    "print(f\"Neutral News Percentage: {neutral_percentage:.2f}%\")\n"
   ]
  },
  {
   "cell_type": "raw",
   "id": "65212ca8-97ae-4c63-a51d-930aa890dd8c",
   "metadata": {},
   "source": [
    "Positive News Percentage: 46.67%\n",
    "Negative News Percentage: 28.33%\n",
    "Neutral News Percentage: 25.00%\n",
    "7:15 11/15/2023"
   ]
  },
  {
   "cell_type": "code",
   "execution_count": 3,
   "id": "7a39fe40-c637-4ef2-9cc3-12f21dea9cbb",
   "metadata": {},
   "outputs": [
    {
     "data": {
      "text/plain": [
       "['Bollywood Actress Deepika Padukone Is The New Brand Ambassador Of Hyundai India - CarToq.comIn India, the association of Bollywood celebrities and auto brands is not new. In all these years, we have seen several personalities from Bollywood being signed as brand ambassadors for car companies. The latest in the tradition is the new association betwee…',\n",
       " \"Mumbai redevelopment news: MICL to take up Bollywood actor Aamir Khan's Pali Hill building - MoneycontrolIn a December 29 statement, MICL announced plans to construct 50,000 sqft for sale, targeting a Rs 500 crore topline. The company anticipates developing luxury 4 and 5 BHK apartments.\",\n",
       " \"China's ready to open 'Gate to hell' | Latest News | WION - WIONChina has unveiled its first ocean drilling vessel, the Mengxiang, which is designed to carry out an unprecedented mission: drilling through the Earth's crus...\",\n",
       " 'Big Cut In Fuel Prices Likely Soon, Final Nod Awaited: Sources - News18Sources in the Union Finance Ministry confirmed to News18 that there will be a big cut in fuel prices',\n",
       " \"Uday Kotak gives 'financial guide' on making India a $30 trillion economy - Hindustan TimesBanker and finance specialist Uday Kotak mapped out a financial model through which India can become the world's largest economy by 2047.\",\n",
       " 'Francoise Bettencourt Meyers becomes first woman with $100-billion net worth after L’Oréal SA shares jump to record high | Mint - MintFrancoise Bettencourt Meyers became the first woman to amass a $100 billion fortune, marking another milestone for the heiress and for France’s expanding fashion and cosmetics industries.',\n",
       " \"Vedanta Shares In 2023: 3Ds keep Anil Agarwal's firm in the spotlight - CNBCTV18Shares of Vedanta are down 17% so far in 2023, having been down nearly 30% at one point. This is the second straight year of negative returns for the stock, after having doubled in 2021.\",\n",
       " 'ICICI Bank and Kotak Mahindra Bank hit with hefty GST demand notices - A2Z Taxcorp LLPPrivate sector lenders ICICI Bank Ltd and Kotak Mahindra Bank Ltd on Thursday (December 28) said they have received demand notices from the Goods and Services Tax (GST) Department for ₹26.8 crore and ₹62.3 lakh respectively. ICICI Bank said it has received a …',\n",
       " \"Google settles ₹41,000 crore lawsuit after 'spying' on private browsing data - Hindustan TimesGoogle has been accused of tracking its user data on the Incognito mode, and has settled a hefty lawsuit.\",\n",
       " 'Tata Motors, Mahindra betting big on electric SUVs to take on rivals like Tesla - MoneycontrolElectric SUVs accounted for 1.3 percent of the overall electric passenger vehicles in CY 2018, and the share has risen to 40.8 percent in CY 2023.',\n",
       " 'Azad Engineering extends rally as Abu Dhabi Investment Authority buys 4 lakh shares - MoneycontrolThe investment authority is acquiring shares at a 37 premium over the issue price of Rs 524.',\n",
       " 'Railtel Corporation of India rises 3% on winning order from South Central Railway - MoneycontrolThe RailTel Corporation stock has given a return of 124.47 percent over the last six months. The benchmark Nifty50 index has given a return of 13.50 percent over the same duration.',\n",
       " \"India's Nifty, Sensex hit new record highs tracking global rally - Reuters IndiaNone\",\n",
       " 'Akash Ambani led Reliance Jio now planning to disrupt smart TV market, to launch new… - DNA IndiaMukesh Ambani’s elder son Akash Ambani has revealed that Reliance Jio is working on creating its own operating system for televisions.',\n",
       " 'Tata Coffee merger with Tata Consumer Products, TCPL Beverages set for January 1 - MoneycontrolThe merger of all businesses of Tata Coffee with Tata Consumer Products, was proposed as part of a reorganisation plan',\n",
       " '5 New Hybrid Cars Arriving In 2024 In India - Maruti To Toyota - GaadiWaadi.comHere we have listed the five new cars that are expected to get hybrid powertrain in India in the 2024 calendar year',\n",
       " 'Stocks to Watch today: TCPL, Tata Coffee, PNB, Railtel, BoB, IDFC First Bk - Business StandardStocks to watch today, Friday, December 29, 2023: Tata Consumer, Tata Coffee fixes merger date; Innova Captab to debut; PNB board okays Rs 7,500 crore fund raise and more such stocks in the news today.',\n",
       " \"This PSU has had its best year since 2009 — Is there more to come in 2024? - CNBCTV18With Thursday's surge, Hindustan Copper's shares are up over 50% in the month of December itself. This has been the best month for the stock since February 2021, during which it had gained over 150%.\",\n",
       " 'Innova Captab IPO listing date today. GMP, experts see up to 20% gain for allottees | Mint - MintInnova Captab IPO GMP: Grey market is expecting that Innova Captab IPO listing price would be around  ₹533 apiece levels, say market observers',\n",
       " \"Motilal Oswal highlights this PSU as its top pick for 2024 - CNBCTV18Despite GAIL's capital expenditure growing by 64% over financial year 2024 - 2026, Motilal Oswal expects the company to report free cash flow of ₹4,560 crore in financial year 2026.\",\n",
       " '\"Hindutva Is Hindutva, I\\'m Hindu\": Siddaramaiah Draws BJP Rebuttal - NDTVKarnataka Chief Minister Siddaramaiah kicked up a row Thursday after he claimed a difference between the Hindutva ideology and the Hindu faith.',\n",
       " \"Row over RGV film upsets Mahi's 'Tour' plans!.. - GreatandhraMaverick director Ram Gopal Varma’s latest film 'Vyuham,' is supposed to be aimed at boosting the political image of YSR Congress party president and Andhra Pradesh chief minister Y S Jagan Mohan Reddy.\",\n",
       " 'Microsoft rolls out major Copilot update on Edge for Android, iOS: Details - Business StandardMicrosoft Edge Update: Microsoft Copilot for Edge browser can now summarise YouTube videos and PDF files opened in the browser',\n",
       " '2021 And 2023 Blasts Near Israel Embassy Share Chilling Similarities - NDTVThe explosion near the Israel Embassy in Delhi Tuesday night has striking similarities with the IED blast in the same locality in 2021.',\n",
       " \"Isro in final stages of launching PSLV-C58 with XPoSAT mission on first day of 2024 - India TodayThe XpoSat is India's first\\xa0dedicated polarimetry mission to study the 50 brightest known astrononomical sources in extreme conditions.\",\n",
       " 'ICC punishes India after huge loss vs South Africa, docks two crucial WTC points - Hindustan TimesIndia were docked two crucial ICC World Test Championship points in the opening Test against South Africa for bowling two overs short. | Cricket',\n",
       " 'Nitish Kumar takes over as JD(U) chief after Lalan Singh quits top party post - Hindustan TimesJD(U) national executive meeting underway amid rumours of party president stepping down. | Latest News India',\n",
       " \"Avesh Khan added to India's squad for 2nd Test - BCCIAvesh Khan added to India’s squad for 2nd\\xa0Test\",\n",
       " 'OnePlus Ace 3 Launch in China Soon: Specs and Design Tipped Ahead of Debut Date - The QuintThe OnePlus Ace 3 will make its debut in China soon. Know the leaked specifications, design, and features of the handset here. Read till the end to know the important details.',\n",
       " 'Where to get Praja Palana application forms in Hyderabad for free? - The Siasat DailyMany people queued up in Hyderabad, Telangana districts to obtain Praja Palana application forms and submit them by filling in details.',\n",
       " '‘We need to go save our children’: Residents of Poonch village recall day security forces picked up civilians - The Indian ExpressNone',\n",
       " 'Garena Free Fire Redeem Codes for December 29: Win daily rewards and exciting gifts | Mint - MintGarena Free Fire is a popular battle royale game that offers players the chance to earn exclusive rewards through daily redeem codes. To redeem Garena Free Fire codes, players must log in to their account on the official redemption website and enter the 12-di…',\n",
       " 'PM Modi to unveil project worth ₹15,000 crore in Ayodhya ahead of Ram Lalla Mandir consecration | 10 Updates | Mint - MintPrime Minister Narendra Modi is scheduled to visit Ayodhya on Saturday to inaugurate various projects worth  ₹15,000 crore, including the airport, railway station, highway, and a railway line doubling.',\n",
       " 'Francoise Bettencourt Meyers becomes first woman with $100-billion net worth after L’Oréal SA shares jump to record high | Mint - MintFrancoise Bettencourt Meyers became the first woman to amass a $100 billion fortune, marking another milestone for the heiress and for France’s expanding fashion and cosmetics industries.',\n",
       " \"Ram Mandir in Jan, Abu Dhabi temple in Feb: Shashi Tharoor's poll prediction - Hindustan TimesMessage for 2024 election is very clear that Narendra Modi is Hindu Hriday Samrat, Congress MP Shashi Tharoor said. | Latest News India\",\n",
       " \"US military's space plane X-37B blasts off on a secretive mission - Hindustan TimesU.S. military's X-37B space plane has blasted off on another secretive mission that’s expected to last at least a couple of years.\",\n",
       " 'How do we measure distances across the universe? | Explained - The HinduNone',\n",
       " \"Google settles ₹41,000 crore lawsuit after 'spying' on private browsing data - Hindustan TimesGoogle has been accused of tracking its user data on the Incognito mode, and has settled a hefty lawsuit.\",\n",
       " \"NASA's Juno to flyby Jupiter's moon lo on Dec 30; to generate data on planet's volcanic world - DD NewsDDNews, News, National News, Indian News, Sports News\",\n",
       " \"Vijayakanth death: ‘In politics and cinema, there is no one like him,’ says Rajinikanth | Mint - MintActor and DMDK chief Vijayakanth, fondly known as 'Captain', passed away at the age of 71. He had a successful career in the Tamil film industry before entering politics and implementing revolutionary changes as a member of the Nadigar Sangam.\",\n",
       " '7 reasons why watermelon is great for your skin - MoneycontrolSkincare tips: From hydrating properties to its abundance of vitamins and antioxidants, this juicy fruit offers a multitude of benefits for your skin.',\n",
       " 'Role of nutrition during pregnancy and its direct impact on a newborn - IndiaTimesPregnancy requires meticulous care and attention, including proper nutrition. Adequate intake of macronutrients and micronutrients supports fetal grow',\n",
       " \"Lifestyle tips to get glowing skin: Stress less, meditate more, get sun smart - MoneycontrolBeauty, it is said, runs skin deep. However, it's equally true that glowing, radiant skin reflects your inner health. Your skin mirrors not only outer beauty but also your internal well-being. Achieving healthy, glowing skin isn't just about makeup; it's abou…\",\n",
       " 'Pets may slow cognitive decline - 4 News Now►Subscribe: https://www.youtube.com/4NewsNow ►Website: http://www.kxly.com►Twitter: https://twitter.com/kxly4news►Facebook: https://www.facebook.com/KXLY4News',\n",
       " 'Adding Table Salt To Food May Lead To Chronic Kidney Disease Risk: Study - Zee NewsImpact Of Seasonal Affective Disorder On Pregnant Women - Expert Explains The findings suggest that reducing the frequency of adding salt to foods at the table might be a valuable strategy to lower CKD risk in the general population, Rui Tang, from the Depart…',\n",
       " \"Home remedies: Stop hair fall in winter with coconut oil, onion juice, honey and more - MoneycontrolAs winter sets in, you might notice your hair feeling as fragile as the saying 'splitting hairs' suggests. As you battle against brittle strands and increased hair fall in the colder months, your hair becomes more prone to breakage and dryness, making hair fa…\",\n",
       " \"Garlic Health Benefits in Winter: 5 Reasons to Consume This Magical Herb in Cold Season - India.comGarlic is known as the 'powerhouse of nutrients' because it is high in antioxidants, anti-inflammatory, antiviral, and antibacterial qualities. Here's why you MUST include this her to your Winter diet.\",\n",
       " '[Removed][Removed]',\n",
       " 'Beetroot, the superfood to increase stamina, boost insulin sensitivity, regulate blood pressure - MoneycontrolHealth benefits of beetroot: Bright coloured and earthy in flavour, beetroot is as healthy as it looks. Powered with nitrates, vitamins, and minerals, this crimson-coloured root vegetable is a superhero that that guards you against an array of health woes.',\n",
       " 'Realistic measures to slow down ageing - The Indian ExpressNone',\n",
       " '10 ways to connect with nature for better mental well-being, try outdoor yoga or water therapy - MoneycontrolTaking the time to immerse oneself in the beauty and serenity of nature can bring about transformative changes in our mental health. Here’s how.',\n",
       " 'Calcium crisis: Subtle symptoms you have calcium deficiency- Are you getting enough? - IndiaTimesCalcium is an essential mineral that is crucial in various bodily functions, including bone health, muscle function, blood clotting, and nerve transmission. Human body needs close to 1,000 mg of calcium on a daily basis to meet the requirement of the body to …',\n",
       " 'Cholecystitis: Watch that weight, diet plan to avoid gallbladder inflammation, exercise regularly - MoneycontrolThe gallbladder, located in the upper right part of the abdomen, is a pear-shaped organ responsible for storing and releasing bile (the fluid that aids in the digestion of fats). When the gallbladder gets inflamed, it may result in either acute or chronic cho…',\n",
       " 'Watch out for THESE new Covid symptoms as JN.1 variant cases see a spike - WIONWatch out for THESE new Covid symptoms as JN.1 variant cases see a spike',\n",
       " 'New Affordable Vaccine Can Slash Bad Cholesterol by 30%, Scientists Claim | Weather.com - The Weather ChannelThis innovative vaccine targets the PCSK9 protein, the culprit behind high \"bad\" cholesterol or low density lipoproteins.',\n",
       " 'New Study Blames Alcohol Social Isolation For Risk Of Early-Onset Dementia | TheHealthSite.com - TheHealthSiteModerate alcohol use higher formal education and lower physical frailty were found to be associated with lower risk of incidence of young-onset dementia. TheHealthSite.com',\n",
       " 'Frailty may increase risk of adverse outcomes in RA patients on biologic or targeted-synthetic DMARDs - Medical DialoguesUSA: A recent study published in Arthritis Care & Research has shown frailty to be an important predictor for the risk of serious infections among rheumatoid arthritis (RA) patients treated with...',\n",
       " 'Brain health after COVID-19, pneumonia, heart attack, or critical illness - EurekAlert<p>The findings of this study including 345 participants suggest that post&ndash;COVID-19 brain health was impaired but, overall, no more than the brain health of patients from 3 non&ndash;COVID-19 cohorts of comparable disease severity. Long-term association…',\n",
       " 'The uses of anabolic androgenic steroids among athletes | JMDH - Dove Medical PressHighlighting the molecular mechanisms, physiological processes, and clinical complications arising from the excessive use of AAS among athletes.',\n",
       " 'Mpox: WHO reports 906 new cases from 26 countries in November - India Education DiaryThere has been a global rise in mpox cases with 906 newcases recorded from 26 countries in November, the World Health Organisation (WHO) said.\\xa0This amounts to an increase of 26 per cent compared to cases in October, the WHO said in its latest mo']"
      ]
     },
     "execution_count": 3,
     "metadata": {},
     "output_type": "execute_result"
    }
   ],
   "source": [
    "all_news"
   ]
  },
  {
   "cell_type": "code",
   "execution_count": null,
   "id": "87250bfe-2c52-49a9-a58c-f80d4b58d025",
   "metadata": {},
   "outputs": [],
   "source": []
  },
  {
   "cell_type": "code",
   "execution_count": null,
   "id": "5b37769f",
   "metadata": {},
   "outputs": [],
   "source": []
  },
  {
   "cell_type": "code",
   "execution_count": null,
   "id": "94e25ef3",
   "metadata": {},
   "outputs": [],
   "source": []
  }
 ],
 "metadata": {
  "kernelspec": {
   "display_name": "Python 3 (ipykernel)",
   "language": "python",
   "name": "python3"
  },
  "language_info": {
   "codemirror_mode": {
    "name": "ipython",
    "version": 3
   },
   "file_extension": ".py",
   "mimetype": "text/x-python",
   "name": "python",
   "nbconvert_exporter": "python",
   "pygments_lexer": "ipython3",
   "version": "3.11.3"
  }
 },
 "nbformat": 4,
 "nbformat_minor": 5
}
